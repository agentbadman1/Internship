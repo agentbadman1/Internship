{
 "cells": [
  {
   "cell_type": "code",
   "execution_count": 1,
   "id": "a94be9ed",
   "metadata": {},
   "outputs": [],
   "source": [
    "import selenium\n",
    "import pandas as pd\n",
    "from selenium import webdriver\n",
    "import warnings\n",
    "warnings.filterwarnings(\"ignore\")\n",
    "from selenium.webdriver.common.by import By\n",
    "import time"
   ]
  },
  {
   "cell_type": "code",
   "execution_count": 2,
   "id": "da1abf7c",
   "metadata": {},
   "outputs": [],
   "source": [
    "driver = webdriver.Chrome(r\"chromedriver.exe\")"
   ]
  },
  {
   "cell_type": "code",
   "execution_count": 3,
   "id": "b36fc7e2",
   "metadata": {},
   "outputs": [],
   "source": [
    "driver.get(\"https://www.flipkart.com/\")"
   ]
  },
  {
   "cell_type": "code",
   "execution_count": 4,
   "id": "0a78df68",
   "metadata": {},
   "outputs": [],
   "source": [
    "deny = driver.find_element(By.XPATH,'/html/body/div[2]/div/div/button')\n",
    "deny.click()"
   ]
  },
  {
   "cell_type": "code",
   "execution_count": 5,
   "id": "e7c9292f",
   "metadata": {},
   "outputs": [],
   "source": [
    "search = driver.find_element(By.XPATH,'/html/body/div[1]/div/div[1]/div[1]/div[2]/div[2]/form/div/div/input')\n",
    "search.send_keys(\"sunglasses\")"
   ]
  },
  {
   "cell_type": "code",
   "execution_count": 6,
   "id": "66d230b8",
   "metadata": {},
   "outputs": [],
   "source": [
    "sb = driver.find_element(By.XPATH,'/html/body/div[1]/div/div[1]/div[1]/div[2]/div[2]/form/div/button')\n",
    "sb.click()"
   ]
  },
  {
   "cell_type": "code",
   "execution_count": 7,
   "id": "8a886651",
   "metadata": {},
   "outputs": [],
   "source": [
    "name = []\n",
    "price = []\n",
    "disc = []"
   ]
  },
  {
   "cell_type": "code",
   "execution_count": 8,
   "id": "ceaea75d",
   "metadata": {},
   "outputs": [],
   "source": [
    "for i in range(0,3):\n",
    "    if i==0:\n",
    "        name_tag = driver.find_elements(By.XPATH,'//div[@class=\"_2B099V\"]')\n",
    "        for x in name_tag:\n",
    "            nn = x.text\n",
    "            name.append(nn)\n",
    "        \n",
    "        price_tag = driver.find_elements(By.XPATH,'//div[@class=\"_30jeq3\"]')\n",
    "        for y in price_tag:\n",
    "            pp = y.text\n",
    "            price.append(pp)\n",
    "        \n",
    "        disc_tag = driver.find_elements(By.XPATH,'//div[@class=\"_3Ay6Sb\"]')\n",
    "        for z in disc_tag:\n",
    "            dd = z.text\n",
    "            disc.append(dd)\n",
    "    if i==1:\n",
    "        driver = webdriver.Chrome(r\"chromedriver.exe\")\n",
    "        driver.get(\"https://www.flipkart.com/search?q=sunglasses&otracker=search&otracker1=search&marketplace=FLIPKART&as-show=on&as=off&page=2\")\n",
    "        name_tag = driver.find_elements(By.XPATH,'//div[@class=\"_2B099V\"]')\n",
    "        for x in name_tag:\n",
    "            nn = x.text\n",
    "            name.append(nn)\n",
    "        \n",
    "        price_tag = driver.find_elements(By.XPATH,'//div[@class=\"_30jeq3\"]')\n",
    "        for y in price_tag:\n",
    "            pp = y.text\n",
    "            price.append(pp)\n",
    "        \n",
    "        disc_tag = driver.find_elements(By.XPATH,'//div[@class=\"_3Ay6Sb\"]')\n",
    "        for z in disc_tag:\n",
    "            dd = z.text\n",
    "            disc.append(dd)\n",
    "    if i==2:\n",
    "        driver = webdriver.Chrome(r\"chromedriver.exe\")\n",
    "        driver.get(\"https://www.flipkart.com/search?q=sunglasses&otracker=search&otracker1=search&marketplace=FLIPKART&as-show=on&as=off&page=3\")\n",
    "        name_tag = driver.find_elements(By.XPATH,'//div[@class=\"_2B099V\"]')\n",
    "        for x in name_tag:\n",
    "            nn = x.text\n",
    "            name.append(nn)\n",
    "        \n",
    "        price_tag = driver.find_elements(By.XPATH,'//div[@class=\"_30jeq3\"]')\n",
    "        for y in price_tag:\n",
    "            pp = y.text\n",
    "            price.append(pp)\n",
    "        \n",
    "        disc_tag = driver.find_elements(By.XPATH,'//div[@class=\"_3Ay6Sb\"]')\n",
    "        for z in disc_tag:\n",
    "            dd = z.text\n",
    "            disc.append(dd)\n",
    "        "
   ]
  },
  {
   "cell_type": "code",
   "execution_count": 12,
   "id": "eb38257f",
   "metadata": {},
   "outputs": [],
   "source": [
    "data = pd.DataFrame({\"Name\":name,\"Price\":price,\"Discount\":disc})"
   ]
  },
  {
   "cell_type": "code",
   "execution_count": 13,
   "id": "d0fce15f",
   "metadata": {},
   "outputs": [
    {
     "data": {
      "text/html": [
       "<div>\n",
       "<style scoped>\n",
       "    .dataframe tbody tr th:only-of-type {\n",
       "        vertical-align: middle;\n",
       "    }\n",
       "\n",
       "    .dataframe tbody tr th {\n",
       "        vertical-align: top;\n",
       "    }\n",
       "\n",
       "    .dataframe thead th {\n",
       "        text-align: right;\n",
       "    }\n",
       "</style>\n",
       "<table border=\"1\" class=\"dataframe\">\n",
       "  <thead>\n",
       "    <tr style=\"text-align: right;\">\n",
       "      <th></th>\n",
       "      <th>Name</th>\n",
       "      <th>Price</th>\n",
       "      <th>Discount</th>\n",
       "    </tr>\n",
       "  </thead>\n",
       "  <tbody>\n",
       "    <tr>\n",
       "      <th>0</th>\n",
       "      <td>VINCENT CHASE\\nby Lenskart Polarized, UV Prote...</td>\n",
       "      <td>₹949</td>\n",
       "      <td>52% off</td>\n",
       "    </tr>\n",
       "    <tr>\n",
       "      <th>1</th>\n",
       "      <td>VINCENT CHASE\\nby Lenskart Polarized, UV Prote...</td>\n",
       "      <td>₹899</td>\n",
       "      <td>55% off</td>\n",
       "    </tr>\n",
       "    <tr>\n",
       "      <th>2</th>\n",
       "      <td>Elligator\\nUV Protection Cat-eye, Retro Square...</td>\n",
       "      <td>₹149</td>\n",
       "      <td>75% off</td>\n",
       "    </tr>\n",
       "    <tr>\n",
       "      <th>3</th>\n",
       "      <td>Fastrack\\nUV Protection Wayfarer Sunglasses (F...</td>\n",
       "      <td>₹599</td>\n",
       "      <td>40% off</td>\n",
       "    </tr>\n",
       "    <tr>\n",
       "      <th>4</th>\n",
       "      <td>Fastrack\\nUV Protection Rectangular Sunglasses...</td>\n",
       "      <td>₹499</td>\n",
       "      <td>37% off</td>\n",
       "    </tr>\n",
       "    <tr>\n",
       "      <th>...</th>\n",
       "      <td>...</td>\n",
       "      <td>...</td>\n",
       "      <td>...</td>\n",
       "    </tr>\n",
       "    <tr>\n",
       "      <th>115</th>\n",
       "      <td>ROZZETTA CRAFT\\nUV Protection Spectacle Sungla...</td>\n",
       "      <td>₹399</td>\n",
       "      <td>80% off</td>\n",
       "    </tr>\n",
       "    <tr>\n",
       "      <th>116</th>\n",
       "      <td>Dannilo\\nOthers Spectacle Sunglasses (Free Siz...</td>\n",
       "      <td>₹170</td>\n",
       "      <td>78% off</td>\n",
       "    </tr>\n",
       "    <tr>\n",
       "      <th>117</th>\n",
       "      <td>METRONAUT\\nUV Protection, Gradient Sunglass\\n₹...</td>\n",
       "      <td>₹256</td>\n",
       "      <td>80% off</td>\n",
       "    </tr>\n",
       "    <tr>\n",
       "      <th>118</th>\n",
       "      <td>EYELLUSION\\nUV Protection, Gradient, Riding Gl...</td>\n",
       "      <td>₹159</td>\n",
       "      <td>84% off</td>\n",
       "    </tr>\n",
       "    <tr>\n",
       "      <th>119</th>\n",
       "      <td>Dervin\\nUV Protection Wayfarer Sunglasses (Fre...</td>\n",
       "      <td>₹224</td>\n",
       "      <td>85% off</td>\n",
       "    </tr>\n",
       "  </tbody>\n",
       "</table>\n",
       "<p>120 rows × 3 columns</p>\n",
       "</div>"
      ],
      "text/plain": [
       "                                                  Name Price Discount\n",
       "0    VINCENT CHASE\\nby Lenskart Polarized, UV Prote...  ₹949  52% off\n",
       "1    VINCENT CHASE\\nby Lenskart Polarized, UV Prote...  ₹899  55% off\n",
       "2    Elligator\\nUV Protection Cat-eye, Retro Square...  ₹149  75% off\n",
       "3    Fastrack\\nUV Protection Wayfarer Sunglasses (F...  ₹599  40% off\n",
       "4    Fastrack\\nUV Protection Rectangular Sunglasses...  ₹499  37% off\n",
       "..                                                 ...   ...      ...\n",
       "115  ROZZETTA CRAFT\\nUV Protection Spectacle Sungla...  ₹399  80% off\n",
       "116  Dannilo\\nOthers Spectacle Sunglasses (Free Siz...  ₹170  78% off\n",
       "117  METRONAUT\\nUV Protection, Gradient Sunglass\\n₹...  ₹256  80% off\n",
       "118  EYELLUSION\\nUV Protection, Gradient, Riding Gl...  ₹159  84% off\n",
       "119  Dervin\\nUV Protection Wayfarer Sunglasses (Fre...  ₹224  85% off\n",
       "\n",
       "[120 rows x 3 columns]"
      ]
     },
     "execution_count": 13,
     "metadata": {},
     "output_type": "execute_result"
    }
   ],
   "source": [
    "data"
   ]
  },
  {
   "cell_type": "code",
   "execution_count": null,
   "id": "9b05b6bd",
   "metadata": {},
   "outputs": [],
   "source": []
  }
 ],
 "metadata": {
  "kernelspec": {
   "display_name": "Python 3 (ipykernel)",
   "language": "python",
   "name": "python3"
  },
  "language_info": {
   "codemirror_mode": {
    "name": "ipython",
    "version": 3
   },
   "file_extension": ".py",
   "mimetype": "text/x-python",
   "name": "python",
   "nbconvert_exporter": "python",
   "pygments_lexer": "ipython3",
   "version": "3.9.12"
  }
 },
 "nbformat": 4,
 "nbformat_minor": 5
}
