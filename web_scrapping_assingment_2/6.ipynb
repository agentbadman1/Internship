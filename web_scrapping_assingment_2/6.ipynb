{
 "cells": [
  {
   "cell_type": "code",
   "execution_count": 1,
   "id": "e781d0eb",
   "metadata": {},
   "outputs": [],
   "source": [
    "import selenium\n",
    "import pandas as pd\n",
    "from selenium import webdriver\n",
    "import warnings\n",
    "warnings.filterwarnings(\"ignore\")\n",
    "from selenium.webdriver.common.by import By\n",
    "import time"
   ]
  },
  {
   "cell_type": "code",
   "execution_count": 2,
   "id": "abfe367a",
   "metadata": {},
   "outputs": [],
   "source": [
    "driver = webdriver.Chrome(r\"chromedriver.exe\")"
   ]
  },
  {
   "cell_type": "code",
   "execution_count": 3,
   "id": "f2fd4fe9",
   "metadata": {},
   "outputs": [],
   "source": [
    "driver.get(\"https://www.flipkart.com/\")"
   ]
  },
  {
   "cell_type": "code",
   "execution_count": 4,
   "id": "6df617e8",
   "metadata": {},
   "outputs": [],
   "source": [
    "deny = driver.find_element(By.XPATH,'/html/body/div[2]/div/div/button')\n",
    "deny.click()"
   ]
  },
  {
   "cell_type": "code",
   "execution_count": 5,
   "id": "2ee8bc1d",
   "metadata": {},
   "outputs": [],
   "source": [
    "search = driver.find_element(By.XPATH,'/html/body/div[1]/div/div[1]/div[1]/div[2]/div[2]/form/div/div/input')\n",
    "search.send_keys(\"sneakers\")"
   ]
  },
  {
   "cell_type": "code",
   "execution_count": 6,
   "id": "9d60f6d8",
   "metadata": {},
   "outputs": [],
   "source": [
    "sb = driver.find_element(By.XPATH,'/html/body/div[1]/div/div[1]/div[1]/div[2]/div[2]/form/div/button')\n",
    "sb.click()"
   ]
  },
  {
   "cell_type": "code",
   "execution_count": 7,
   "id": "b03a4a17",
   "metadata": {},
   "outputs": [],
   "source": [
    "brand = []\n",
    "prd = []\n",
    "price = []\n"
   ]
  },
  {
   "cell_type": "code",
   "execution_count": 8,
   "id": "1a586bc9",
   "metadata": {},
   "outputs": [],
   "source": [
    "for i in range(0,3):\n",
    "    if i==0:\n",
    "        name_tag = driver.find_elements(By.XPATH,'//div[@class=\"_2WkVRV\"]')\n",
    "        for x in name_tag:\n",
    "            nn = x.text\n",
    "            brand.append(nn)\n",
    "        \n",
    "        price_tag = driver.find_elements(By.XPATH,'//a[@class=\"IRpwTa\"]')\n",
    "        for y in price_tag:\n",
    "            mm = y.text\n",
    "            prd.append(mm)\n",
    "        \n",
    "        disc_tag = driver.find_elements(By.XPATH,'//div[@class=\"_30jeq3\"]')\n",
    "        for z in disc_tag:\n",
    "            tt = z.text\n",
    "            price.append(tt)\n",
    "            \n",
    "    \n",
    "    if i==1:\n",
    "        driver = webdriver.Chrome(r\"chromedriver.exe\")\n",
    "        driver.get(\"https://www.flipkart.com/search?q=sneakers&otracker=search&otracker1=search&marketplace=FLIPKART&as-show=on&as=off&page=2\")\n",
    "        name_tag = driver.find_elements(By.XPATH,'//div[@class=\"_2WkVRV\"]')\n",
    "        for x in name_tag:\n",
    "            nn = x.text\n",
    "            brand.append(nn)\n",
    "        \n",
    "        price_tag = driver.find_elements(By.XPATH,'//a[@class=\"IRpwTa\"]')\n",
    "        for y in price_tag:\n",
    "            mm = y.text\n",
    "            prd.append(mm)\n",
    "        \n",
    "        disc_tag = driver.find_elements(By.XPATH,'//div[@class=\"_30jeq3\"]')\n",
    "        for z in disc_tag:\n",
    "            tt = z.text\n",
    "            price.append(tt)\n",
    "            \n",
    "    if i==2:\n",
    "        driver = webdriver.Chrome(r\"chromedriver.exe\")\n",
    "        driver.get(\"https://www.flipkart.com/search?q=sneakers&otracker=search&otracker1=search&marketplace=FLIPKART&as-show=on&as=off&page=3\")\n",
    "        name_tag = driver.find_elements(By.XPATH,'//div[@class=\"_2WkVRV\"]')\n",
    "        for x in name_tag:\n",
    "            nn = x.text\n",
    "            brand.append(nn)\n",
    "        \n",
    "        price_tag = driver.find_elements(By.XPATH,'//a[@class=\"IRpwTa\"]')\n",
    "        for y in price_tag:\n",
    "            mm = y.text\n",
    "            prd.append(mm)\n",
    "        \n",
    "        disc_tag = driver.find_elements(By.XPATH,'//div[@class=\"_30jeq3\"]')\n",
    "        for z in disc_tag:\n",
    "            tt = z.text\n",
    "            price.append(tt)"
   ]
  },
  {
   "cell_type": "code",
   "execution_count": 9,
   "id": "ed3a8243",
   "metadata": {},
   "outputs": [],
   "source": [
    "brand = brand[:100]\n",
    "prd = prd[:100]\n",
    "price = price[:100]\n"
   ]
  },
  {
   "cell_type": "code",
   "execution_count": 11,
   "id": "ef4f47d1",
   "metadata": {},
   "outputs": [],
   "source": [
    "data = pd.DataFrame({\"NAME\":brand,\"Product Description\":prd,\"Price\":price})"
   ]
  },
  {
   "cell_type": "code",
   "execution_count": 12,
   "id": "e2f3ed09",
   "metadata": {},
   "outputs": [
    {
     "data": {
      "text/html": [
       "<div>\n",
       "<style scoped>\n",
       "    .dataframe tbody tr th:only-of-type {\n",
       "        vertical-align: middle;\n",
       "    }\n",
       "\n",
       "    .dataframe tbody tr th {\n",
       "        vertical-align: top;\n",
       "    }\n",
       "\n",
       "    .dataframe thead th {\n",
       "        text-align: right;\n",
       "    }\n",
       "</style>\n",
       "<table border=\"1\" class=\"dataframe\">\n",
       "  <thead>\n",
       "    <tr style=\"text-align: right;\">\n",
       "      <th></th>\n",
       "      <th>NAME</th>\n",
       "      <th>Product Description</th>\n",
       "      <th>Price</th>\n",
       "    </tr>\n",
       "  </thead>\n",
       "  <tbody>\n",
       "    <tr>\n",
       "      <th>0</th>\n",
       "      <td>World Wear Footwear</td>\n",
       "      <td>Sneakers For Men</td>\n",
       "      <td>₹259</td>\n",
       "    </tr>\n",
       "    <tr>\n",
       "      <th>1</th>\n",
       "      <td>aadi</td>\n",
       "      <td>Mesh |Lightweight|Comfort|Summer|Trendy|Walkin...</td>\n",
       "      <td>₹359</td>\n",
       "    </tr>\n",
       "    <tr>\n",
       "      <th>2</th>\n",
       "      <td>World Wear Footwear</td>\n",
       "      <td>5011-Latest Collection Stylish &amp; Trendy Casual...</td>\n",
       "      <td>₹199</td>\n",
       "    </tr>\n",
       "    <tr>\n",
       "      <th>3</th>\n",
       "      <td>aadi</td>\n",
       "      <td>Mesh |Lightweight|Comfort|Summer|Trendy|Walkin...</td>\n",
       "      <td>₹282</td>\n",
       "    </tr>\n",
       "    <tr>\n",
       "      <th>4</th>\n",
       "      <td>RED TAPE</td>\n",
       "      <td>Sneakers For Men</td>\n",
       "      <td>₹1,199</td>\n",
       "    </tr>\n",
       "    <tr>\n",
       "      <th>...</th>\n",
       "      <td>...</td>\n",
       "      <td>...</td>\n",
       "      <td>...</td>\n",
       "    </tr>\n",
       "    <tr>\n",
       "      <th>95</th>\n",
       "      <td>PUMA</td>\n",
       "      <td>Sneakers For Men</td>\n",
       "      <td>₹2,587</td>\n",
       "    </tr>\n",
       "    <tr>\n",
       "      <th>96</th>\n",
       "      <td>Skechers</td>\n",
       "      <td>Exclusive Affordable Collection of Trendy &amp; St...</td>\n",
       "      <td>₹3,149</td>\n",
       "    </tr>\n",
       "    <tr>\n",
       "      <th>97</th>\n",
       "      <td>PUMA</td>\n",
       "      <td>LOUVAIN NUBUCK Sneakers For Men</td>\n",
       "      <td>₹1,509</td>\n",
       "    </tr>\n",
       "    <tr>\n",
       "      <th>98</th>\n",
       "      <td>Layasa</td>\n",
       "      <td>Court Royale 2 Next Nature Sneakers For Men</td>\n",
       "      <td>₹399</td>\n",
       "    </tr>\n",
       "    <tr>\n",
       "      <th>99</th>\n",
       "      <td>aadi</td>\n",
       "      <td>Future-04 casual shoes for men | Latest Stylis...</td>\n",
       "      <td>₹499</td>\n",
       "    </tr>\n",
       "  </tbody>\n",
       "</table>\n",
       "<p>100 rows × 3 columns</p>\n",
       "</div>"
      ],
      "text/plain": [
       "                   NAME                                Product Description  \\\n",
       "0   World Wear Footwear                                   Sneakers For Men   \n",
       "1                  aadi  Mesh |Lightweight|Comfort|Summer|Trendy|Walkin...   \n",
       "2   World Wear Footwear  5011-Latest Collection Stylish & Trendy Casual...   \n",
       "3                  aadi  Mesh |Lightweight|Comfort|Summer|Trendy|Walkin...   \n",
       "4              RED TAPE                                   Sneakers For Men   \n",
       "..                  ...                                                ...   \n",
       "95                 PUMA                                   Sneakers For Men   \n",
       "96             Skechers  Exclusive Affordable Collection of Trendy & St...   \n",
       "97                 PUMA                    LOUVAIN NUBUCK Sneakers For Men   \n",
       "98               Layasa        Court Royale 2 Next Nature Sneakers For Men   \n",
       "99                 aadi  Future-04 casual shoes for men | Latest Stylis...   \n",
       "\n",
       "     Price  \n",
       "0     ₹259  \n",
       "1     ₹359  \n",
       "2     ₹199  \n",
       "3     ₹282  \n",
       "4   ₹1,199  \n",
       "..     ...  \n",
       "95  ₹2,587  \n",
       "96  ₹3,149  \n",
       "97  ₹1,509  \n",
       "98    ₹399  \n",
       "99    ₹499  \n",
       "\n",
       "[100 rows x 3 columns]"
      ]
     },
     "execution_count": 12,
     "metadata": {},
     "output_type": "execute_result"
    }
   ],
   "source": [
    "data"
   ]
  },
  {
   "cell_type": "code",
   "execution_count": null,
   "id": "786ded33",
   "metadata": {},
   "outputs": [],
   "source": []
  }
 ],
 "metadata": {
  "kernelspec": {
   "display_name": "Python 3 (ipykernel)",
   "language": "python",
   "name": "python3"
  },
  "language_info": {
   "codemirror_mode": {
    "name": "ipython",
    "version": 3
   },
   "file_extension": ".py",
   "mimetype": "text/x-python",
   "name": "python",
   "nbconvert_exporter": "python",
   "pygments_lexer": "ipython3",
   "version": "3.9.12"
  }
 },
 "nbformat": 4,
 "nbformat_minor": 5
}
