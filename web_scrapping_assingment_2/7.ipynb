{
 "cells": [
  {
   "cell_type": "code",
   "execution_count": 1,
   "id": "bf0ed6eb",
   "metadata": {},
   "outputs": [],
   "source": [
    "import selenium\n",
    "import pandas as pd\n",
    "from selenium import webdriver\n",
    "import warnings\n",
    "warnings.filterwarnings(\"ignore\")\n",
    "from selenium.webdriver.common.by import By\n",
    "import time"
   ]
  },
  {
   "cell_type": "code",
   "execution_count": 2,
   "id": "6c8517b9",
   "metadata": {},
   "outputs": [],
   "source": [
    "driver = webdriver.Chrome(r\"chromedriver.exe\")"
   ]
  },
  {
   "cell_type": "code",
   "execution_count": 3,
   "id": "b28a8629",
   "metadata": {},
   "outputs": [],
   "source": [
    "driver.get(\"https://www.amazon.in/\")"
   ]
  },
  {
   "cell_type": "code",
   "execution_count": 4,
   "id": "279be650",
   "metadata": {},
   "outputs": [],
   "source": [
    "search = driver.find_element(By.XPATH,\"/html/body/div[1]/header/div/div[1]/div[2]/div/form/div[2]/div[1]/input\")\n",
    "search.send_keys(\"Laptop\")"
   ]
  },
  {
   "cell_type": "code",
   "execution_count": 5,
   "id": "59ed78e7",
   "metadata": {},
   "outputs": [],
   "source": [
    "find = driver.find_element(By.XPATH,\"/html/body/div[1]/header/div/div[1]/div[2]/div/form/div[3]/div\")\n",
    "find.click()"
   ]
  },
  {
   "cell_type": "code",
   "execution_count": 6,
   "id": "6e22ea95",
   "metadata": {},
   "outputs": [],
   "source": [
    "filterr = driver.find_element(By.XPATH,\"/html/body/div[1]/div[2]/div[1]/div[2]/div/div[3]/span/div[1]/div/div/div[6]/ul[6]/li[9]/span/a/div\")\n",
    "filterr.click()"
   ]
  },
  {
   "cell_type": "code",
   "execution_count": 7,
   "id": "a24871a1",
   "metadata": {},
   "outputs": [],
   "source": [
    "np = driver.find_element(By.XPATH,'//a[@class=\"s-pagination-item s-pagination-next s-pagination-button s-pagination-separator\"]')\n",
    "np.click()"
   ]
  },
  {
   "cell_type": "code",
   "execution_count": 8,
   "id": "6c91b631",
   "metadata": {},
   "outputs": [],
   "source": [
    "title = []\n",
    "rating = []\n",
    "price = []\n"
   ]
  },
  {
   "cell_type": "code",
   "execution_count": 9,
   "id": "c298297c",
   "metadata": {},
   "outputs": [],
   "source": [
    "title_tag = driver.find_elements(By.XPATH,'//span[@class=\"a-size-medium a-color-base a-text-normal\"]')\n",
    "for j in title_tag[:10]:\n",
    "    tt = j.text\n",
    "    title.append(tt)\n",
    "    \n",
    "rating_tag = driver.find_elements(By.XPATH,'//span[@class=\"a-size-base\"]')\n",
    "for w in rating_tag[:10]:\n",
    "    rating.append(w.text)\n",
    "    \n",
    "price_tag = driver.find_elements(By.XPATH,'//span[@class=\"a-price-whole\"]')\n",
    "for x in price_tag[:10]:\n",
    "    pp = x.text\n",
    "    price.append(pp)"
   ]
  },
  {
   "cell_type": "code",
   "execution_count": 10,
   "id": "b25a214f",
   "metadata": {},
   "outputs": [
    {
     "data": {
      "text/plain": [
       "(10, 10, 10)"
      ]
     },
     "execution_count": 10,
     "metadata": {},
     "output_type": "execute_result"
    }
   ],
   "source": [
    "len(title),len(rating),len(price)"
   ]
  },
  {
   "cell_type": "code",
   "execution_count": 11,
   "id": "a4a9f020",
   "metadata": {},
   "outputs": [],
   "source": [
    "data = pd.DataFrame({\"TITLE\":title,\"RATING\":rating,\"PRICE\":price})"
   ]
  },
  {
   "cell_type": "code",
   "execution_count": 12,
   "id": "95377f7c",
   "metadata": {},
   "outputs": [
    {
     "data": {
      "text/html": [
       "<div>\n",
       "<style scoped>\n",
       "    .dataframe tbody tr th:only-of-type {\n",
       "        vertical-align: middle;\n",
       "    }\n",
       "\n",
       "    .dataframe tbody tr th {\n",
       "        vertical-align: top;\n",
       "    }\n",
       "\n",
       "    .dataframe thead th {\n",
       "        text-align: right;\n",
       "    }\n",
       "</style>\n",
       "<table border=\"1\" class=\"dataframe\">\n",
       "  <thead>\n",
       "    <tr style=\"text-align: right;\">\n",
       "      <th></th>\n",
       "      <th>TITLE</th>\n",
       "      <th>RATING</th>\n",
       "      <th>PRICE</th>\n",
       "    </tr>\n",
       "  </thead>\n",
       "  <tbody>\n",
       "    <tr>\n",
       "      <th>0</th>\n",
       "      <td>Acer Nitro 5 Gaming Laptop Intel core i7 11th ...</td>\n",
       "      <td>4.2</td>\n",
       "      <td>78,990</td>\n",
       "    </tr>\n",
       "    <tr>\n",
       "      <th>1</th>\n",
       "      <td>HP Pavilion x360 11th Gen Intel Core i7 14 inc...</td>\n",
       "      <td>4.2</td>\n",
       "      <td>82,490</td>\n",
       "    </tr>\n",
       "    <tr>\n",
       "      <th>2</th>\n",
       "      <td>ASUS VivoBook S S14 Intel Core i7-1165G7 11th ...</td>\n",
       "      <td>4.4</td>\n",
       "      <td>65,990</td>\n",
       "    </tr>\n",
       "    <tr>\n",
       "      <th>3</th>\n",
       "      <td>(Renewed) HP ProBook 430 G3 6th Gen Intel Core...</td>\n",
       "      <td>3.3</td>\n",
       "      <td>24,999</td>\n",
       "    </tr>\n",
       "    <tr>\n",
       "      <th>4</th>\n",
       "      <td>HP Pavilion 14 11th Gen Intel Core i7 16GB/1TB...</td>\n",
       "      <td>4.4</td>\n",
       "      <td>91,300</td>\n",
       "    </tr>\n",
       "    <tr>\n",
       "      <th>5</th>\n",
       "      <td>Dell G15 5520 Windows 11 Gaming Laptop, Intel ...</td>\n",
       "      <td>3.4</td>\n",
       "      <td>1,02,109</td>\n",
       "    </tr>\n",
       "    <tr>\n",
       "      <th>6</th>\n",
       "      <td>Hp Pavilion 15 12Th Gen Intel Core I7 16Gb Sdr...</td>\n",
       "      <td>3.8</td>\n",
       "      <td>87,490</td>\n",
       "    </tr>\n",
       "    <tr>\n",
       "      <th>7</th>\n",
       "      <td>ASUS TUF Dash F15 (2022), Intel Core i7-12650H...</td>\n",
       "      <td>5.0</td>\n",
       "      <td>94,955</td>\n",
       "    </tr>\n",
       "    <tr>\n",
       "      <th>8</th>\n",
       "      <td>(Renewed) Dell Intel Core i7 7th Gen 14.Inch(3...</td>\n",
       "      <td>5.0</td>\n",
       "      <td>51,995</td>\n",
       "    </tr>\n",
       "    <tr>\n",
       "      <th>9</th>\n",
       "      <td>Lenovo Legion 5 Intel Core i7 11th Gen 15.6\" (...</td>\n",
       "      <td>2.9</td>\n",
       "      <td>94,990</td>\n",
       "    </tr>\n",
       "  </tbody>\n",
       "</table>\n",
       "</div>"
      ],
      "text/plain": [
       "                                               TITLE RATING     PRICE\n",
       "0  Acer Nitro 5 Gaming Laptop Intel core i7 11th ...    4.2    78,990\n",
       "1  HP Pavilion x360 11th Gen Intel Core i7 14 inc...    4.2    82,490\n",
       "2  ASUS VivoBook S S14 Intel Core i7-1165G7 11th ...    4.4    65,990\n",
       "3  (Renewed) HP ProBook 430 G3 6th Gen Intel Core...    3.3    24,999\n",
       "4  HP Pavilion 14 11th Gen Intel Core i7 16GB/1TB...    4.4    91,300\n",
       "5  Dell G15 5520 Windows 11 Gaming Laptop, Intel ...    3.4  1,02,109\n",
       "6  Hp Pavilion 15 12Th Gen Intel Core I7 16Gb Sdr...    3.8    87,490\n",
       "7  ASUS TUF Dash F15 (2022), Intel Core i7-12650H...    5.0    94,955\n",
       "8  (Renewed) Dell Intel Core i7 7th Gen 14.Inch(3...    5.0    51,995\n",
       "9  Lenovo Legion 5 Intel Core i7 11th Gen 15.6\" (...    2.9    94,990"
      ]
     },
     "execution_count": 12,
     "metadata": {},
     "output_type": "execute_result"
    }
   ],
   "source": [
    "data"
   ]
  },
  {
   "cell_type": "code",
   "execution_count": null,
   "id": "c0d22320",
   "metadata": {},
   "outputs": [],
   "source": []
  }
 ],
 "metadata": {
  "kernelspec": {
   "display_name": "Python 3 (ipykernel)",
   "language": "python",
   "name": "python3"
  },
  "language_info": {
   "codemirror_mode": {
    "name": "ipython",
    "version": 3
   },
   "file_extension": ".py",
   "mimetype": "text/x-python",
   "name": "python",
   "nbconvert_exporter": "python",
   "pygments_lexer": "ipython3",
   "version": "3.9.12"
  }
 },
 "nbformat": 4,
 "nbformat_minor": 5
}
