{
 "cells": [
  {
   "cell_type": "code",
   "execution_count": 1,
   "id": "f51bb1e3",
   "metadata": {},
   "outputs": [],
   "source": [
    "import selenium\n",
    "import pandas as pd\n",
    "from selenium import webdriver\n",
    "import warnings\n",
    "warnings.filterwarnings(\"ignore\")\n",
    "from selenium.webdriver.common.by import By\n",
    "import time"
   ]
  },
  {
   "cell_type": "code",
   "execution_count": 2,
   "id": "41372dc6",
   "metadata": {},
   "outputs": [],
   "source": [
    "driver = webdriver.Chrome(r\"chromedriver.exe\")"
   ]
  },
  {
   "cell_type": "code",
   "execution_count": 3,
   "id": "90df6a66",
   "metadata": {},
   "outputs": [],
   "source": [
    "driver.get(\"https://www.azquotes.com/\")"
   ]
  },
  {
   "cell_type": "code",
   "execution_count": 4,
   "id": "b8da7383",
   "metadata": {},
   "outputs": [],
   "source": [
    "tab = driver.find_element(By.XPATH,'/html/body/div[1]/div[1]/div[1]/div/div[3]/ul/li[5]/a')\n",
    "tab.click()"
   ]
  },
  {
   "cell_type": "code",
   "execution_count": 5,
   "id": "56956a81",
   "metadata": {},
   "outputs": [],
   "source": [
    "name = []\n",
    "quote = []\n",
    "typeq = []"
   ]
  },
  {
   "cell_type": "code",
   "execution_count": 7,
   "id": "1be13c24",
   "metadata": {},
   "outputs": [],
   "source": [
    "for i in range(1,11):\n",
    "    if i<=9:\n",
    "        name_tag = driver.find_elements(By.XPATH,'//div[@class=\"author\"]')\n",
    "        for i in name_tag:\n",
    "            nn = i.text\n",
    "            name.append(nn)\n",
    "        \n",
    "        quote_tag = driver.find_elements(By.XPATH,'//a[@class=\"title\"]')\n",
    "        for i in quote_tag:\n",
    "            qq = i.text\n",
    "            quote.append(qq)\n",
    "        \n",
    "        typeq_tag = driver.find_elements(By.XPATH,'//div[@class=\"tags\"]')\n",
    "        for i in typeq_tag:\n",
    "            tt = i.text\n",
    "            typeq.append(tt)\n",
    "        \n",
    "    \n",
    "        next_p = driver.find_element(By.XPATH,'//li[@class=\"next\"]')\n",
    "        next_p.click()  \n",
    "        time.sleep(3)\n",
    "    else:\n",
    "        name_tag = driver.find_elements(By.XPATH,'//div[@class=\"author\"]')\n",
    "        for i in name_tag:\n",
    "            nn = i.text\n",
    "            name.append(nn)\n",
    "        \n",
    "        quote_tag = driver.find_elements(By.XPATH,'//a[@class=\"title\"]')\n",
    "        for i in quote_tag:\n",
    "            qq = i.text\n",
    "            quote.append(qq)\n",
    "        \n",
    "        typeq_tag = driver.find_elements(By.XPATH,'//div[@class=\"tags\"]')\n",
    "        for i in typeq_tag:\n",
    "            tt = i.text\n",
    "            typeq.append(tt)\n",
    "    "
   ]
  },
  {
   "cell_type": "code",
   "execution_count": 8,
   "id": "6cea1e56",
   "metadata": {},
   "outputs": [
    {
     "data": {
      "text/plain": [
       "(1000, 1000, 1000)"
      ]
     },
     "execution_count": 8,
     "metadata": {},
     "output_type": "execute_result"
    }
   ],
   "source": [
    "len(name),len(quote),len(typeq)"
   ]
  },
  {
   "cell_type": "code",
   "execution_count": 12,
   "id": "c0d0a836",
   "metadata": {},
   "outputs": [],
   "source": [
    "data = pd.DataFrame({\"Name\":name,\"Quote\":quote,\"Quote Type\":typeq})"
   ]
  },
  {
   "cell_type": "code",
   "execution_count": 13,
   "id": "6ccb39f4",
   "metadata": {},
   "outputs": [
    {
     "data": {
      "text/html": [
       "<div>\n",
       "<style scoped>\n",
       "    .dataframe tbody tr th:only-of-type {\n",
       "        vertical-align: middle;\n",
       "    }\n",
       "\n",
       "    .dataframe tbody tr th {\n",
       "        vertical-align: top;\n",
       "    }\n",
       "\n",
       "    .dataframe thead th {\n",
       "        text-align: right;\n",
       "    }\n",
       "</style>\n",
       "<table border=\"1\" class=\"dataframe\">\n",
       "  <thead>\n",
       "    <tr style=\"text-align: right;\">\n",
       "      <th></th>\n",
       "      <th>Name</th>\n",
       "      <th>Quote</th>\n",
       "      <th>Quote Type</th>\n",
       "    </tr>\n",
       "  </thead>\n",
       "  <tbody>\n",
       "    <tr>\n",
       "      <th>0</th>\n",
       "      <td>Michael Porter</td>\n",
       "      <td>The essence of strategy is choosing what not t...</td>\n",
       "      <td>Essence, Deep Thought, Transcendentalism</td>\n",
       "    </tr>\n",
       "    <tr>\n",
       "      <th>1</th>\n",
       "      <td>Golda Meir</td>\n",
       "      <td>One cannot and must not try to erase the past ...</td>\n",
       "      <td>Inspiration, Past, Trying</td>\n",
       "    </tr>\n",
       "    <tr>\n",
       "      <th>2</th>\n",
       "      <td>Theodore Roosevelt</td>\n",
       "      <td>Patriotism means to stand by the country. It d...</td>\n",
       "      <td>Country, Peace, War</td>\n",
       "    </tr>\n",
       "    <tr>\n",
       "      <th>3</th>\n",
       "      <td>Nelson Mandela</td>\n",
       "      <td>Death is something inevitable. When a man has ...</td>\n",
       "      <td>Inspirational, Motivational, Death</td>\n",
       "    </tr>\n",
       "    <tr>\n",
       "      <th>4</th>\n",
       "      <td>Erma Bombeck</td>\n",
       "      <td>You have to love a nation that celebrates its ...</td>\n",
       "      <td>4th Of July, Food, Patriotic</td>\n",
       "    </tr>\n",
       "    <tr>\n",
       "      <th>...</th>\n",
       "      <td>...</td>\n",
       "      <td>...</td>\n",
       "      <td>...</td>\n",
       "    </tr>\n",
       "    <tr>\n",
       "      <th>995</th>\n",
       "      <td>Sydney J. Harris</td>\n",
       "      <td>Regret for the things we did can be tempered b...</td>\n",
       "      <td>Love, Inspirational, Motivational</td>\n",
       "    </tr>\n",
       "    <tr>\n",
       "      <th>996</th>\n",
       "      <td>Hunter S. Thompson</td>\n",
       "      <td>America... just a nation of two hundred millio...</td>\n",
       "      <td>Gun, Two, Qualms About</td>\n",
       "    </tr>\n",
       "    <tr>\n",
       "      <th>997</th>\n",
       "      <td>Jim Rohn</td>\n",
       "      <td>For every disciplined effort there is a multip...</td>\n",
       "      <td>Inspirational, Greatness, Best Effort</td>\n",
       "    </tr>\n",
       "    <tr>\n",
       "      <th>998</th>\n",
       "      <td>Ram Dass</td>\n",
       "      <td>The spiritual journey is individual, highly pe...</td>\n",
       "      <td>Spiritual, Truth, Yoga</td>\n",
       "    </tr>\n",
       "    <tr>\n",
       "      <th>999</th>\n",
       "      <td>Plutarch</td>\n",
       "      <td>The mind is not a vessel to be filled but a fi...</td>\n",
       "      <td>Inspirational, Leadership, Education</td>\n",
       "    </tr>\n",
       "  </tbody>\n",
       "</table>\n",
       "<p>1000 rows × 3 columns</p>\n",
       "</div>"
      ],
      "text/plain": [
       "                   Name                                              Quote  \\\n",
       "0        Michael Porter  The essence of strategy is choosing what not t...   \n",
       "1            Golda Meir  One cannot and must not try to erase the past ...   \n",
       "2    Theodore Roosevelt  Patriotism means to stand by the country. It d...   \n",
       "3        Nelson Mandela  Death is something inevitable. When a man has ...   \n",
       "4          Erma Bombeck  You have to love a nation that celebrates its ...   \n",
       "..                  ...                                                ...   \n",
       "995    Sydney J. Harris  Regret for the things we did can be tempered b...   \n",
       "996  Hunter S. Thompson  America... just a nation of two hundred millio...   \n",
       "997            Jim Rohn  For every disciplined effort there is a multip...   \n",
       "998            Ram Dass  The spiritual journey is individual, highly pe...   \n",
       "999            Plutarch  The mind is not a vessel to be filled but a fi...   \n",
       "\n",
       "                                   Quote Type  \n",
       "0    Essence, Deep Thought, Transcendentalism  \n",
       "1                   Inspiration, Past, Trying  \n",
       "2                         Country, Peace, War  \n",
       "3          Inspirational, Motivational, Death  \n",
       "4                4th Of July, Food, Patriotic  \n",
       "..                                        ...  \n",
       "995         Love, Inspirational, Motivational  \n",
       "996                    Gun, Two, Qualms About  \n",
       "997     Inspirational, Greatness, Best Effort  \n",
       "998                    Spiritual, Truth, Yoga  \n",
       "999      Inspirational, Leadership, Education  \n",
       "\n",
       "[1000 rows x 3 columns]"
      ]
     },
     "execution_count": 13,
     "metadata": {},
     "output_type": "execute_result"
    }
   ],
   "source": [
    "data"
   ]
  },
  {
   "cell_type": "code",
   "execution_count": null,
   "id": "46ec9bf1",
   "metadata": {},
   "outputs": [],
   "source": []
  }
 ],
 "metadata": {
  "kernelspec": {
   "display_name": "Python 3 (ipykernel)",
   "language": "python",
   "name": "python3"
  },
  "language_info": {
   "codemirror_mode": {
    "name": "ipython",
    "version": 3
   },
   "file_extension": ".py",
   "mimetype": "text/x-python",
   "name": "python",
   "nbconvert_exporter": "python",
   "pygments_lexer": "ipython3",
   "version": "3.9.12"
  }
 },
 "nbformat": 4,
 "nbformat_minor": 5
}
