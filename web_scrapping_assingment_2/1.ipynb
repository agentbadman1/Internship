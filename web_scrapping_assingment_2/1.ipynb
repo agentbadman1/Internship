{
 "cells": [
  {
   "cell_type": "code",
   "execution_count": null,
   "id": "91526ede",
   "metadata": {},
   "outputs": [],
   "source": [
    "import selenium\n",
    "import pandas as pd\n",
    "from selenium import webdriver\n",
    "import warnings\n",
    "warnings.filterwarnings(\"ignore\")\n",
    "from selenium.webdriver.common.by import By\n",
    "import time"
   ]
  },
  {
   "cell_type": "code",
   "execution_count": 2,
   "id": "92e3d4b8",
   "metadata": {},
   "outputs": [],
   "source": [
    "driver = webdriver.Chrome(r\"chromedriver.exe\")"
   ]
  },
  {
   "cell_type": "code",
   "execution_count": 3,
   "id": "b0069a90",
   "metadata": {},
   "outputs": [],
   "source": [
    "driver.get(\"https://www.naukri.com/\")"
   ]
  },
  {
   "cell_type": "code",
   "execution_count": 4,
   "id": "b3c74ad9",
   "metadata": {},
   "outputs": [],
   "source": [
    "designation = driver.find_element(By.CLASS_NAME,\"suggestor-input \")\n",
    "designation.send_keys(\"Data Analyst\")"
   ]
  },
  {
   "cell_type": "code",
   "execution_count": 5,
   "id": "3a13a0fb",
   "metadata": {},
   "outputs": [],
   "source": [
    "location = driver.find_element(By.XPATH,\"/html/body/div[1]/div[6]/div/div/div[5]/div/div/div/input\")\n",
    "location.send_keys(\"Bangalore\")"
   ]
  },
  {
   "cell_type": "code",
   "execution_count": 6,
   "id": "6570bb47",
   "metadata": {},
   "outputs": [],
   "source": [
    "search = driver.find_element(By.CLASS_NAME,\"qsbSubmit\")\n",
    "search.click()"
   ]
  },
  {
   "cell_type": "code",
   "execution_count": 7,
   "id": "9bd61024",
   "metadata": {},
   "outputs": [],
   "source": [
    "title = []\n",
    "location = []\n",
    "company_name = []\n",
    "exp = []"
   ]
  },
  {
   "cell_type": "code",
   "execution_count": 8,
   "id": "b1bb60e2",
   "metadata": {},
   "outputs": [],
   "source": [
    "title_tags = driver.find_elements(By.XPATH,'//a[@class=\"title ellipsis\"]')\n",
    "for i in title_tags:\n",
    "    tit = i.text\n",
    "    title.append(tit)"
   ]
  },
  {
   "cell_type": "code",
   "execution_count": 9,
   "id": "15591f31",
   "metadata": {},
   "outputs": [],
   "source": [
    "location_tags = driver.find_elements(By.XPATH,'//span[@class=\"ellipsis fleft locWdth\"]')\n",
    "for i in location_tags:\n",
    "    loc = i.text\n",
    "    location.append(loc)"
   ]
  },
  {
   "cell_type": "code",
   "execution_count": 10,
   "id": "3879916b",
   "metadata": {},
   "outputs": [],
   "source": [
    "company_tags = driver.find_elements(By.XPATH,'//a[@class=\"subTitle ellipsis fleft\"]')\n",
    "for i in company_tags:\n",
    "    com = i.text\n",
    "    company_name.append(com)"
   ]
  },
  {
   "cell_type": "code",
   "execution_count": 11,
   "id": "7cb91ff7",
   "metadata": {},
   "outputs": [],
   "source": [
    "exp_tags = driver.find_elements(By.XPATH,'//span[@class=\"ellipsis fleft expwdth\"]')\n",
    "for i in exp_tags:\n",
    "    ex = i.text\n",
    "    exp.append(ex)"
   ]
  },
  {
   "cell_type": "code",
   "execution_count": 12,
   "id": "d5931982",
   "metadata": {},
   "outputs": [
    {
     "name": "stdout",
     "output_type": "stream",
     "text": [
      "20 20 20 20\n"
     ]
    }
   ],
   "source": [
    "print(len(title),len(location),len(exp),len(company_name))"
   ]
  },
  {
   "cell_type": "code",
   "execution_count": 13,
   "id": "2720cf26",
   "metadata": {},
   "outputs": [],
   "source": [
    "data = pd.DataFrame({\"Title\":title,\"Location\":location,\"Comapny Name\":company_name,\"Experience\":exp})"
   ]
  },
  {
   "cell_type": "code",
   "execution_count": 14,
   "id": "9cbf71f9",
   "metadata": {
    "scrolled": true
   },
   "outputs": [
    {
     "data": {
      "text/html": [
       "<div>\n",
       "<style scoped>\n",
       "    .dataframe tbody tr th:only-of-type {\n",
       "        vertical-align: middle;\n",
       "    }\n",
       "\n",
       "    .dataframe tbody tr th {\n",
       "        vertical-align: top;\n",
       "    }\n",
       "\n",
       "    .dataframe thead th {\n",
       "        text-align: right;\n",
       "    }\n",
       "</style>\n",
       "<table border=\"1\" class=\"dataframe\">\n",
       "  <thead>\n",
       "    <tr style=\"text-align: right;\">\n",
       "      <th></th>\n",
       "      <th>Title</th>\n",
       "      <th>Location</th>\n",
       "      <th>Comapny Name</th>\n",
       "      <th>Experience</th>\n",
       "    </tr>\n",
       "  </thead>\n",
       "  <tbody>\n",
       "    <tr>\n",
       "      <th>0</th>\n",
       "      <td>Customer Data Analyst</td>\n",
       "      <td>Bangalore/Bengaluru</td>\n",
       "      <td>Oracle</td>\n",
       "      <td>1-4 Yrs</td>\n",
       "    </tr>\n",
       "    <tr>\n",
       "      <th>1</th>\n",
       "      <td>Business Data Analysts (People &amp; Culture)</td>\n",
       "      <td>Bangalore/Bengaluru</td>\n",
       "      <td>Zscaler Softech</td>\n",
       "      <td>5-6 Yrs</td>\n",
       "    </tr>\n",
       "    <tr>\n",
       "      <th>2</th>\n",
       "      <td>Data Analyst- PYTHON+SCALA</td>\n",
       "      <td>Bangalore/Bengaluru</td>\n",
       "      <td>Capco</td>\n",
       "      <td>3-7 Yrs</td>\n",
       "    </tr>\n",
       "    <tr>\n",
       "      <th>3</th>\n",
       "      <td>Job Opportunity with Leading MNC - Senior Data...</td>\n",
       "      <td>Bangalore/Bengaluru</td>\n",
       "      <td>Enrich And Enlight Business Consulting</td>\n",
       "      <td>5-7 Yrs</td>\n",
       "    </tr>\n",
       "    <tr>\n",
       "      <th>4</th>\n",
       "      <td>Data Analyst</td>\n",
       "      <td>Bangalore/Bengaluru</td>\n",
       "      <td>Alp Consulting</td>\n",
       "      <td>4-5 Yrs</td>\n",
       "    </tr>\n",
       "    <tr>\n",
       "      <th>5</th>\n",
       "      <td>Senior Data Analyst - DC</td>\n",
       "      <td>Bangalore/Bengaluru</td>\n",
       "      <td>Boston Consulting Group</td>\n",
       "      <td>4-6 Yrs</td>\n",
       "    </tr>\n",
       "    <tr>\n",
       "      <th>6</th>\n",
       "      <td>Data Analyst/Sr Data Analyst</td>\n",
       "      <td>Bangalore/Bengaluru</td>\n",
       "      <td>Adecco Group</td>\n",
       "      <td>1-4 Yrs</td>\n",
       "    </tr>\n",
       "    <tr>\n",
       "      <th>7</th>\n",
       "      <td>Manager/Senior Manager - Data Analyst</td>\n",
       "      <td>Bangalore/Bengaluru, Mumbai, Hyderabad/Secunde...</td>\n",
       "      <td>Huquo Consulting Pvt. Ltd</td>\n",
       "      <td>2-7 Yrs</td>\n",
       "    </tr>\n",
       "    <tr>\n",
       "      <th>8</th>\n",
       "      <td>Croma - Data Analyst - Mumbai / Bangalore</td>\n",
       "      <td>Hybrid - Bangalore/Bengaluru, Mumbai</td>\n",
       "      <td>Croma</td>\n",
       "      <td>4-9 Yrs</td>\n",
       "    </tr>\n",
       "    <tr>\n",
       "      <th>9</th>\n",
       "      <td>Data Analyst-Pyspark</td>\n",
       "      <td>Hybrid - Bangalore/Bengaluru, Hyderabad/Secund...</td>\n",
       "      <td>Capco</td>\n",
       "      <td>7-12 Yrs</td>\n",
       "    </tr>\n",
       "    <tr>\n",
       "      <th>10</th>\n",
       "      <td>Data Analyst</td>\n",
       "      <td>Bangalore/Bengaluru, Hyderabad/Secunderabad</td>\n",
       "      <td>Capco</td>\n",
       "      <td>6-11 Yrs</td>\n",
       "    </tr>\n",
       "    <tr>\n",
       "      <th>11</th>\n",
       "      <td>Translation - Data Analyst</td>\n",
       "      <td>Bangalore/Bengaluru</td>\n",
       "      <td>Avery Dennison</td>\n",
       "      <td>3-6 Yrs</td>\n",
       "    </tr>\n",
       "    <tr>\n",
       "      <th>12</th>\n",
       "      <td>Sr. Data Analyst</td>\n",
       "      <td>Bangalore/Bengaluru, Chennai</td>\n",
       "      <td>Bizanalytica Solution Llp</td>\n",
       "      <td>4-9 Yrs</td>\n",
       "    </tr>\n",
       "    <tr>\n",
       "      <th>13</th>\n",
       "      <td>Senior Data Analyst III</td>\n",
       "      <td>Bangalore/Bengaluru</td>\n",
       "      <td>Flipkart</td>\n",
       "      <td>7-12 Yrs</td>\n",
       "    </tr>\n",
       "    <tr>\n",
       "      <th>14</th>\n",
       "      <td>Assistant Manager / Lead / Manager - Data Anal...</td>\n",
       "      <td>Bangalore/Bengaluru, Gurgaon/Gurugram</td>\n",
       "      <td>Huquo Consulting Pvt. Ltd</td>\n",
       "      <td>2-6 Yrs</td>\n",
       "    </tr>\n",
       "    <tr>\n",
       "      <th>15</th>\n",
       "      <td>OTA - Data Analyst</td>\n",
       "      <td>Permanent Remote</td>\n",
       "      <td>Treebo Hotels</td>\n",
       "      <td>1-4 Yrs</td>\n",
       "    </tr>\n",
       "    <tr>\n",
       "      <th>16</th>\n",
       "      <td>Healthcare Research and Data Analyst</td>\n",
       "      <td>Bangalore/Bengaluru</td>\n",
       "      <td>CPA Global</td>\n",
       "      <td>2-5 Yrs</td>\n",
       "    </tr>\n",
       "    <tr>\n",
       "      <th>17</th>\n",
       "      <td>Senior Analyst - Data Management</td>\n",
       "      <td>Bangalore/Bengaluru</td>\n",
       "      <td>Accenture</td>\n",
       "      <td>5-8 Yrs</td>\n",
       "    </tr>\n",
       "    <tr>\n",
       "      <th>18</th>\n",
       "      <td>Data Analyst , Data Analytics</td>\n",
       "      <td>Bangalore/Bengaluru</td>\n",
       "      <td>Cardinal Drugs Ltd.</td>\n",
       "      <td>3-8 Yrs</td>\n",
       "    </tr>\n",
       "    <tr>\n",
       "      <th>19</th>\n",
       "      <td>HR Data Analyst</td>\n",
       "      <td>Hybrid - Bangalore/Bengaluru</td>\n",
       "      <td>Walmart</td>\n",
       "      <td>2-5 Yrs</td>\n",
       "    </tr>\n",
       "  </tbody>\n",
       "</table>\n",
       "</div>"
      ],
      "text/plain": [
       "                                                Title  \\\n",
       "0                               Customer Data Analyst   \n",
       "1           Business Data Analysts (People & Culture)   \n",
       "2                          Data Analyst- PYTHON+SCALA   \n",
       "3   Job Opportunity with Leading MNC - Senior Data...   \n",
       "4                                        Data Analyst   \n",
       "5                            Senior Data Analyst - DC   \n",
       "6                        Data Analyst/Sr Data Analyst   \n",
       "7               Manager/Senior Manager - Data Analyst   \n",
       "8           Croma - Data Analyst - Mumbai / Bangalore   \n",
       "9                                Data Analyst-Pyspark   \n",
       "10                                       Data Analyst   \n",
       "11                         Translation - Data Analyst   \n",
       "12                                   Sr. Data Analyst   \n",
       "13                            Senior Data Analyst III   \n",
       "14  Assistant Manager / Lead / Manager - Data Anal...   \n",
       "15                                 OTA - Data Analyst   \n",
       "16               Healthcare Research and Data Analyst   \n",
       "17                   Senior Analyst - Data Management   \n",
       "18                      Data Analyst , Data Analytics   \n",
       "19                                    HR Data Analyst   \n",
       "\n",
       "                                             Location  \\\n",
       "0                                 Bangalore/Bengaluru   \n",
       "1                                 Bangalore/Bengaluru   \n",
       "2                                 Bangalore/Bengaluru   \n",
       "3                                 Bangalore/Bengaluru   \n",
       "4                                 Bangalore/Bengaluru   \n",
       "5                                 Bangalore/Bengaluru   \n",
       "6                                 Bangalore/Bengaluru   \n",
       "7   Bangalore/Bengaluru, Mumbai, Hyderabad/Secunde...   \n",
       "8                Hybrid - Bangalore/Bengaluru, Mumbai   \n",
       "9   Hybrid - Bangalore/Bengaluru, Hyderabad/Secund...   \n",
       "10        Bangalore/Bengaluru, Hyderabad/Secunderabad   \n",
       "11                                Bangalore/Bengaluru   \n",
       "12                       Bangalore/Bengaluru, Chennai   \n",
       "13                                Bangalore/Bengaluru   \n",
       "14              Bangalore/Bengaluru, Gurgaon/Gurugram   \n",
       "15                                   Permanent Remote   \n",
       "16                                Bangalore/Bengaluru   \n",
       "17                                Bangalore/Bengaluru   \n",
       "18                                Bangalore/Bengaluru   \n",
       "19                       Hybrid - Bangalore/Bengaluru   \n",
       "\n",
       "                              Comapny Name Experience  \n",
       "0                                   Oracle    1-4 Yrs  \n",
       "1                          Zscaler Softech    5-6 Yrs  \n",
       "2                                    Capco    3-7 Yrs  \n",
       "3   Enrich And Enlight Business Consulting    5-7 Yrs  \n",
       "4                           Alp Consulting    4-5 Yrs  \n",
       "5                  Boston Consulting Group    4-6 Yrs  \n",
       "6                             Adecco Group    1-4 Yrs  \n",
       "7                Huquo Consulting Pvt. Ltd    2-7 Yrs  \n",
       "8                                    Croma    4-9 Yrs  \n",
       "9                                    Capco   7-12 Yrs  \n",
       "10                                   Capco   6-11 Yrs  \n",
       "11                          Avery Dennison    3-6 Yrs  \n",
       "12               Bizanalytica Solution Llp    4-9 Yrs  \n",
       "13                                Flipkart   7-12 Yrs  \n",
       "14               Huquo Consulting Pvt. Ltd    2-6 Yrs  \n",
       "15                           Treebo Hotels    1-4 Yrs  \n",
       "16                              CPA Global    2-5 Yrs  \n",
       "17                               Accenture    5-8 Yrs  \n",
       "18                     Cardinal Drugs Ltd.    3-8 Yrs  \n",
       "19                                 Walmart    2-5 Yrs  "
      ]
     },
     "execution_count": 14,
     "metadata": {},
     "output_type": "execute_result"
    }
   ],
   "source": [
    "data"
   ]
  },
  {
   "cell_type": "code",
   "execution_count": 15,
   "id": "ec5cec87",
   "metadata": {},
   "outputs": [],
   "source": [
    "data.to_csv(\"Naukri.com_data_analyst.csv\")"
   ]
  },
  {
   "cell_type": "code",
   "execution_count": 16,
   "id": "357d5ee7",
   "metadata": {},
   "outputs": [],
   "source": [
    "url = []"
   ]
  },
  {
   "cell_type": "code",
   "execution_count": 17,
   "id": "ff74ca1f",
   "metadata": {},
   "outputs": [],
   "source": [
    "url_tags = driver.find_elements(By.XPATH,'//a[@class=\"title ellipsis\"]')\n",
    "for i in url_tags:\n",
    "    ur = i.get_attribute('href')\n",
    "    url.append(ur)"
   ]
  },
  {
   "cell_type": "code",
   "execution_count": 18,
   "id": "bb43471d",
   "metadata": {},
   "outputs": [
    {
     "data": {
      "text/plain": [
       "20"
      ]
     },
     "execution_count": 18,
     "metadata": {},
     "output_type": "execute_result"
    }
   ],
   "source": [
    "len(url)"
   ]
  },
  {
   "cell_type": "code",
   "execution_count": 19,
   "id": "02dca6cc",
   "metadata": {},
   "outputs": [],
   "source": [
    "job_titles = []\n",
    "\n",
    "for i in range(0,3):\n",
    "    titles = driver.find_elements(By.XPATH,'//a[@class=\"title ellipsis\"]')\n",
    "    for j in titles:\n",
    "        job_titles.append(j.text)\n",
    "    next_button = driver.find_element(By.XPATH,'//a[@class=\"fright fs14 btn-secondary br2\"]')\n",
    "    next_button.click()\n",
    "    time.sleep(5)"
   ]
  },
  {
   "cell_type": "code",
   "execution_count": 20,
   "id": "49602ab1",
   "metadata": {},
   "outputs": [
    {
     "data": {
      "text/plain": [
       "60"
      ]
     },
     "execution_count": 20,
     "metadata": {},
     "output_type": "execute_result"
    }
   ],
   "source": [
    "len(job_titles)"
   ]
  },
  {
   "cell_type": "code",
   "execution_count": null,
   "id": "963f28db",
   "metadata": {},
   "outputs": [],
   "source": []
  }
 ],
 "metadata": {
  "kernelspec": {
   "display_name": "Python 3 (ipykernel)",
   "language": "python",
   "name": "python3"
  },
  "language_info": {
   "codemirror_mode": {
    "name": "ipython",
    "version": 3
   },
   "file_extension": ".py",
   "mimetype": "text/x-python",
   "name": "python",
   "nbconvert_exporter": "python",
   "pygments_lexer": "ipython3",
   "version": "3.9.12"
  }
 },
 "nbformat": 4,
 "nbformat_minor": 5
}
