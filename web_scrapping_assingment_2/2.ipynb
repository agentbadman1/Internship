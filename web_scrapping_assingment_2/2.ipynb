{
 "cells": [
  {
   "cell_type": "code",
   "execution_count": 1,
   "id": "6239690a",
   "metadata": {},
   "outputs": [],
   "source": [
    "import selenium\n",
    "import pandas as pd\n",
    "from selenium import webdriver\n",
    "import warnings\n",
    "warnings.filterwarnings(\"ignore\")\n",
    "from selenium.webdriver.common.by import By\n",
    "import time"
   ]
  },
  {
   "cell_type": "code",
   "execution_count": 2,
   "id": "2f15161a",
   "metadata": {},
   "outputs": [],
   "source": [
    "driver = webdriver.Chrome(r\"chromedriver.exe\")"
   ]
  },
  {
   "cell_type": "code",
   "execution_count": 3,
   "id": "3a2550ea",
   "metadata": {},
   "outputs": [],
   "source": [
    "driver.get(\"https://www.naukri.com/\")"
   ]
  },
  {
   "cell_type": "code",
   "execution_count": 4,
   "id": "f8a5f4a7",
   "metadata": {},
   "outputs": [],
   "source": [
    "desi = driver.find_element(By.XPATH,'//input[@class=\"suggestor-input \"]')\n",
    "desi.send_keys(\"Data Scientist\")"
   ]
  },
  {
   "cell_type": "code",
   "execution_count": 5,
   "id": "bcce83a5",
   "metadata": {},
   "outputs": [],
   "source": [
    "loc = driver.find_element(By.XPATH,'/html/body/div[1]/div[6]/div/div/div[5]/div/div/div/input')\n",
    "loc.send_keys(\"Bangalore\")"
   ]
  },
  {
   "cell_type": "code",
   "execution_count": 6,
   "id": "19c0d93b",
   "metadata": {},
   "outputs": [],
   "source": [
    "search = driver.find_element(By.XPATH,'//div[@class=\"qsbSubmit\"]')\n",
    "search.click()"
   ]
  },
  {
   "cell_type": "code",
   "execution_count": 7,
   "id": "f87ae37d",
   "metadata": {},
   "outputs": [],
   "source": [
    "title = []\n",
    "location = []\n",
    "exp = []\n",
    "url = []\n",
    "company_name = []\n"
   ]
  },
  {
   "cell_type": "code",
   "execution_count": 8,
   "id": "b310d25b",
   "metadata": {},
   "outputs": [],
   "source": [
    "title_tags = driver.find_elements(By.XPATH,'//a[@class=\"title ellipsis\"]')\n",
    "for i in title_tags:\n",
    "    tit = i.text\n",
    "    title.append(tit)"
   ]
  },
  {
   "cell_type": "code",
   "execution_count": 9,
   "id": "d8ed707e",
   "metadata": {},
   "outputs": [],
   "source": [
    "location_tags = driver.find_elements(By.XPATH,'//span[@class=\"ellipsis fleft locWdth\"]')\n",
    "for i in location_tags:\n",
    "    loc = i.text\n",
    "    location.append(loc)"
   ]
  },
  {
   "cell_type": "code",
   "execution_count": 10,
   "id": "0c0a3c8c",
   "metadata": {},
   "outputs": [],
   "source": [
    "exp_tags = driver.find_elements(By.XPATH,'//span[@class=\"ellipsis fleft expwdth\"]')\n",
    "for i in exp_tags:\n",
    "    ex = i.text\n",
    "    exp.append(ex)"
   ]
  },
  {
   "cell_type": "code",
   "execution_count": 11,
   "id": "7f1d8f86",
   "metadata": {},
   "outputs": [],
   "source": [
    "company_tags = driver.find_elements(By.XPATH,'//a[@class=\"subTitle ellipsis fleft\"]')\n",
    "for i in company_tags:\n",
    "    co = i.text\n",
    "    company_name.append(co)"
   ]
  },
  {
   "cell_type": "code",
   "execution_count": 12,
   "id": "add0327b",
   "metadata": {},
   "outputs": [
    {
     "data": {
      "text/plain": [
       "(20, 20, 20, 20, 0)"
      ]
     },
     "execution_count": 12,
     "metadata": {},
     "output_type": "execute_result"
    }
   ],
   "source": [
    "len(title),len(location),len(exp),len(company_name)"
   ]
  },
  {
   "cell_type": "code",
   "execution_count": 13,
   "id": "774b53a8",
   "metadata": {},
   "outputs": [],
   "source": [
    "data = pd.DataFrame({\"JOB TITLE\":title,\"LOCATION\":location,\"EXPERIENCE\":exp,\"COMPANY NAME\":company_name})"
   ]
  },
  {
   "cell_type": "code",
   "execution_count": 14,
   "id": "01f3a6d6",
   "metadata": {},
   "outputs": [
    {
     "data": {
      "text/html": [
       "<div>\n",
       "<style scoped>\n",
       "    .dataframe tbody tr th:only-of-type {\n",
       "        vertical-align: middle;\n",
       "    }\n",
       "\n",
       "    .dataframe tbody tr th {\n",
       "        vertical-align: top;\n",
       "    }\n",
       "\n",
       "    .dataframe thead th {\n",
       "        text-align: right;\n",
       "    }\n",
       "</style>\n",
       "<table border=\"1\" class=\"dataframe\">\n",
       "  <thead>\n",
       "    <tr style=\"text-align: right;\">\n",
       "      <th></th>\n",
       "      <th>JOB TITLE</th>\n",
       "      <th>LOCATION</th>\n",
       "      <th>EXPERIENCE</th>\n",
       "      <th>COMPANY NAME</th>\n",
       "    </tr>\n",
       "  </thead>\n",
       "  <tbody>\n",
       "    <tr>\n",
       "      <th>0</th>\n",
       "      <td>Data Scientist</td>\n",
       "      <td>Temp. WFH - Bangalore/Bengaluru, Hyderabad/Sec...</td>\n",
       "      <td>7-12 Yrs</td>\n",
       "      <td>Tech Mahindra</td>\n",
       "    </tr>\n",
       "    <tr>\n",
       "      <th>1</th>\n",
       "      <td>Data Science Specialist</td>\n",
       "      <td>Bangalore/Bengaluru, Kolkata, Mumbai, Hyderaba...</td>\n",
       "      <td>2-4 Yrs</td>\n",
       "      <td>Accenture</td>\n",
       "    </tr>\n",
       "    <tr>\n",
       "      <th>2</th>\n",
       "      <td>Analystics &amp; Modeling Specialist</td>\n",
       "      <td>Bangalore/Bengaluru, Kolkata, Mumbai, Hyderaba...</td>\n",
       "      <td>6-8 Yrs</td>\n",
       "      <td>Accenture</td>\n",
       "    </tr>\n",
       "    <tr>\n",
       "      <th>3</th>\n",
       "      <td>Lead Data Scientist</td>\n",
       "      <td>Bangalore/Bengaluru, Noida, Hyderabad/Secunder...</td>\n",
       "      <td>8-12 Yrs</td>\n",
       "      <td>Birlasoft</td>\n",
       "    </tr>\n",
       "    <tr>\n",
       "      <th>4</th>\n",
       "      <td>Data Scientist</td>\n",
       "      <td>Hybrid - Bangalore/Bengaluru, Noida, Hyderabad...</td>\n",
       "      <td>8-12 Yrs</td>\n",
       "      <td>Birlasoft</td>\n",
       "    </tr>\n",
       "    <tr>\n",
       "      <th>5</th>\n",
       "      <td>Data Scientist Knowledge graph</td>\n",
       "      <td>Hybrid - Bangalore/Bengaluru, Pune</td>\n",
       "      <td>7-12 Yrs</td>\n",
       "      <td>Capco</td>\n",
       "    </tr>\n",
       "    <tr>\n",
       "      <th>6</th>\n",
       "      <td>Data Scientist (Analyst)</td>\n",
       "      <td>Bangalore/Bengaluru</td>\n",
       "      <td>3-6 Yrs</td>\n",
       "      <td>Visa</td>\n",
       "    </tr>\n",
       "    <tr>\n",
       "      <th>7</th>\n",
       "      <td>Supply Chain Specialist Staff</td>\n",
       "      <td>Bangalore/Bengaluru</td>\n",
       "      <td>7-11 Yrs</td>\n",
       "      <td>Juniper Networks</td>\n",
       "    </tr>\n",
       "    <tr>\n",
       "      <th>8</th>\n",
       "      <td>Opportunity For Data Scientist/Sr. Data Scient...</td>\n",
       "      <td>Hybrid - Bangalore/Bengaluru, Gurgaon/Gurugram...</td>\n",
       "      <td>3-5 Yrs</td>\n",
       "      <td>PayU</td>\n",
       "    </tr>\n",
       "    <tr>\n",
       "      <th>9</th>\n",
       "      <td>Research Scientist</td>\n",
       "      <td>Bangalore/Bengaluru</td>\n",
       "      <td>2-5 Yrs</td>\n",
       "      <td>Siemens</td>\n",
       "    </tr>\n",
       "    <tr>\n",
       "      <th>10</th>\n",
       "      <td>ACN - Applied Intelligence - Data Scientist - 09</td>\n",
       "      <td>Bangalore/Bengaluru</td>\n",
       "      <td>2-6 Yrs</td>\n",
       "      <td>Accenture</td>\n",
       "    </tr>\n",
       "    <tr>\n",
       "      <th>11</th>\n",
       "      <td>Senior AI Engieer</td>\n",
       "      <td>Bangalore/Bengaluru</td>\n",
       "      <td>5-7 Yrs</td>\n",
       "      <td>Digit Insurance</td>\n",
       "    </tr>\n",
       "    <tr>\n",
       "      <th>12</th>\n",
       "      <td>Software Engineer Staff</td>\n",
       "      <td>Bangalore/Bengaluru</td>\n",
       "      <td>3-8 Yrs</td>\n",
       "      <td>Juniper Networks</td>\n",
       "    </tr>\n",
       "    <tr>\n",
       "      <th>13</th>\n",
       "      <td>Data Scientist - NLP (looking For early joiners)</td>\n",
       "      <td>Temp. WFH - Bangalore/Bengaluru, Pune, Chennai</td>\n",
       "      <td>4-9 Yrs</td>\n",
       "      <td>Wipro</td>\n",
       "    </tr>\n",
       "    <tr>\n",
       "      <th>14</th>\n",
       "      <td>Job | Hiring For AVP/ VP | Senior Data Scienti...</td>\n",
       "      <td>Hybrid - Bangalore/Bengaluru, Pune, Gurgaon/Gu...</td>\n",
       "      <td>8-13 Yrs</td>\n",
       "      <td>Citicorp Finance</td>\n",
       "    </tr>\n",
       "    <tr>\n",
       "      <th>15</th>\n",
       "      <td>DATA SCIENTIST</td>\n",
       "      <td>Bangalore/Bengaluru</td>\n",
       "      <td>3-5 Yrs</td>\n",
       "      <td>Mindtree</td>\n",
       "    </tr>\n",
       "    <tr>\n",
       "      <th>16</th>\n",
       "      <td>Junior Projects Engineer</td>\n",
       "      <td>Bangalore/Bengaluru</td>\n",
       "      <td>5-10 Yrs</td>\n",
       "      <td>Jacobs</td>\n",
       "    </tr>\n",
       "    <tr>\n",
       "      <th>17</th>\n",
       "      <td>Data Science - Technical Lead</td>\n",
       "      <td>Bangalore/Bengaluru, Noida</td>\n",
       "      <td>6-8 Yrs</td>\n",
       "      <td>Paytm</td>\n",
       "    </tr>\n",
       "    <tr>\n",
       "      <th>18</th>\n",
       "      <td>Data Science - Senior Software Engineer</td>\n",
       "      <td>Bangalore/Bengaluru, Noida</td>\n",
       "      <td>3-6 Yrs</td>\n",
       "      <td>Paytm</td>\n",
       "    </tr>\n",
       "    <tr>\n",
       "      <th>19</th>\n",
       "      <td>Sr. Data Scientist</td>\n",
       "      <td>Bangalore/Bengaluru, Hyderabad/Secunderabad</td>\n",
       "      <td>6-8 Yrs</td>\n",
       "      <td>Accolite Software India Pvt Ltd</td>\n",
       "    </tr>\n",
       "  </tbody>\n",
       "</table>\n",
       "</div>"
      ],
      "text/plain": [
       "                                            JOB TITLE  \\\n",
       "0                                      Data Scientist   \n",
       "1                             Data Science Specialist   \n",
       "2                    Analystics & Modeling Specialist   \n",
       "3                                 Lead Data Scientist   \n",
       "4                                      Data Scientist   \n",
       "5                      Data Scientist Knowledge graph   \n",
       "6                            Data Scientist (Analyst)   \n",
       "7                       Supply Chain Specialist Staff   \n",
       "8   Opportunity For Data Scientist/Sr. Data Scient...   \n",
       "9                                  Research Scientist   \n",
       "10   ACN - Applied Intelligence - Data Scientist - 09   \n",
       "11                                  Senior AI Engieer   \n",
       "12                            Software Engineer Staff   \n",
       "13   Data Scientist - NLP (looking For early joiners)   \n",
       "14  Job | Hiring For AVP/ VP | Senior Data Scienti...   \n",
       "15                                     DATA SCIENTIST   \n",
       "16                           Junior Projects Engineer   \n",
       "17                      Data Science - Technical Lead   \n",
       "18            Data Science - Senior Software Engineer   \n",
       "19                                 Sr. Data Scientist   \n",
       "\n",
       "                                             LOCATION EXPERIENCE  \\\n",
       "0   Temp. WFH - Bangalore/Bengaluru, Hyderabad/Sec...   7-12 Yrs   \n",
       "1   Bangalore/Bengaluru, Kolkata, Mumbai, Hyderaba...    2-4 Yrs   \n",
       "2   Bangalore/Bengaluru, Kolkata, Mumbai, Hyderaba...    6-8 Yrs   \n",
       "3   Bangalore/Bengaluru, Noida, Hyderabad/Secunder...   8-12 Yrs   \n",
       "4   Hybrid - Bangalore/Bengaluru, Noida, Hyderabad...   8-12 Yrs   \n",
       "5                  Hybrid - Bangalore/Bengaluru, Pune   7-12 Yrs   \n",
       "6                                 Bangalore/Bengaluru    3-6 Yrs   \n",
       "7                                 Bangalore/Bengaluru   7-11 Yrs   \n",
       "8   Hybrid - Bangalore/Bengaluru, Gurgaon/Gurugram...    3-5 Yrs   \n",
       "9                                 Bangalore/Bengaluru    2-5 Yrs   \n",
       "10                                Bangalore/Bengaluru    2-6 Yrs   \n",
       "11                                Bangalore/Bengaluru    5-7 Yrs   \n",
       "12                                Bangalore/Bengaluru    3-8 Yrs   \n",
       "13     Temp. WFH - Bangalore/Bengaluru, Pune, Chennai    4-9 Yrs   \n",
       "14  Hybrid - Bangalore/Bengaluru, Pune, Gurgaon/Gu...   8-13 Yrs   \n",
       "15                                Bangalore/Bengaluru    3-5 Yrs   \n",
       "16                                Bangalore/Bengaluru   5-10 Yrs   \n",
       "17                         Bangalore/Bengaluru, Noida    6-8 Yrs   \n",
       "18                         Bangalore/Bengaluru, Noida    3-6 Yrs   \n",
       "19        Bangalore/Bengaluru, Hyderabad/Secunderabad    6-8 Yrs   \n",
       "\n",
       "                       COMPANY NAME  \n",
       "0                     Tech Mahindra  \n",
       "1                         Accenture  \n",
       "2                         Accenture  \n",
       "3                         Birlasoft  \n",
       "4                         Birlasoft  \n",
       "5                             Capco  \n",
       "6                              Visa  \n",
       "7                  Juniper Networks  \n",
       "8                              PayU  \n",
       "9                           Siemens  \n",
       "10                        Accenture  \n",
       "11                  Digit Insurance  \n",
       "12                 Juniper Networks  \n",
       "13                            Wipro  \n",
       "14                 Citicorp Finance  \n",
       "15                         Mindtree  \n",
       "16                           Jacobs  \n",
       "17                            Paytm  \n",
       "18                            Paytm  \n",
       "19  Accolite Software India Pvt Ltd  "
      ]
     },
     "execution_count": 14,
     "metadata": {},
     "output_type": "execute_result"
    }
   ],
   "source": [
    "data"
   ]
  },
  {
   "cell_type": "code",
   "execution_count": 15,
   "id": "f0dc6c3d",
   "metadata": {},
   "outputs": [],
   "source": [
    "data.to_csv(\"DATA SCIENTIST Bangalore.csv\")"
   ]
  },
  {
   "cell_type": "code",
   "execution_count": null,
   "id": "21540665",
   "metadata": {},
   "outputs": [],
   "source": []
  }
 ],
 "metadata": {
  "kernelspec": {
   "display_name": "Python 3 (ipykernel)",
   "language": "python",
   "name": "python3"
  },
  "language_info": {
   "codemirror_mode": {
    "name": "ipython",
    "version": 3
   },
   "file_extension": ".py",
   "mimetype": "text/x-python",
   "name": "python",
   "nbconvert_exporter": "python",
   "pygments_lexer": "ipython3",
   "version": "3.9.12"
  }
 },
 "nbformat": 4,
 "nbformat_minor": 5
}
