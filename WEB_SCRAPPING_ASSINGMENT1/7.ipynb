{
 "cells": [
  {
   "cell_type": "code",
   "execution_count": 1,
   "id": "c2c17732",
   "metadata": {},
   "outputs": [],
   "source": [
    "from bs4 import BeautifulSoup\n",
    "import requests"
   ]
  },
  {
   "cell_type": "code",
   "execution_count": 2,
   "id": "19051486",
   "metadata": {},
   "outputs": [],
   "source": [
    "url = requests.get(\"https://www.cnbc.com/world/?region=world\")"
   ]
  },
  {
   "cell_type": "code",
   "execution_count": 3,
   "id": "28651a9e",
   "metadata": {},
   "outputs": [
    {
     "data": {
      "text/plain": [
       "<Response [200]>"
      ]
     },
     "execution_count": 3,
     "metadata": {},
     "output_type": "execute_result"
    }
   ],
   "source": [
    "url"
   ]
  },
  {
   "cell_type": "code",
   "execution_count": 4,
   "id": "a9eaab7b",
   "metadata": {},
   "outputs": [],
   "source": [
    "soup = BeautifulSoup(url.content)"
   ]
  },
  {
   "cell_type": "code",
   "execution_count": 5,
   "id": "10f1e50d",
   "metadata": {},
   "outputs": [
    {
     "data": {
      "text/plain": [
       "'Sweden is facing its ‘day of reckoning’ as house prices plummetThis downturn is not surprising given the \"dysfunctional\" nature of the market, according to Stefan Ingves, the former governor of Sweden\\'s central bank, the Riksbank.'"
      ]
     },
     "execution_count": 5,
     "metadata": {},
     "output_type": "execute_result"
    }
   ],
   "source": [
    "headline = soup.find(\"div\",class_=\"FeaturedCard-contentText\")\n",
    "headline.text"
   ]
  },
  {
   "cell_type": "code",
   "execution_count": null,
   "id": "3a3e20e6",
   "metadata": {},
   "outputs": [],
   "source": []
  }
 ],
 "metadata": {
  "kernelspec": {
   "display_name": "Python 3 (ipykernel)",
   "language": "python",
   "name": "python3"
  },
  "language_info": {
   "codemirror_mode": {
    "name": "ipython",
    "version": 3
   },
   "file_extension": ".py",
   "mimetype": "text/x-python",
   "name": "python",
   "nbconvert_exporter": "python",
   "pygments_lexer": "ipython3",
   "version": "3.9.12"
  }
 },
 "nbformat": 4,
 "nbformat_minor": 5
}
