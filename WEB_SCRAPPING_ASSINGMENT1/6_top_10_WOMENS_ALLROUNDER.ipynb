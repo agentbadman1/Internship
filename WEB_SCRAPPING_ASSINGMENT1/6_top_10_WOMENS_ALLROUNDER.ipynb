{
 "cells": [
  {
   "cell_type": "code",
   "execution_count": 1,
   "id": "1ad4f806",
   "metadata": {},
   "outputs": [],
   "source": [
    "from bs4 import BeautifulSoup\n",
    "import requests"
   ]
  },
  {
   "cell_type": "code",
   "execution_count": 2,
   "id": "60020c36",
   "metadata": {},
   "outputs": [],
   "source": [
    "url = requests.get(\"https://www.icc-cricket.com/rankings/womens/player-rankings/odi\")"
   ]
  },
  {
   "cell_type": "code",
   "execution_count": 3,
   "id": "65022cb1",
   "metadata": {},
   "outputs": [
    {
     "data": {
      "text/plain": [
       "<Response [200]>"
      ]
     },
     "execution_count": 3,
     "metadata": {},
     "output_type": "execute_result"
    }
   ],
   "source": [
    "url"
   ]
  },
  {
   "cell_type": "code",
   "execution_count": 4,
   "id": "82218039",
   "metadata": {},
   "outputs": [],
   "source": [
    "soup = BeautifulSoup(url.content)"
   ]
  },
  {
   "cell_type": "code",
   "execution_count": 5,
   "id": "ef7c20f9",
   "metadata": {},
   "outputs": [
    {
     "data": {
      "text/plain": [
       "['Alyssa Healy', 'Sophie Ecclestone', 'Ellyse Perry']"
      ]
     },
     "execution_count": 5,
     "metadata": {},
     "output_type": "execute_result"
    }
   ],
   "source": [
    "name = []\n",
    "\n",
    "for i in soup.find_all(\"div\",class_=\"rankings-block__banner--name\"):\n",
    "    name.append(i.text)\n",
    "\n",
    "name"
   ]
  },
  {
   "cell_type": "code",
   "execution_count": 6,
   "id": "e78cb492",
   "metadata": {},
   "outputs": [
    {
     "data": {
      "text/plain": [
       "['Beth Mooney',\n",
       " 'Laura Wolvaardt',\n",
       " 'Natalie Sciver',\n",
       " 'Harmanpreet Kaur',\n",
       " 'Smriti Mandhana',\n",
       " 'Meg Lanning',\n",
       " 'Rachael Haynes',\n",
       " 'Chamari Athapaththu',\n",
       " 'Ellyse Perry',\n",
       " 'Jess Jonassen',\n",
       " 'Megan Schutt',\n",
       " 'Shabnim Ismail',\n",
       " 'Jhulan Goswami',\n",
       " 'Hayley Matthews',\n",
       " 'Kate Cross',\n",
       " 'Ayabonga Khaka',\n",
       " 'Rajeshwari Gayakwad',\n",
       " 'Marizanne Kapp',\n",
       " 'Hayley Matthews',\n",
       " 'Natalie Sciver',\n",
       " 'Marizanne Kapp',\n",
       " 'Amelia Kerr',\n",
       " 'Deepti Sharma',\n",
       " 'Ashleigh Gardner',\n",
       " 'Jess Jonassen',\n",
       " 'Jhulan Goswami',\n",
       " 'Sophie Ecclestone']"
      ]
     },
     "execution_count": 6,
     "metadata": {},
     "output_type": "execute_result"
    }
   ],
   "source": [
    "name1=[]\n",
    "\n",
    "for i in soup.find_all(\"td\",class_=\"table-body__cell name\"):\n",
    "    name1.append(i.text.split(\"\\n\")[1])\n",
    "\n",
    "name1"
   ]
  },
  {
   "cell_type": "code",
   "execution_count": 7,
   "id": "b6ac2f3b",
   "metadata": {},
   "outputs": [],
   "source": [
    "name1 = name1[18:]"
   ]
  },
  {
   "cell_type": "code",
   "execution_count": 8,
   "id": "e15985f1",
   "metadata": {},
   "outputs": [
    {
     "data": {
      "text/plain": [
       "['Hayley Matthews',\n",
       " 'Natalie Sciver',\n",
       " 'Marizanne Kapp',\n",
       " 'Amelia Kerr',\n",
       " 'Deepti Sharma',\n",
       " 'Ashleigh Gardner',\n",
       " 'Jess Jonassen',\n",
       " 'Jhulan Goswami',\n",
       " 'Sophie Ecclestone']"
      ]
     },
     "execution_count": 8,
     "metadata": {},
     "output_type": "execute_result"
    }
   ],
   "source": [
    "name1"
   ]
  },
  {
   "cell_type": "code",
   "execution_count": 9,
   "id": "a9b3d6fd",
   "metadata": {},
   "outputs": [
    {
     "data": {
      "text/plain": [
       "9"
      ]
     },
     "execution_count": 9,
     "metadata": {},
     "output_type": "execute_result"
    }
   ],
   "source": [
    "len(name1)"
   ]
  },
  {
   "cell_type": "code",
   "execution_count": 10,
   "id": "0f481c92",
   "metadata": {},
   "outputs": [],
   "source": [
    "name1.insert(0,name[2])"
   ]
  },
  {
   "cell_type": "code",
   "execution_count": 11,
   "id": "a6b7d738",
   "metadata": {},
   "outputs": [
    {
     "data": {
      "text/plain": [
       "['Ellyse Perry',\n",
       " 'Hayley Matthews',\n",
       " 'Natalie Sciver',\n",
       " 'Marizanne Kapp',\n",
       " 'Amelia Kerr',\n",
       " 'Deepti Sharma',\n",
       " 'Ashleigh Gardner',\n",
       " 'Jess Jonassen',\n",
       " 'Jhulan Goswami',\n",
       " 'Sophie Ecclestone']"
      ]
     },
     "execution_count": 11,
     "metadata": {},
     "output_type": "execute_result"
    }
   ],
   "source": [
    "name1"
   ]
  },
  {
   "cell_type": "code",
   "execution_count": 12,
   "id": "0f3b197d",
   "metadata": {},
   "outputs": [
    {
     "name": "stdout",
     "output_type": "stream",
     "text": [
      "10\n"
     ]
    }
   ],
   "source": [
    "print(len(name1))"
   ]
  },
  {
   "cell_type": "code",
   "execution_count": 13,
   "id": "fe6543d1",
   "metadata": {},
   "outputs": [
    {
     "data": {
      "text/plain": [
       "['785', '751', '374']"
      ]
     },
     "execution_count": 13,
     "metadata": {},
     "output_type": "execute_result"
    }
   ],
   "source": [
    "rating = []\n",
    "\n",
    "for i in soup.find_all(\"div\",class_=\"rankings-block__banner--rating\"):\n",
    "    rating.append(i.text)\n",
    "    \n",
    "rating"
   ]
  },
  {
   "cell_type": "code",
   "execution_count": 14,
   "id": "546bee5f",
   "metadata": {},
   "outputs": [
    {
     "data": {
      "text/plain": [
       "['749',\n",
       " '732',\n",
       " '731',\n",
       " '716',\n",
       " '714',\n",
       " '710',\n",
       " '701',\n",
       " '655',\n",
       " '642',\n",
       " '725',\n",
       " '722',\n",
       " '722',\n",
       " '698',\n",
       " '660',\n",
       " '655',\n",
       " '634',\n",
       " '617',\n",
       " '598',\n",
       " '373',\n",
       " '371',\n",
       " '349',\n",
       " '336',\n",
       " '322',\n",
       " '270',\n",
       " '246',\n",
       " '214',\n",
       " '205']"
      ]
     },
     "execution_count": 14,
     "metadata": {},
     "output_type": "execute_result"
    }
   ],
   "source": [
    "rating1 = []\n",
    "\n",
    "for i in soup.find_all(\"td\",class_=\"table-body__cell u-text-right rating\"):\n",
    "    rating1.append(i.text)\n",
    "\n",
    "rating1"
   ]
  },
  {
   "cell_type": "code",
   "execution_count": 15,
   "id": "f88a5dac",
   "metadata": {},
   "outputs": [],
   "source": [
    "rating1 = rating1[18:]"
   ]
  },
  {
   "cell_type": "code",
   "execution_count": 16,
   "id": "0cbcf66c",
   "metadata": {},
   "outputs": [],
   "source": [
    "rating1.insert(0,rating[2])"
   ]
  },
  {
   "cell_type": "code",
   "execution_count": 17,
   "id": "18c16877",
   "metadata": {},
   "outputs": [
    {
     "data": {
      "text/plain": [
       "['374', '373', '371', '349', '336', '322', '270', '246', '214', '205']"
      ]
     },
     "execution_count": 17,
     "metadata": {},
     "output_type": "execute_result"
    }
   ],
   "source": [
    "rating1"
   ]
  },
  {
   "cell_type": "code",
   "execution_count": 18,
   "id": "1f56af87",
   "metadata": {},
   "outputs": [
    {
     "data": {
      "text/plain": [
       "10"
      ]
     },
     "execution_count": 18,
     "metadata": {},
     "output_type": "execute_result"
    }
   ],
   "source": [
    "len(rating1)"
   ]
  },
  {
   "cell_type": "code",
   "execution_count": 19,
   "id": "dbed4aed",
   "metadata": {},
   "outputs": [],
   "source": [
    "Team_Name = [\"Australia\",\"West Indies\",\"England\",\"South Africa\",\"New Zealand\",\"India\",\"Australia\",\"Australia\",\"India\",\"England\"]"
   ]
  },
  {
   "cell_type": "code",
   "execution_count": 20,
   "id": "0825f321",
   "metadata": {},
   "outputs": [
    {
     "name": "stdout",
     "output_type": "stream",
     "text": [
      "10 10 10\n"
     ]
    }
   ],
   "source": [
    "print(len(name1),len(rating1),len(Team_Name))"
   ]
  },
  {
   "cell_type": "code",
   "execution_count": 23,
   "id": "182fbbd5",
   "metadata": {},
   "outputs": [],
   "source": [
    "import pandas as pd"
   ]
  },
  {
   "cell_type": "code",
   "execution_count": 24,
   "id": "8bf59a1d",
   "metadata": {},
   "outputs": [],
   "source": [
    "data = pd.DataFrame({\"Player Name\":name1,\"TEAM\":Team_Name,\"Rating\":rating1})"
   ]
  },
  {
   "cell_type": "code",
   "execution_count": 25,
   "id": "ed81a115",
   "metadata": {},
   "outputs": [
    {
     "data": {
      "text/html": [
       "<div>\n",
       "<style scoped>\n",
       "    .dataframe tbody tr th:only-of-type {\n",
       "        vertical-align: middle;\n",
       "    }\n",
       "\n",
       "    .dataframe tbody tr th {\n",
       "        vertical-align: top;\n",
       "    }\n",
       "\n",
       "    .dataframe thead th {\n",
       "        text-align: right;\n",
       "    }\n",
       "</style>\n",
       "<table border=\"1\" class=\"dataframe\">\n",
       "  <thead>\n",
       "    <tr style=\"text-align: right;\">\n",
       "      <th></th>\n",
       "      <th>Player Name</th>\n",
       "      <th>TEAM</th>\n",
       "      <th>Rating</th>\n",
       "    </tr>\n",
       "  </thead>\n",
       "  <tbody>\n",
       "    <tr>\n",
       "      <th>0</th>\n",
       "      <td>Ellyse Perry</td>\n",
       "      <td>Australia</td>\n",
       "      <td>374</td>\n",
       "    </tr>\n",
       "    <tr>\n",
       "      <th>1</th>\n",
       "      <td>Hayley Matthews</td>\n",
       "      <td>West Indies</td>\n",
       "      <td>373</td>\n",
       "    </tr>\n",
       "    <tr>\n",
       "      <th>2</th>\n",
       "      <td>Natalie Sciver</td>\n",
       "      <td>England</td>\n",
       "      <td>371</td>\n",
       "    </tr>\n",
       "    <tr>\n",
       "      <th>3</th>\n",
       "      <td>Marizanne Kapp</td>\n",
       "      <td>South Africa</td>\n",
       "      <td>349</td>\n",
       "    </tr>\n",
       "    <tr>\n",
       "      <th>4</th>\n",
       "      <td>Amelia Kerr</td>\n",
       "      <td>New Zealand</td>\n",
       "      <td>336</td>\n",
       "    </tr>\n",
       "    <tr>\n",
       "      <th>5</th>\n",
       "      <td>Deepti Sharma</td>\n",
       "      <td>India</td>\n",
       "      <td>322</td>\n",
       "    </tr>\n",
       "    <tr>\n",
       "      <th>6</th>\n",
       "      <td>Ashleigh Gardner</td>\n",
       "      <td>Australia</td>\n",
       "      <td>270</td>\n",
       "    </tr>\n",
       "    <tr>\n",
       "      <th>7</th>\n",
       "      <td>Jess Jonassen</td>\n",
       "      <td>Australia</td>\n",
       "      <td>246</td>\n",
       "    </tr>\n",
       "    <tr>\n",
       "      <th>8</th>\n",
       "      <td>Jhulan Goswami</td>\n",
       "      <td>India</td>\n",
       "      <td>214</td>\n",
       "    </tr>\n",
       "    <tr>\n",
       "      <th>9</th>\n",
       "      <td>Sophie Ecclestone</td>\n",
       "      <td>England</td>\n",
       "      <td>205</td>\n",
       "    </tr>\n",
       "  </tbody>\n",
       "</table>\n",
       "</div>"
      ],
      "text/plain": [
       "         Player Name          TEAM Rating\n",
       "0       Ellyse Perry     Australia    374\n",
       "1    Hayley Matthews   West Indies    373\n",
       "2     Natalie Sciver       England    371\n",
       "3     Marizanne Kapp  South Africa    349\n",
       "4        Amelia Kerr   New Zealand    336\n",
       "5      Deepti Sharma         India    322\n",
       "6   Ashleigh Gardner     Australia    270\n",
       "7      Jess Jonassen     Australia    246\n",
       "8     Jhulan Goswami         India    214\n",
       "9  Sophie Ecclestone       England    205"
      ]
     },
     "execution_count": 25,
     "metadata": {},
     "output_type": "execute_result"
    }
   ],
   "source": [
    "data"
   ]
  },
  {
   "cell_type": "code",
   "execution_count": null,
   "id": "af51e88c",
   "metadata": {},
   "outputs": [],
   "source": []
  }
 ],
 "metadata": {
  "kernelspec": {
   "display_name": "Python 3 (ipykernel)",
   "language": "python",
   "name": "python3"
  },
  "language_info": {
   "codemirror_mode": {
    "name": "ipython",
    "version": 3
   },
   "file_extension": ".py",
   "mimetype": "text/x-python",
   "name": "python",
   "nbconvert_exporter": "python",
   "pygments_lexer": "ipython3",
   "version": "3.9.12"
  }
 },
 "nbformat": 4,
 "nbformat_minor": 5
}
