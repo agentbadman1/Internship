{
 "cells": [
  {
   "cell_type": "code",
   "execution_count": 1,
   "id": "7ce4155e",
   "metadata": {},
   "outputs": [],
   "source": [
    "from bs4 import BeautifulSoup\n",
    "import requests"
   ]
  },
  {
   "cell_type": "code",
   "execution_count": 2,
   "id": "272ecb00",
   "metadata": {},
   "outputs": [],
   "source": [
    "url = requests.get(\"https://www.icc-cricket.com/rankings/womens/team-rankings/odi\")"
   ]
  },
  {
   "cell_type": "code",
   "execution_count": 3,
   "id": "acdb11b7",
   "metadata": {},
   "outputs": [
    {
     "data": {
      "text/plain": [
       "<Response [200]>"
      ]
     },
     "execution_count": 3,
     "metadata": {},
     "output_type": "execute_result"
    }
   ],
   "source": [
    "url"
   ]
  },
  {
   "cell_type": "code",
   "execution_count": 4,
   "id": "a9962b7b",
   "metadata": {},
   "outputs": [],
   "source": [
    "soup = BeautifulSoup(url.content)"
   ]
  },
  {
   "cell_type": "code",
   "execution_count": 5,
   "id": "4c4535df",
   "metadata": {},
   "outputs": [
    {
     "data": {
      "text/plain": [
       "['Australia',\n",
       " 'England',\n",
       " 'South Africa',\n",
       " 'India',\n",
       " 'New Zealand',\n",
       " 'West Indies',\n",
       " 'Bangladesh',\n",
       " 'Thailand',\n",
       " 'Pakistan',\n",
       " 'Sri Lanka',\n",
       " 'Ireland',\n",
       " 'Netherlands',\n",
       " 'Zimbabwe']"
      ]
     },
     "execution_count": 5,
     "metadata": {},
     "output_type": "execute_result"
    }
   ],
   "source": [
    "teamname=[]\n",
    "\n",
    "for i in soup.find_all(\"span\",class_=\"u-hide-phablet\"):\n",
    "    teamname.append(i.text)\n",
    "    \n",
    "teamname"
   ]
  },
  {
   "cell_type": "code",
   "execution_count": 6,
   "id": "5d5df22b",
   "metadata": {},
   "outputs": [],
   "source": [
    "teamname = teamname[:10]"
   ]
  },
  {
   "cell_type": "code",
   "execution_count": 7,
   "id": "63ecd39d",
   "metadata": {},
   "outputs": [
    {
     "data": {
      "text/plain": [
       "10"
      ]
     },
     "execution_count": 7,
     "metadata": {},
     "output_type": "execute_result"
    }
   ],
   "source": [
    "len(teamname)"
   ]
  },
  {
   "cell_type": "code",
   "execution_count": 8,
   "id": "f00a8062",
   "metadata": {},
   "outputs": [
    {
     "data": {
      "text/plain": [
       "['18']"
      ]
     },
     "execution_count": 8,
     "metadata": {},
     "output_type": "execute_result"
    }
   ],
   "source": [
    "matches = []\n",
    "\n",
    "for i in soup.find_all(\"td\",class_=\"rankings-block__banner--matches\"):\n",
    "    matches.append(i.text)\n",
    "    \n",
    "matches"
   ]
  },
  {
   "cell_type": "code",
   "execution_count": 9,
   "id": "74c6d43d",
   "metadata": {},
   "outputs": [
    {
     "data": {
      "text/plain": [
       "['3,061']"
      ]
     },
     "execution_count": 9,
     "metadata": {},
     "output_type": "execute_result"
    }
   ],
   "source": [
    "points = []\n",
    "\n",
    "for i in soup.find_all(\"td\",class_=\"rankings-block__banner--points\"):\n",
    "    points.append(i.text)\n",
    "    \n",
    "points"
   ]
  },
  {
   "cell_type": "code",
   "execution_count": 10,
   "id": "d0bc06c1",
   "metadata": {},
   "outputs": [
    {
     "data": {
      "text/plain": [
       "['                            170']"
      ]
     },
     "execution_count": 10,
     "metadata": {},
     "output_type": "execute_result"
    }
   ],
   "source": [
    "rating = []\n",
    "\n",
    "for i in soup.find_all(\"td\",class_=\"rankings-block__banner--rating u-text-right\"):\n",
    "    rating.append(i.text.split(\"\\n\")[1])\n",
    "    \n",
    "rating"
   ]
  },
  {
   "cell_type": "code",
   "execution_count": 11,
   "id": "541e1cdc",
   "metadata": {},
   "outputs": [],
   "source": [
    "for i in soup.find_all(\"td\",class_=\"table-body__cell u-text-right rating\"):\n",
    "    rating.append(i.text)"
   ]
  },
  {
   "cell_type": "code",
   "execution_count": 12,
   "id": "05bd86f0",
   "metadata": {},
   "outputs": [
    {
     "data": {
      "text/plain": [
       "['                            170',\n",
       " '119',\n",
       " '119',\n",
       " '104',\n",
       " '102',\n",
       " '94',\n",
       " '76',\n",
       " '72',\n",
       " '63',\n",
       " '44',\n",
       " '39',\n",
       " '0',\n",
       " '0']"
      ]
     },
     "execution_count": 12,
     "metadata": {},
     "output_type": "execute_result"
    }
   ],
   "source": [
    "rating"
   ]
  },
  {
   "cell_type": "code",
   "execution_count": 13,
   "id": "1a36ccd2",
   "metadata": {},
   "outputs": [],
   "source": [
    "rating = rating[:10]"
   ]
  },
  {
   "cell_type": "code",
   "execution_count": 14,
   "id": "8d4c00e6",
   "metadata": {},
   "outputs": [
    {
     "data": {
      "text/plain": [
       "10"
      ]
     },
     "execution_count": 14,
     "metadata": {},
     "output_type": "execute_result"
    }
   ],
   "source": [
    "len(rating)"
   ]
  },
  {
   "cell_type": "code",
   "execution_count": 15,
   "id": "3a3fbebc",
   "metadata": {},
   "outputs": [
    {
     "data": {
      "text/plain": [
       "['28',\n",
       " '3,342',\n",
       " '26',\n",
       " '3,098',\n",
       " '27',\n",
       " '2,820',\n",
       " '25',\n",
       " '2,553',\n",
       " '27',\n",
       " '2,535',\n",
       " '13',\n",
       " '983',\n",
       " '8',\n",
       " '572',\n",
       " '24',\n",
       " '1,519',\n",
       " '8',\n",
       " '353',\n",
       " '14',\n",
       " '548',\n",
       " '9',\n",
       " '0',\n",
       " '8',\n",
       " '0']"
      ]
     },
     "execution_count": 15,
     "metadata": {},
     "output_type": "execute_result"
    }
   ],
   "source": [
    "newl = []\n",
    "\n",
    "for i in soup.find_all(\"td\",class_=\"table-body__cell u-center-text\"):\n",
    "        newl.append(i.text)\n",
    "        \n",
    "newl"
   ]
  },
  {
   "cell_type": "code",
   "execution_count": 16,
   "id": "103610fa",
   "metadata": {},
   "outputs": [
    {
     "name": "stdout",
     "output_type": "stream",
     "text": [
      "24\n"
     ]
    }
   ],
   "source": [
    "print(len(newl))"
   ]
  },
  {
   "cell_type": "code",
   "execution_count": 20,
   "id": "5d3df4c3",
   "metadata": {},
   "outputs": [],
   "source": [
    "for i in newl:\n",
    "    if newl.index(i)==0 or newl.index(i)%2==0:\n",
    "        matches.append(i)\n",
    "    elif newl.index(i) % 2!=0:\n",
    "        points.append(i)"
   ]
  },
  {
   "cell_type": "code",
   "execution_count": 21,
   "id": "7686e1fb",
   "metadata": {},
   "outputs": [
    {
     "data": {
      "text/plain": [
       "['18', '28', '26', '27', '25', '27', '13', '8', '24', '8', '14', '9', '8']"
      ]
     },
     "execution_count": 21,
     "metadata": {},
     "output_type": "execute_result"
    }
   ],
   "source": [
    "matches"
   ]
  },
  {
   "cell_type": "code",
   "execution_count": 22,
   "id": "b4c365be",
   "metadata": {},
   "outputs": [
    {
     "data": {
      "text/plain": [
       "['3,061',\n",
       " '3,342',\n",
       " '3,098',\n",
       " '2,820',\n",
       " '2,553',\n",
       " '2,535',\n",
       " '983',\n",
       " '572',\n",
       " '1,519',\n",
       " '353',\n",
       " '548',\n",
       " '0',\n",
       " '0']"
      ]
     },
     "execution_count": 22,
     "metadata": {},
     "output_type": "execute_result"
    }
   ],
   "source": [
    "points"
   ]
  },
  {
   "cell_type": "code",
   "execution_count": 23,
   "id": "012bd2ac",
   "metadata": {},
   "outputs": [
    {
     "name": "stdout",
     "output_type": "stream",
     "text": [
      "10 13 13\n"
     ]
    }
   ],
   "source": [
    "print(len(rating),len(matches),len(points))"
   ]
  },
  {
   "cell_type": "code",
   "execution_count": 24,
   "id": "ce9aeef6",
   "metadata": {},
   "outputs": [],
   "source": [
    "rating  = rating[:10]\n",
    "matches = matches[:10]\n",
    "points = points[:10]\n",
    "teamname = teamname[:10]"
   ]
  },
  {
   "cell_type": "code",
   "execution_count": 25,
   "id": "b0333195",
   "metadata": {},
   "outputs": [
    {
     "name": "stdout",
     "output_type": "stream",
     "text": [
      "10 10 10 10\n"
     ]
    }
   ],
   "source": [
    "print(len(rating),len(matches),len(points),len(teamname))"
   ]
  },
  {
   "cell_type": "code",
   "execution_count": 26,
   "id": "b27fc8ea",
   "metadata": {},
   "outputs": [],
   "source": [
    "import pandas as pd"
   ]
  },
  {
   "cell_type": "code",
   "execution_count": 27,
   "id": "5e59fe6f",
   "metadata": {},
   "outputs": [],
   "source": [
    "data = pd.DataFrame({\"TEAM Name\":teamname,\"Matches\":matches,\"Points\":points,\"Rating\":rating})"
   ]
  },
  {
   "cell_type": "code",
   "execution_count": 28,
   "id": "22d38563",
   "metadata": {},
   "outputs": [
    {
     "data": {
      "text/html": [
       "<div>\n",
       "<style scoped>\n",
       "    .dataframe tbody tr th:only-of-type {\n",
       "        vertical-align: middle;\n",
       "    }\n",
       "\n",
       "    .dataframe tbody tr th {\n",
       "        vertical-align: top;\n",
       "    }\n",
       "\n",
       "    .dataframe thead th {\n",
       "        text-align: right;\n",
       "    }\n",
       "</style>\n",
       "<table border=\"1\" class=\"dataframe\">\n",
       "  <thead>\n",
       "    <tr style=\"text-align: right;\">\n",
       "      <th></th>\n",
       "      <th>TEAM Name</th>\n",
       "      <th>Matches</th>\n",
       "      <th>Points</th>\n",
       "      <th>Rating</th>\n",
       "    </tr>\n",
       "  </thead>\n",
       "  <tbody>\n",
       "    <tr>\n",
       "      <th>0</th>\n",
       "      <td>Australia</td>\n",
       "      <td>18</td>\n",
       "      <td>3,061</td>\n",
       "      <td>170</td>\n",
       "    </tr>\n",
       "    <tr>\n",
       "      <th>1</th>\n",
       "      <td>England</td>\n",
       "      <td>28</td>\n",
       "      <td>3,342</td>\n",
       "      <td>119</td>\n",
       "    </tr>\n",
       "    <tr>\n",
       "      <th>2</th>\n",
       "      <td>South Africa</td>\n",
       "      <td>26</td>\n",
       "      <td>3,098</td>\n",
       "      <td>119</td>\n",
       "    </tr>\n",
       "    <tr>\n",
       "      <th>3</th>\n",
       "      <td>India</td>\n",
       "      <td>27</td>\n",
       "      <td>2,820</td>\n",
       "      <td>104</td>\n",
       "    </tr>\n",
       "    <tr>\n",
       "      <th>4</th>\n",
       "      <td>New Zealand</td>\n",
       "      <td>25</td>\n",
       "      <td>2,553</td>\n",
       "      <td>102</td>\n",
       "    </tr>\n",
       "    <tr>\n",
       "      <th>5</th>\n",
       "      <td>West Indies</td>\n",
       "      <td>27</td>\n",
       "      <td>2,535</td>\n",
       "      <td>94</td>\n",
       "    </tr>\n",
       "    <tr>\n",
       "      <th>6</th>\n",
       "      <td>Bangladesh</td>\n",
       "      <td>13</td>\n",
       "      <td>983</td>\n",
       "      <td>76</td>\n",
       "    </tr>\n",
       "    <tr>\n",
       "      <th>7</th>\n",
       "      <td>Thailand</td>\n",
       "      <td>8</td>\n",
       "      <td>572</td>\n",
       "      <td>72</td>\n",
       "    </tr>\n",
       "    <tr>\n",
       "      <th>8</th>\n",
       "      <td>Pakistan</td>\n",
       "      <td>24</td>\n",
       "      <td>1,519</td>\n",
       "      <td>63</td>\n",
       "    </tr>\n",
       "    <tr>\n",
       "      <th>9</th>\n",
       "      <td>Sri Lanka</td>\n",
       "      <td>8</td>\n",
       "      <td>353</td>\n",
       "      <td>44</td>\n",
       "    </tr>\n",
       "  </tbody>\n",
       "</table>\n",
       "</div>"
      ],
      "text/plain": [
       "      TEAM Name Matches Points                           Rating\n",
       "0     Australia      18  3,061                              170\n",
       "1       England      28  3,342                              119\n",
       "2  South Africa      26  3,098                              119\n",
       "3         India      27  2,820                              104\n",
       "4   New Zealand      25  2,553                              102\n",
       "5   West Indies      27  2,535                               94\n",
       "6    Bangladesh      13    983                               76\n",
       "7      Thailand       8    572                               72\n",
       "8      Pakistan      24  1,519                               63\n",
       "9     Sri Lanka       8    353                               44"
      ]
     },
     "execution_count": 28,
     "metadata": {},
     "output_type": "execute_result"
    }
   ],
   "source": [
    "data"
   ]
  },
  {
   "cell_type": "code",
   "execution_count": 29,
   "id": "8fe16c24",
   "metadata": {},
   "outputs": [],
   "source": [
    "data.to_csv(\"TOP 10 ODI WOMEN TEAM.csv\")"
   ]
  },
  {
   "cell_type": "code",
   "execution_count": null,
   "id": "486d838f",
   "metadata": {},
   "outputs": [],
   "source": []
  }
 ],
 "metadata": {
  "kernelspec": {
   "display_name": "Python 3 (ipykernel)",
   "language": "python",
   "name": "python3"
  },
  "language_info": {
   "codemirror_mode": {
    "name": "ipython",
    "version": 3
   },
   "file_extension": ".py",
   "mimetype": "text/x-python",
   "name": "python",
   "nbconvert_exporter": "python",
   "pygments_lexer": "ipython3",
   "version": "3.9.12"
  }
 },
 "nbformat": 4,
 "nbformat_minor": 5
}
