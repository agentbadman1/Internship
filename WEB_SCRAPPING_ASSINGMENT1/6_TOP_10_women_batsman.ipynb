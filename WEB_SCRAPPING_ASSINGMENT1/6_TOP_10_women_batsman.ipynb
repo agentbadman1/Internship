{
 "cells": [
  {
   "cell_type": "code",
   "execution_count": 1,
   "id": "d8f2892b",
   "metadata": {},
   "outputs": [],
   "source": [
    "from bs4 import BeautifulSoup\n",
    "import requests"
   ]
  },
  {
   "cell_type": "code",
   "execution_count": 2,
   "id": "0136df15",
   "metadata": {},
   "outputs": [],
   "source": [
    "url = requests.get(\"https://www.icc-cricket.com/rankings/womens/player-rankings/odi\")"
   ]
  },
  {
   "cell_type": "code",
   "execution_count": 3,
   "id": "d5fdbd5a",
   "metadata": {},
   "outputs": [
    {
     "data": {
      "text/plain": [
       "<Response [200]>"
      ]
     },
     "execution_count": 3,
     "metadata": {},
     "output_type": "execute_result"
    }
   ],
   "source": [
    "url"
   ]
  },
  {
   "cell_type": "code",
   "execution_count": 4,
   "id": "9c0cc5b6",
   "metadata": {},
   "outputs": [],
   "source": [
    "soup = BeautifulSoup(url.content)"
   ]
  },
  {
   "cell_type": "code",
   "execution_count": 5,
   "id": "be061fee",
   "metadata": {},
   "outputs": [
    {
     "data": {
      "text/plain": [
       "['Alyssa Healy', 'Sophie Ecclestone', 'Ellyse Perry']"
      ]
     },
     "execution_count": 5,
     "metadata": {},
     "output_type": "execute_result"
    }
   ],
   "source": [
    "name = []\n",
    "\n",
    "for i in soup.find_all(\"div\",class_=\"rankings-block__banner--name\"):\n",
    "    name.append(i.text)\n",
    "\n",
    "name"
   ]
  },
  {
   "cell_type": "code",
   "execution_count": 6,
   "id": "b2d86913",
   "metadata": {},
   "outputs": [
    {
     "data": {
      "text/plain": [
       "['Beth Mooney',\n",
       " 'Laura Wolvaardt',\n",
       " 'Natalie Sciver',\n",
       " 'Harmanpreet Kaur',\n",
       " 'Smriti Mandhana',\n",
       " 'Meg Lanning',\n",
       " 'Rachael Haynes',\n",
       " 'Chamari Athapaththu',\n",
       " 'Ellyse Perry',\n",
       " 'Jess Jonassen',\n",
       " 'Megan Schutt',\n",
       " 'Shabnim Ismail',\n",
       " 'Jhulan Goswami',\n",
       " 'Hayley Matthews',\n",
       " 'Kate Cross',\n",
       " 'Ayabonga Khaka',\n",
       " 'Rajeshwari Gayakwad',\n",
       " 'Marizanne Kapp',\n",
       " 'Hayley Matthews',\n",
       " 'Natalie Sciver',\n",
       " 'Marizanne Kapp',\n",
       " 'Amelia Kerr',\n",
       " 'Deepti Sharma',\n",
       " 'Ashleigh Gardner',\n",
       " 'Jess Jonassen',\n",
       " 'Jhulan Goswami',\n",
       " 'Sophie Ecclestone']"
      ]
     },
     "execution_count": 6,
     "metadata": {},
     "output_type": "execute_result"
    }
   ],
   "source": [
    "name1=[]\n",
    "\n",
    "for i in soup.find_all(\"td\",class_=\"table-body__cell name\"):\n",
    "    name1.append(i.text.split(\"\\n\")[1])\n",
    "\n",
    "name1"
   ]
  },
  {
   "cell_type": "code",
   "execution_count": 7,
   "id": "d5bbec34",
   "metadata": {},
   "outputs": [],
   "source": [
    "name1 = name1[:9]"
   ]
  },
  {
   "cell_type": "code",
   "execution_count": 9,
   "id": "59ac2163",
   "metadata": {},
   "outputs": [
    {
     "data": {
      "text/plain": [
       "['Beth Mooney',\n",
       " 'Laura Wolvaardt',\n",
       " 'Natalie Sciver',\n",
       " 'Harmanpreet Kaur',\n",
       " 'Smriti Mandhana',\n",
       " 'Meg Lanning',\n",
       " 'Rachael Haynes',\n",
       " 'Chamari Athapaththu',\n",
       " 'Ellyse Perry']"
      ]
     },
     "execution_count": 9,
     "metadata": {},
     "output_type": "execute_result"
    }
   ],
   "source": [
    "name1"
   ]
  },
  {
   "cell_type": "code",
   "execution_count": 10,
   "id": "f69660e9",
   "metadata": {},
   "outputs": [],
   "source": [
    "name1.insert(0,name[0])"
   ]
  },
  {
   "cell_type": "code",
   "execution_count": 11,
   "id": "32425167",
   "metadata": {},
   "outputs": [
    {
     "data": {
      "text/plain": [
       "['Alyssa Healy',\n",
       " 'Beth Mooney',\n",
       " 'Laura Wolvaardt',\n",
       " 'Natalie Sciver',\n",
       " 'Harmanpreet Kaur',\n",
       " 'Smriti Mandhana',\n",
       " 'Meg Lanning',\n",
       " 'Rachael Haynes',\n",
       " 'Chamari Athapaththu',\n",
       " 'Ellyse Perry']"
      ]
     },
     "execution_count": 11,
     "metadata": {},
     "output_type": "execute_result"
    }
   ],
   "source": [
    "name1"
   ]
  },
  {
   "cell_type": "code",
   "execution_count": 12,
   "id": "05be96d1",
   "metadata": {},
   "outputs": [
    {
     "name": "stdout",
     "output_type": "stream",
     "text": [
      "10\n"
     ]
    }
   ],
   "source": [
    "print(len(name1))"
   ]
  },
  {
   "cell_type": "code",
   "execution_count": 13,
   "id": "154e6fab",
   "metadata": {},
   "outputs": [
    {
     "data": {
      "text/plain": [
       "['785', '751', '374']"
      ]
     },
     "execution_count": 13,
     "metadata": {},
     "output_type": "execute_result"
    }
   ],
   "source": [
    "rating = []\n",
    "\n",
    "for i in soup.find_all(\"div\",class_=\"rankings-block__banner--rating\"):\n",
    "    rating.append(i.text)\n",
    "    \n",
    "rating\n"
   ]
  },
  {
   "cell_type": "code",
   "execution_count": 15,
   "id": "7c1db5dd",
   "metadata": {},
   "outputs": [
    {
     "data": {
      "text/plain": [
       "['749',\n",
       " '732',\n",
       " '731',\n",
       " '716',\n",
       " '714',\n",
       " '710',\n",
       " '701',\n",
       " '655',\n",
       " '642',\n",
       " '725',\n",
       " '722',\n",
       " '722',\n",
       " '698',\n",
       " '660',\n",
       " '655',\n",
       " '634',\n",
       " '617',\n",
       " '598',\n",
       " '373',\n",
       " '371',\n",
       " '349',\n",
       " '336',\n",
       " '322',\n",
       " '270',\n",
       " '246',\n",
       " '214',\n",
       " '205']"
      ]
     },
     "execution_count": 15,
     "metadata": {},
     "output_type": "execute_result"
    }
   ],
   "source": [
    "rating1 = []\n",
    "\n",
    "for i in soup.find_all(\"td\",class_=\"table-body__cell u-text-right rating\"):\n",
    "    rating1.append(i.text)\n",
    "\n",
    "rating1"
   ]
  },
  {
   "cell_type": "code",
   "execution_count": 16,
   "id": "8c158f90",
   "metadata": {},
   "outputs": [],
   "source": [
    "rating1 = rating1[:9]"
   ]
  },
  {
   "cell_type": "code",
   "execution_count": 17,
   "id": "095fac06",
   "metadata": {},
   "outputs": [],
   "source": [
    "rating1.insert(0,rating[0])"
   ]
  },
  {
   "cell_type": "code",
   "execution_count": 18,
   "id": "81fdc6a5",
   "metadata": {},
   "outputs": [
    {
     "name": "stdout",
     "output_type": "stream",
     "text": [
      "10\n"
     ]
    }
   ],
   "source": [
    "print(len(rating1))"
   ]
  },
  {
   "cell_type": "code",
   "execution_count": 19,
   "id": "959ba12f",
   "metadata": {},
   "outputs": [],
   "source": [
    "import pandas as pd\n",
    "import numpy as np"
   ]
  },
  {
   "cell_type": "code",
   "execution_count": 20,
   "id": "09a786ee",
   "metadata": {},
   "outputs": [],
   "source": [
    "TEAM_Name = [\"Australia\",\"Australia\",\"South Africa\",\"England\",\"India\",\"India\",\"Australia\",\"Australia\",\"Sri Lanka\",\"Australia\"]"
   ]
  },
  {
   "cell_type": "code",
   "execution_count": 21,
   "id": "0564d894",
   "metadata": {},
   "outputs": [],
   "source": [
    "data = pd.DataFrame({\"Name\":name1,\"TEAM\":TEAM_Name,\"Player Rating\":rating1})"
   ]
  },
  {
   "cell_type": "code",
   "execution_count": 22,
   "id": "a0c8848a",
   "metadata": {},
   "outputs": [
    {
     "data": {
      "text/html": [
       "<div>\n",
       "<style scoped>\n",
       "    .dataframe tbody tr th:only-of-type {\n",
       "        vertical-align: middle;\n",
       "    }\n",
       "\n",
       "    .dataframe tbody tr th {\n",
       "        vertical-align: top;\n",
       "    }\n",
       "\n",
       "    .dataframe thead th {\n",
       "        text-align: right;\n",
       "    }\n",
       "</style>\n",
       "<table border=\"1\" class=\"dataframe\">\n",
       "  <thead>\n",
       "    <tr style=\"text-align: right;\">\n",
       "      <th></th>\n",
       "      <th>Name</th>\n",
       "      <th>TEAM</th>\n",
       "      <th>Player Rating</th>\n",
       "    </tr>\n",
       "  </thead>\n",
       "  <tbody>\n",
       "    <tr>\n",
       "      <th>0</th>\n",
       "      <td>Alyssa Healy</td>\n",
       "      <td>Australia</td>\n",
       "      <td>785</td>\n",
       "    </tr>\n",
       "    <tr>\n",
       "      <th>1</th>\n",
       "      <td>Beth Mooney</td>\n",
       "      <td>Australia</td>\n",
       "      <td>749</td>\n",
       "    </tr>\n",
       "    <tr>\n",
       "      <th>2</th>\n",
       "      <td>Laura Wolvaardt</td>\n",
       "      <td>South Africa</td>\n",
       "      <td>732</td>\n",
       "    </tr>\n",
       "    <tr>\n",
       "      <th>3</th>\n",
       "      <td>Natalie Sciver</td>\n",
       "      <td>England</td>\n",
       "      <td>731</td>\n",
       "    </tr>\n",
       "    <tr>\n",
       "      <th>4</th>\n",
       "      <td>Harmanpreet Kaur</td>\n",
       "      <td>India</td>\n",
       "      <td>716</td>\n",
       "    </tr>\n",
       "    <tr>\n",
       "      <th>5</th>\n",
       "      <td>Smriti Mandhana</td>\n",
       "      <td>India</td>\n",
       "      <td>714</td>\n",
       "    </tr>\n",
       "    <tr>\n",
       "      <th>6</th>\n",
       "      <td>Meg Lanning</td>\n",
       "      <td>Australia</td>\n",
       "      <td>710</td>\n",
       "    </tr>\n",
       "    <tr>\n",
       "      <th>7</th>\n",
       "      <td>Rachael Haynes</td>\n",
       "      <td>Australia</td>\n",
       "      <td>701</td>\n",
       "    </tr>\n",
       "    <tr>\n",
       "      <th>8</th>\n",
       "      <td>Chamari Athapaththu</td>\n",
       "      <td>Sri Lanka</td>\n",
       "      <td>655</td>\n",
       "    </tr>\n",
       "    <tr>\n",
       "      <th>9</th>\n",
       "      <td>Ellyse Perry</td>\n",
       "      <td>Australia</td>\n",
       "      <td>642</td>\n",
       "    </tr>\n",
       "  </tbody>\n",
       "</table>\n",
       "</div>"
      ],
      "text/plain": [
       "                  Name          TEAM Player Rating\n",
       "0         Alyssa Healy     Australia           785\n",
       "1          Beth Mooney     Australia           749\n",
       "2      Laura Wolvaardt  South Africa           732\n",
       "3       Natalie Sciver       England           731\n",
       "4     Harmanpreet Kaur         India           716\n",
       "5      Smriti Mandhana         India           714\n",
       "6          Meg Lanning     Australia           710\n",
       "7       Rachael Haynes     Australia           701\n",
       "8  Chamari Athapaththu     Sri Lanka           655\n",
       "9         Ellyse Perry     Australia           642"
      ]
     },
     "execution_count": 22,
     "metadata": {},
     "output_type": "execute_result"
    }
   ],
   "source": [
    "data"
   ]
  },
  {
   "cell_type": "code",
   "execution_count": null,
   "id": "f9833a07",
   "metadata": {},
   "outputs": [],
   "source": []
  }
 ],
 "metadata": {
  "kernelspec": {
   "display_name": "Python 3 (ipykernel)",
   "language": "python",
   "name": "python3"
  },
  "language_info": {
   "codemirror_mode": {
    "name": "ipython",
    "version": 3
   },
   "file_extension": ".py",
   "mimetype": "text/x-python",
   "name": "python",
   "nbconvert_exporter": "python",
   "pygments_lexer": "ipython3",
   "version": "3.9.12"
  }
 },
 "nbformat": 4,
 "nbformat_minor": 5
}
