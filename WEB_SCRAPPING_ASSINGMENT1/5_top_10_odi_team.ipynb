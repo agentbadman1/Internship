{
 "cells": [
  {
   "cell_type": "code",
   "execution_count": 3,
   "id": "ac93210f",
   "metadata": {},
   "outputs": [],
   "source": [
    "from bs4 import BeautifulSoup\n",
    "import requests"
   ]
  },
  {
   "cell_type": "code",
   "execution_count": 4,
   "id": "e98ed600",
   "metadata": {},
   "outputs": [],
   "source": [
    "url = requests.get(\"https://www.icc-cricket.com/rankings/mens/team-rankings/odi\")"
   ]
  },
  {
   "cell_type": "code",
   "execution_count": 5,
   "id": "40e274c3",
   "metadata": {},
   "outputs": [
    {
     "data": {
      "text/plain": [
       "<Response [200]>"
      ]
     },
     "execution_count": 5,
     "metadata": {},
     "output_type": "execute_result"
    }
   ],
   "source": [
    "url"
   ]
  },
  {
   "cell_type": "code",
   "execution_count": 6,
   "id": "347b35b6",
   "metadata": {},
   "outputs": [],
   "source": [
    "soup = BeautifulSoup(url.content)"
   ]
  },
  {
   "cell_type": "code",
   "execution_count": 7,
   "id": "c6733149",
   "metadata": {},
   "outputs": [
    {
     "data": {
      "text/plain": [
       "['New Zealand',\n",
       " 'England',\n",
       " 'Australia',\n",
       " 'Pakistan',\n",
       " 'India',\n",
       " 'South Africa',\n",
       " 'Bangladesh',\n",
       " 'Sri Lanka',\n",
       " 'Afghanistan',\n",
       " 'West Indies',\n",
       " 'Ireland',\n",
       " 'Scotland',\n",
       " 'Zimbabwe',\n",
       " 'Namibia',\n",
       " 'Netherlands',\n",
       " 'Oman',\n",
       " 'UAE',\n",
       " 'United States',\n",
       " 'Nepal',\n",
       " 'Papua New Guinea']"
      ]
     },
     "execution_count": 7,
     "metadata": {},
     "output_type": "execute_result"
    }
   ],
   "source": [
    "teamname=[]\n",
    "\n",
    "for i in soup.find_all(\"span\",class_=\"u-hide-phablet\"):\n",
    "    teamname.append(i.text)\n",
    "    \n",
    "teamname"
   ]
  },
  {
   "cell_type": "code",
   "execution_count": 8,
   "id": "42404227",
   "metadata": {},
   "outputs": [
    {
     "data": {
      "text/plain": [
       "['23']"
      ]
     },
     "execution_count": 8,
     "metadata": {},
     "output_type": "execute_result"
    }
   ],
   "source": [
    "matches = []\n",
    "\n",
    "for i in soup.find_all(\"td\",class_=\"rankings-block__banner--matches\"):\n",
    "    matches.append(i.text)\n",
    "    \n",
    "matches"
   ]
  },
  {
   "cell_type": "code",
   "execution_count": 9,
   "id": "8303bdb0",
   "metadata": {},
   "outputs": [
    {
     "data": {
      "text/plain": [
       "['2,670']"
      ]
     },
     "execution_count": 9,
     "metadata": {},
     "output_type": "execute_result"
    }
   ],
   "source": [
    "points = []\n",
    "\n",
    "for i in soup.find_all(\"td\",class_=\"rankings-block__banner--points\"):\n",
    "    points.append(i.text)\n",
    "    \n",
    "points"
   ]
  },
  {
   "cell_type": "code",
   "execution_count": 10,
   "id": "591ff4ee",
   "metadata": {},
   "outputs": [
    {
     "data": {
      "text/plain": [
       "['                            116']"
      ]
     },
     "execution_count": 10,
     "metadata": {},
     "output_type": "execute_result"
    }
   ],
   "source": [
    "rating = []\n",
    "\n",
    "for i in soup.find_all(\"td\",class_=\"rankings-block__banner--rating u-text-right\"):\n",
    "    rating.append(i.text.split(\"\\n\")[1])\n",
    "    \n",
    "rating"
   ]
  },
  {
   "cell_type": "code",
   "execution_count": 11,
   "id": "b12043bf",
   "metadata": {},
   "outputs": [
    {
     "data": {
      "text/plain": [
       "['                            116',\n",
       " '113',\n",
       " '112',\n",
       " '110',\n",
       " '109',\n",
       " '100',\n",
       " '95',\n",
       " '89',\n",
       " '71',\n",
       " '71',\n",
       " '53',\n",
       " '47',\n",
       " '42',\n",
       " '37',\n",
       " '32',\n",
       " '31',\n",
       " '28',\n",
       " '26',\n",
       " '16',\n",
       " '4']"
      ]
     },
     "execution_count": 11,
     "metadata": {},
     "output_type": "execute_result"
    }
   ],
   "source": [
    "for i in soup.find_all(\"td\",class_=\"table-body__cell u-text-right rating\"):\n",
    "    rating.append(i.text)\n",
    "    \n",
    "rating"
   ]
  },
  {
   "cell_type": "code",
   "execution_count": 12,
   "id": "4fd0889e",
   "metadata": {},
   "outputs": [
    {
     "name": "stdout",
     "output_type": "stream",
     "text": [
      "20\n"
     ]
    }
   ],
   "source": [
    "print(len(rating))"
   ]
  },
  {
   "cell_type": "code",
   "execution_count": 13,
   "id": "68a5c62b",
   "metadata": {},
   "outputs": [
    {
     "data": {
      "text/plain": [
       "['30',\n",
       " '3,400',\n",
       " '32',\n",
       " '3,572',\n",
       " '23',\n",
       " '2,520',\n",
       " '39',\n",
       " '4,238',\n",
       " '24',\n",
       " '2,392',\n",
       " '33',\n",
       " '3,129',\n",
       " '32',\n",
       " '2,858',\n",
       " '20',\n",
       " '1,419',\n",
       " '41',\n",
       " '2,902',\n",
       " '23',\n",
       " '1,214',\n",
       " '31',\n",
       " '1,459',\n",
       " '26',\n",
       " '1,098',\n",
       " '26',\n",
       " '971',\n",
       " '21',\n",
       " '673',\n",
       " '30',\n",
       " '919',\n",
       " '25',\n",
       " '693',\n",
       " '31',\n",
       " '821',\n",
       " '28',\n",
       " '456',\n",
       " '30',\n",
       " '128']"
      ]
     },
     "execution_count": 13,
     "metadata": {},
     "output_type": "execute_result"
    }
   ],
   "source": [
    "newl = []\n",
    "\n",
    "for i in soup.find_all(\"td\",class_=\"table-body__cell u-center-text\"):\n",
    "        newl.append(i.text)\n",
    "        \n",
    "newl"
   ]
  },
  {
   "cell_type": "code",
   "execution_count": 15,
   "id": "332ed197",
   "metadata": {},
   "outputs": [
    {
     "name": "stdout",
     "output_type": "stream",
     "text": [
      "38\n"
     ]
    }
   ],
   "source": [
    "print(len(newl))"
   ]
  },
  {
   "cell_type": "code",
   "execution_count": 16,
   "id": "ee7abc1d",
   "metadata": {},
   "outputs": [],
   "source": [
    "for i in newl:\n",
    "    if len(i)==2:\n",
    "        matches.append(i)\n",
    "    else:\n",
    "        points.append(i)"
   ]
  },
  {
   "cell_type": "code",
   "execution_count": 17,
   "id": "6f10a1ae",
   "metadata": {},
   "outputs": [
    {
     "data": {
      "text/plain": [
       "['23',\n",
       " '30',\n",
       " '32',\n",
       " '23',\n",
       " '39',\n",
       " '24',\n",
       " '33',\n",
       " '32',\n",
       " '20',\n",
       " '41',\n",
       " '23',\n",
       " '31',\n",
       " '26',\n",
       " '26',\n",
       " '21',\n",
       " '30',\n",
       " '25',\n",
       " '31',\n",
       " '28',\n",
       " '30']"
      ]
     },
     "execution_count": 17,
     "metadata": {},
     "output_type": "execute_result"
    }
   ],
   "source": [
    "matches"
   ]
  },
  {
   "cell_type": "code",
   "execution_count": 18,
   "id": "44108522",
   "metadata": {},
   "outputs": [
    {
     "data": {
      "text/plain": [
       "['2,670',\n",
       " '3,400',\n",
       " '3,572',\n",
       " '2,520',\n",
       " '4,238',\n",
       " '2,392',\n",
       " '3,129',\n",
       " '2,858',\n",
       " '1,419',\n",
       " '2,902',\n",
       " '1,214',\n",
       " '1,459',\n",
       " '1,098',\n",
       " '971',\n",
       " '673',\n",
       " '919',\n",
       " '693',\n",
       " '821',\n",
       " '456',\n",
       " '128']"
      ]
     },
     "execution_count": 18,
     "metadata": {},
     "output_type": "execute_result"
    }
   ],
   "source": [
    "points"
   ]
  },
  {
   "cell_type": "code",
   "execution_count": 19,
   "id": "c288549b",
   "metadata": {},
   "outputs": [
    {
     "name": "stdout",
     "output_type": "stream",
     "text": [
      "20 20 20\n"
     ]
    }
   ],
   "source": [
    "print(len(rating),len(matches),len(points))"
   ]
  },
  {
   "cell_type": "code",
   "execution_count": 23,
   "id": "e0196e86",
   "metadata": {},
   "outputs": [],
   "source": [
    "rating  = rating[:10]\n",
    "matches = matches[:10]\n",
    "points = points[:10]\n",
    "teamname = teamname[:10]"
   ]
  },
  {
   "cell_type": "code",
   "execution_count": 24,
   "id": "869f42b6",
   "metadata": {},
   "outputs": [
    {
     "name": "stdout",
     "output_type": "stream",
     "text": [
      "10 10 10 10\n"
     ]
    }
   ],
   "source": [
    "print(len(rating),len(matches),len(points),len(teamname))"
   ]
  },
  {
   "cell_type": "code",
   "execution_count": 25,
   "id": "f2e545a3",
   "metadata": {},
   "outputs": [],
   "source": [
    "import pandas as pd"
   ]
  },
  {
   "cell_type": "code",
   "execution_count": 27,
   "id": "31d8702d",
   "metadata": {},
   "outputs": [],
   "source": [
    "data = pd.DataFrame({\"TEAM Name\":teamname,\"Matches\":matches,\"Points\":points,\"Rating\":rating})"
   ]
  },
  {
   "cell_type": "code",
   "execution_count": 28,
   "id": "113967cc",
   "metadata": {},
   "outputs": [
    {
     "data": {
      "text/html": [
       "<div>\n",
       "<style scoped>\n",
       "    .dataframe tbody tr th:only-of-type {\n",
       "        vertical-align: middle;\n",
       "    }\n",
       "\n",
       "    .dataframe tbody tr th {\n",
       "        vertical-align: top;\n",
       "    }\n",
       "\n",
       "    .dataframe thead th {\n",
       "        text-align: right;\n",
       "    }\n",
       "</style>\n",
       "<table border=\"1\" class=\"dataframe\">\n",
       "  <thead>\n",
       "    <tr style=\"text-align: right;\">\n",
       "      <th></th>\n",
       "      <th>TEAM Name</th>\n",
       "      <th>Matches</th>\n",
       "      <th>Points</th>\n",
       "      <th>Rating</th>\n",
       "    </tr>\n",
       "  </thead>\n",
       "  <tbody>\n",
       "    <tr>\n",
       "      <th>0</th>\n",
       "      <td>New Zealand</td>\n",
       "      <td>23</td>\n",
       "      <td>2,670</td>\n",
       "      <td>116</td>\n",
       "    </tr>\n",
       "    <tr>\n",
       "      <th>1</th>\n",
       "      <td>England</td>\n",
       "      <td>30</td>\n",
       "      <td>3,400</td>\n",
       "      <td>113</td>\n",
       "    </tr>\n",
       "    <tr>\n",
       "      <th>2</th>\n",
       "      <td>Australia</td>\n",
       "      <td>32</td>\n",
       "      <td>3,572</td>\n",
       "      <td>112</td>\n",
       "    </tr>\n",
       "    <tr>\n",
       "      <th>3</th>\n",
       "      <td>Pakistan</td>\n",
       "      <td>23</td>\n",
       "      <td>2,520</td>\n",
       "      <td>110</td>\n",
       "    </tr>\n",
       "    <tr>\n",
       "      <th>4</th>\n",
       "      <td>India</td>\n",
       "      <td>39</td>\n",
       "      <td>4,238</td>\n",
       "      <td>109</td>\n",
       "    </tr>\n",
       "    <tr>\n",
       "      <th>5</th>\n",
       "      <td>South Africa</td>\n",
       "      <td>24</td>\n",
       "      <td>2,392</td>\n",
       "      <td>100</td>\n",
       "    </tr>\n",
       "    <tr>\n",
       "      <th>6</th>\n",
       "      <td>Bangladesh</td>\n",
       "      <td>33</td>\n",
       "      <td>3,129</td>\n",
       "      <td>95</td>\n",
       "    </tr>\n",
       "    <tr>\n",
       "      <th>7</th>\n",
       "      <td>Sri Lanka</td>\n",
       "      <td>32</td>\n",
       "      <td>2,858</td>\n",
       "      <td>89</td>\n",
       "    </tr>\n",
       "    <tr>\n",
       "      <th>8</th>\n",
       "      <td>Afghanistan</td>\n",
       "      <td>20</td>\n",
       "      <td>1,419</td>\n",
       "      <td>71</td>\n",
       "    </tr>\n",
       "    <tr>\n",
       "      <th>9</th>\n",
       "      <td>West Indies</td>\n",
       "      <td>41</td>\n",
       "      <td>2,902</td>\n",
       "      <td>71</td>\n",
       "    </tr>\n",
       "  </tbody>\n",
       "</table>\n",
       "</div>"
      ],
      "text/plain": [
       "      TEAM Name Matches Points                           Rating\n",
       "0   New Zealand      23  2,670                              116\n",
       "1       England      30  3,400                              113\n",
       "2     Australia      32  3,572                              112\n",
       "3      Pakistan      23  2,520                              110\n",
       "4         India      39  4,238                              109\n",
       "5  South Africa      24  2,392                              100\n",
       "6    Bangladesh      33  3,129                               95\n",
       "7     Sri Lanka      32  2,858                               89\n",
       "8   Afghanistan      20  1,419                               71\n",
       "9   West Indies      41  2,902                               71"
      ]
     },
     "execution_count": 28,
     "metadata": {},
     "output_type": "execute_result"
    }
   ],
   "source": [
    "data"
   ]
  },
  {
   "cell_type": "code",
   "execution_count": 29,
   "id": "b0c64c50",
   "metadata": {},
   "outputs": [],
   "source": [
    "data.to_csv(\"TOP 10 ODI TEAM.csv\")"
   ]
  },
  {
   "cell_type": "code",
   "execution_count": null,
   "id": "0a517bbe",
   "metadata": {},
   "outputs": [],
   "source": []
  }
 ],
 "metadata": {
  "kernelspec": {
   "display_name": "Python 3 (ipykernel)",
   "language": "python",
   "name": "python3"
  },
  "language_info": {
   "codemirror_mode": {
    "name": "ipython",
    "version": 3
   },
   "file_extension": ".py",
   "mimetype": "text/x-python",
   "name": "python",
   "nbconvert_exporter": "python",
   "pygments_lexer": "ipython3",
   "version": "3.9.12"
  }
 },
 "nbformat": 4,
 "nbformat_minor": 5
}
