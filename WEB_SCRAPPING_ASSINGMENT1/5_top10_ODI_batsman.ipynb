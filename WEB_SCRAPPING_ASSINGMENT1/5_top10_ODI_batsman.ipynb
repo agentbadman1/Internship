{
 "cells": [
  {
   "cell_type": "code",
   "execution_count": 1,
   "id": "c78905c3",
   "metadata": {},
   "outputs": [],
   "source": [
    "from bs4 import BeautifulSoup\n",
    "import requests"
   ]
  },
  {
   "cell_type": "code",
   "execution_count": 2,
   "id": "ce824702",
   "metadata": {},
   "outputs": [],
   "source": [
    "url = requests.get(\"https://www.icc-cricket.com/rankings/mens/player-rankings/odi\")"
   ]
  },
  {
   "cell_type": "code",
   "execution_count": 3,
   "id": "e0557baf",
   "metadata": {},
   "outputs": [
    {
     "data": {
      "text/plain": [
       "<Response [200]>"
      ]
     },
     "execution_count": 3,
     "metadata": {},
     "output_type": "execute_result"
    }
   ],
   "source": [
    "url"
   ]
  },
  {
   "cell_type": "code",
   "execution_count": 4,
   "id": "a3bb567f",
   "metadata": {},
   "outputs": [],
   "source": [
    "soup = BeautifulSoup(url.content)"
   ]
  },
  {
   "cell_type": "code",
   "execution_count": 5,
   "id": "9cc5b637",
   "metadata": {},
   "outputs": [
    {
     "data": {
      "text/plain": [
       "['Babar Azam',\n",
       " 'Trent Boult',\n",
       " 'Shakib Al Hasan',\n",
       " 'Babar Azam',\n",
       " 'Trent Boult',\n",
       " 'Shakib Al Hasan']"
      ]
     },
     "execution_count": 5,
     "metadata": {},
     "output_type": "execute_result"
    }
   ],
   "source": [
    "name = []\n",
    "\n",
    "for i in soup.find_all(\"div\",class_=\"rankings-block__banner--name\"):\n",
    "    name.append(i.text)\n",
    "\n",
    "name"
   ]
  },
  {
   "cell_type": "code",
   "execution_count": 6,
   "id": "b017c418",
   "metadata": {},
   "outputs": [
    {
     "data": {
      "text/plain": [
       "['Rassie van der Dussen',\n",
       " 'Imam-ul-Haq',\n",
       " 'Quinton de Kock',\n",
       " 'David Warner',\n",
       " 'Virat Kohli',\n",
       " 'Steve Smith',\n",
       " 'Rohit Sharma',\n",
       " 'Jonny Bairstow',\n",
       " 'Fakhar Zaman',\n",
       " 'Josh Hazlewood',\n",
       " 'Mitchell Starc',\n",
       " 'Rashid Khan',\n",
       " 'Matt Henry',\n",
       " 'Adam Zampa',\n",
       " 'Shaheen Afridi',\n",
       " 'Shakib Al Hasan',\n",
       " 'Mustafizur Rahman',\n",
       " 'Mujeeb Ur Rahman',\n",
       " 'Mohammad Nabi',\n",
       " 'Mehedi Hasan',\n",
       " 'Rashid Khan',\n",
       " 'Mitchell Santner',\n",
       " 'Sikandar Raza',\n",
       " 'Zeeshan Maqsood',\n",
       " 'Wanindu Hasaranga',\n",
       " 'Assad Vala',\n",
       " 'Dhananjaya de Silva',\n",
       " 'Rassie van der Dussen',\n",
       " 'Imam-ul-Haq',\n",
       " 'Quinton de Kock',\n",
       " 'David Warner',\n",
       " 'Virat Kohli',\n",
       " 'Steve Smith',\n",
       " 'Rohit Sharma',\n",
       " 'Jonny Bairstow',\n",
       " 'Fakhar Zaman',\n",
       " 'Josh Hazlewood',\n",
       " 'Mitchell Starc',\n",
       " 'Rashid Khan',\n",
       " 'Matt Henry',\n",
       " 'Adam Zampa',\n",
       " 'Shaheen Afridi',\n",
       " 'Shakib Al Hasan',\n",
       " 'Mustafizur Rahman',\n",
       " 'Mujeeb Ur Rahman',\n",
       " 'Mohammad Nabi',\n",
       " 'Mehedi Hasan',\n",
       " 'Rashid Khan',\n",
       " 'Mitchell Santner',\n",
       " 'Sikandar Raza',\n",
       " 'Zeeshan Maqsood',\n",
       " 'Wanindu Hasaranga',\n",
       " 'Assad Vala',\n",
       " 'Dhananjaya de Silva']"
      ]
     },
     "execution_count": 6,
     "metadata": {},
     "output_type": "execute_result"
    }
   ],
   "source": [
    "name1=[]\n",
    "\n",
    "for i in soup.find_all(\"td\",class_=\"table-body__cell name\"):\n",
    "    name1.append(i.text.split(\"\\n\")[1])\n",
    "\n",
    "name1"
   ]
  },
  {
   "cell_type": "code",
   "execution_count": 7,
   "id": "ccf5e732",
   "metadata": {},
   "outputs": [
    {
     "data": {
      "text/plain": [
       "54"
      ]
     },
     "execution_count": 7,
     "metadata": {},
     "output_type": "execute_result"
    }
   ],
   "source": [
    "len(name1)"
   ]
  },
  {
   "cell_type": "code",
   "execution_count": 8,
   "id": "48a5107d",
   "metadata": {},
   "outputs": [],
   "source": [
    "name1 = name1[:9]"
   ]
  },
  {
   "cell_type": "code",
   "execution_count": 9,
   "id": "0d463fbd",
   "metadata": {},
   "outputs": [
    {
     "data": {
      "text/plain": [
       "['Rassie van der Dussen',\n",
       " 'Imam-ul-Haq',\n",
       " 'Quinton de Kock',\n",
       " 'David Warner',\n",
       " 'Virat Kohli',\n",
       " 'Steve Smith',\n",
       " 'Rohit Sharma',\n",
       " 'Jonny Bairstow',\n",
       " 'Fakhar Zaman']"
      ]
     },
     "execution_count": 9,
     "metadata": {},
     "output_type": "execute_result"
    }
   ],
   "source": [
    "name1"
   ]
  },
  {
   "cell_type": "code",
   "execution_count": 10,
   "id": "07ea3f46",
   "metadata": {},
   "outputs": [],
   "source": [
    "name1.insert(0,name[0])"
   ]
  },
  {
   "cell_type": "code",
   "execution_count": 11,
   "id": "0b8971b5",
   "metadata": {},
   "outputs": [
    {
     "data": {
      "text/plain": [
       "['Babar Azam',\n",
       " 'Rassie van der Dussen',\n",
       " 'Imam-ul-Haq',\n",
       " 'Quinton de Kock',\n",
       " 'David Warner',\n",
       " 'Virat Kohli',\n",
       " 'Steve Smith',\n",
       " 'Rohit Sharma',\n",
       " 'Jonny Bairstow',\n",
       " 'Fakhar Zaman']"
      ]
     },
     "execution_count": 11,
     "metadata": {},
     "output_type": "execute_result"
    }
   ],
   "source": [
    "name1"
   ]
  },
  {
   "cell_type": "code",
   "execution_count": 12,
   "id": "8e59a5e0",
   "metadata": {},
   "outputs": [
    {
     "name": "stdout",
     "output_type": "stream",
     "text": [
      "10\n"
     ]
    }
   ],
   "source": [
    "print(len(name1))"
   ]
  },
  {
   "cell_type": "code",
   "execution_count": 13,
   "id": "a598f08b",
   "metadata": {},
   "outputs": [
    {
     "data": {
      "text/plain": [
       "['891', '744', '389', '891', '744', '389']"
      ]
     },
     "execution_count": 13,
     "metadata": {},
     "output_type": "execute_result"
    }
   ],
   "source": [
    "rating = []\n",
    "\n",
    "for i in soup.find_all(\"div\",class_=\"rankings-block__banner--rating\"):\n",
    "    rating.append(i.text)\n",
    "    \n",
    "rating\n"
   ]
  },
  {
   "cell_type": "code",
   "execution_count": 14,
   "id": "ccb6655c",
   "metadata": {},
   "outputs": [
    {
     "data": {
      "text/plain": [
       "['766',\n",
       " '764',\n",
       " '759',\n",
       " '747',\n",
       " '726',\n",
       " '719',\n",
       " '715',\n",
       " '710',\n",
       " '695',\n",
       " '727',\n",
       " '665',\n",
       " '659',\n",
       " '656',\n",
       " '655',\n",
       " '654',\n",
       " '652',\n",
       " '638',\n",
       " '637',\n",
       " '310',\n",
       " '284',\n",
       " '280',\n",
       " '261',\n",
       " '261',\n",
       " '238',\n",
       " '233',\n",
       " '233',\n",
       " '226',\n",
       " '766',\n",
       " '764',\n",
       " '759',\n",
       " '747',\n",
       " '726',\n",
       " '719',\n",
       " '715',\n",
       " '710',\n",
       " '695',\n",
       " '727',\n",
       " '665',\n",
       " '659',\n",
       " '656',\n",
       " '655',\n",
       " '654',\n",
       " '652',\n",
       " '638',\n",
       " '637',\n",
       " '310',\n",
       " '284',\n",
       " '280',\n",
       " '261',\n",
       " '261',\n",
       " '238',\n",
       " '233',\n",
       " '233',\n",
       " '226']"
      ]
     },
     "execution_count": 14,
     "metadata": {},
     "output_type": "execute_result"
    }
   ],
   "source": [
    "rating1 = []\n",
    "\n",
    "for i in soup.find_all(\"td\",class_=\"table-body__cell u-text-right rating\"):\n",
    "    rating1.append(i.text)\n",
    "\n",
    "rating1"
   ]
  },
  {
   "cell_type": "code",
   "execution_count": 15,
   "id": "592e557d",
   "metadata": {},
   "outputs": [],
   "source": [
    "rating1 = rating1[:9]"
   ]
  },
  {
   "cell_type": "code",
   "execution_count": 16,
   "id": "739195db",
   "metadata": {},
   "outputs": [],
   "source": [
    "rating1.insert(0,rating[0])"
   ]
  },
  {
   "cell_type": "code",
   "execution_count": 17,
   "id": "f146da67",
   "metadata": {},
   "outputs": [
    {
     "name": "stdout",
     "output_type": "stream",
     "text": [
      "10\n"
     ]
    }
   ],
   "source": [
    "print(len(rating1))"
   ]
  },
  {
   "cell_type": "code",
   "execution_count": 18,
   "id": "4245770d",
   "metadata": {},
   "outputs": [],
   "source": [
    "import pandas as pd\n",
    "import numpy as np"
   ]
  },
  {
   "cell_type": "code",
   "execution_count": 19,
   "id": "9a913a6d",
   "metadata": {},
   "outputs": [],
   "source": [
    "TEAM_Name = [\"Pakistan\",\"South Africa\",\"Pakistan\",\"South Africa\",\"Australia\",\"India\",\"Australia\",\"India\",\"England\",\"Pakistan\"]"
   ]
  },
  {
   "cell_type": "code",
   "execution_count": 20,
   "id": "f2a51981",
   "metadata": {},
   "outputs": [],
   "source": [
    "data = pd.DataFrame({\"Name\":name1,\"TEAM\":TEAM_Name,\"Player Rating\":rating1})"
   ]
  },
  {
   "cell_type": "code",
   "execution_count": 21,
   "id": "4130ae2e",
   "metadata": {},
   "outputs": [
    {
     "data": {
      "text/html": [
       "<div>\n",
       "<style scoped>\n",
       "    .dataframe tbody tr th:only-of-type {\n",
       "        vertical-align: middle;\n",
       "    }\n",
       "\n",
       "    .dataframe tbody tr th {\n",
       "        vertical-align: top;\n",
       "    }\n",
       "\n",
       "    .dataframe thead th {\n",
       "        text-align: right;\n",
       "    }\n",
       "</style>\n",
       "<table border=\"1\" class=\"dataframe\">\n",
       "  <thead>\n",
       "    <tr style=\"text-align: right;\">\n",
       "      <th></th>\n",
       "      <th>Name</th>\n",
       "      <th>TEAM</th>\n",
       "      <th>Player Rating</th>\n",
       "    </tr>\n",
       "  </thead>\n",
       "  <tbody>\n",
       "    <tr>\n",
       "      <th>0</th>\n",
       "      <td>Babar Azam</td>\n",
       "      <td>Pakistan</td>\n",
       "      <td>891</td>\n",
       "    </tr>\n",
       "    <tr>\n",
       "      <th>1</th>\n",
       "      <td>Rassie van der Dussen</td>\n",
       "      <td>South Africa</td>\n",
       "      <td>766</td>\n",
       "    </tr>\n",
       "    <tr>\n",
       "      <th>2</th>\n",
       "      <td>Imam-ul-Haq</td>\n",
       "      <td>Pakistan</td>\n",
       "      <td>764</td>\n",
       "    </tr>\n",
       "    <tr>\n",
       "      <th>3</th>\n",
       "      <td>Quinton de Kock</td>\n",
       "      <td>South Africa</td>\n",
       "      <td>759</td>\n",
       "    </tr>\n",
       "    <tr>\n",
       "      <th>4</th>\n",
       "      <td>David Warner</td>\n",
       "      <td>Australia</td>\n",
       "      <td>747</td>\n",
       "    </tr>\n",
       "    <tr>\n",
       "      <th>5</th>\n",
       "      <td>Virat Kohli</td>\n",
       "      <td>India</td>\n",
       "      <td>726</td>\n",
       "    </tr>\n",
       "    <tr>\n",
       "      <th>6</th>\n",
       "      <td>Steve Smith</td>\n",
       "      <td>Australia</td>\n",
       "      <td>719</td>\n",
       "    </tr>\n",
       "    <tr>\n",
       "      <th>7</th>\n",
       "      <td>Rohit Sharma</td>\n",
       "      <td>India</td>\n",
       "      <td>715</td>\n",
       "    </tr>\n",
       "    <tr>\n",
       "      <th>8</th>\n",
       "      <td>Jonny Bairstow</td>\n",
       "      <td>England</td>\n",
       "      <td>710</td>\n",
       "    </tr>\n",
       "    <tr>\n",
       "      <th>9</th>\n",
       "      <td>Fakhar Zaman</td>\n",
       "      <td>Pakistan</td>\n",
       "      <td>695</td>\n",
       "    </tr>\n",
       "  </tbody>\n",
       "</table>\n",
       "</div>"
      ],
      "text/plain": [
       "                    Name          TEAM Player Rating\n",
       "0             Babar Azam      Pakistan           891\n",
       "1  Rassie van der Dussen  South Africa           766\n",
       "2            Imam-ul-Haq      Pakistan           764\n",
       "3        Quinton de Kock  South Africa           759\n",
       "4           David Warner     Australia           747\n",
       "5            Virat Kohli         India           726\n",
       "6            Steve Smith     Australia           719\n",
       "7           Rohit Sharma         India           715\n",
       "8         Jonny Bairstow       England           710\n",
       "9           Fakhar Zaman      Pakistan           695"
      ]
     },
     "execution_count": 21,
     "metadata": {},
     "output_type": "execute_result"
    }
   ],
   "source": [
    "data"
   ]
  },
  {
   "cell_type": "code",
   "execution_count": null,
   "id": "5baba1a2",
   "metadata": {},
   "outputs": [],
   "source": []
  }
 ],
 "metadata": {
  "kernelspec": {
   "display_name": "Python 3 (ipykernel)",
   "language": "python",
   "name": "python3"
  },
  "language_info": {
   "codemirror_mode": {
    "name": "ipython",
    "version": 3
   },
   "file_extension": ".py",
   "mimetype": "text/x-python",
   "name": "python",
   "nbconvert_exporter": "python",
   "pygments_lexer": "ipython3",
   "version": "3.9.12"
  }
 },
 "nbformat": 4,
 "nbformat_minor": 5
}
