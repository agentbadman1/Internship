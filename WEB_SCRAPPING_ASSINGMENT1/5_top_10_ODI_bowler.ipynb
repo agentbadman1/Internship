{
 "cells": [
  {
   "cell_type": "code",
   "execution_count": 1,
   "id": "9cab1a4d",
   "metadata": {},
   "outputs": [],
   "source": [
    "from bs4 import BeautifulSoup\n",
    "import requests"
   ]
  },
  {
   "cell_type": "code",
   "execution_count": 2,
   "id": "5fe2a8e9",
   "metadata": {},
   "outputs": [],
   "source": [
    "url = requests.get(\"https://www.icc-cricket.com/rankings/mens/player-rankings/odi\")"
   ]
  },
  {
   "cell_type": "code",
   "execution_count": 3,
   "id": "63606cfe",
   "metadata": {},
   "outputs": [
    {
     "data": {
      "text/plain": [
       "<Response [200]>"
      ]
     },
     "execution_count": 3,
     "metadata": {},
     "output_type": "execute_result"
    }
   ],
   "source": [
    "url"
   ]
  },
  {
   "cell_type": "code",
   "execution_count": 4,
   "id": "11e41264",
   "metadata": {},
   "outputs": [],
   "source": [
    "soup = BeautifulSoup(url.content)"
   ]
  },
  {
   "cell_type": "code",
   "execution_count": 5,
   "id": "31f088e4",
   "metadata": {},
   "outputs": [
    {
     "data": {
      "text/plain": [
       "['Babar Azam',\n",
       " 'Trent Boult',\n",
       " 'Shakib Al Hasan',\n",
       " 'Babar Azam',\n",
       " 'Trent Boult',\n",
       " 'Shakib Al Hasan']"
      ]
     },
     "execution_count": 5,
     "metadata": {},
     "output_type": "execute_result"
    }
   ],
   "source": [
    "name = []\n",
    "\n",
    "for i in soup.find_all(\"div\",class_=\"rankings-block__banner--name\"):\n",
    "    name.append(i.text)\n",
    "\n",
    "name"
   ]
  },
  {
   "cell_type": "code",
   "execution_count": 6,
   "id": "0747213d",
   "metadata": {},
   "outputs": [
    {
     "data": {
      "text/plain": [
       "['Rassie van der Dussen',\n",
       " 'Imam-ul-Haq',\n",
       " 'Quinton de Kock',\n",
       " 'David Warner',\n",
       " 'Virat Kohli',\n",
       " 'Steve Smith',\n",
       " 'Rohit Sharma',\n",
       " 'Jonny Bairstow',\n",
       " 'Fakhar Zaman',\n",
       " 'Josh Hazlewood',\n",
       " 'Mitchell Starc',\n",
       " 'Rashid Khan',\n",
       " 'Matt Henry',\n",
       " 'Adam Zampa',\n",
       " 'Shaheen Afridi',\n",
       " 'Shakib Al Hasan',\n",
       " 'Mustafizur Rahman',\n",
       " 'Mujeeb Ur Rahman',\n",
       " 'Mohammad Nabi',\n",
       " 'Mehedi Hasan',\n",
       " 'Rashid Khan',\n",
       " 'Mitchell Santner',\n",
       " 'Sikandar Raza',\n",
       " 'Zeeshan Maqsood',\n",
       " 'Wanindu Hasaranga',\n",
       " 'Assad Vala',\n",
       " 'Dhananjaya de Silva',\n",
       " 'Rassie van der Dussen',\n",
       " 'Imam-ul-Haq',\n",
       " 'Quinton de Kock',\n",
       " 'David Warner',\n",
       " 'Virat Kohli',\n",
       " 'Steve Smith',\n",
       " 'Rohit Sharma',\n",
       " 'Jonny Bairstow',\n",
       " 'Fakhar Zaman',\n",
       " 'Josh Hazlewood',\n",
       " 'Mitchell Starc',\n",
       " 'Rashid Khan',\n",
       " 'Matt Henry',\n",
       " 'Adam Zampa',\n",
       " 'Shaheen Afridi',\n",
       " 'Shakib Al Hasan',\n",
       " 'Mustafizur Rahman',\n",
       " 'Mujeeb Ur Rahman',\n",
       " 'Mohammad Nabi',\n",
       " 'Mehedi Hasan',\n",
       " 'Rashid Khan',\n",
       " 'Mitchell Santner',\n",
       " 'Sikandar Raza',\n",
       " 'Zeeshan Maqsood',\n",
       " 'Wanindu Hasaranga',\n",
       " 'Assad Vala',\n",
       " 'Dhananjaya de Silva']"
      ]
     },
     "execution_count": 6,
     "metadata": {},
     "output_type": "execute_result"
    }
   ],
   "source": [
    "name1=[]\n",
    "\n",
    "for i in soup.find_all(\"td\",class_=\"table-body__cell name\"):\n",
    "    name1.append(i.text.split(\"\\n\")[1])\n",
    "\n",
    "name1"
   ]
  },
  {
   "cell_type": "code",
   "execution_count": 7,
   "id": "3befaa85",
   "metadata": {},
   "outputs": [],
   "source": [
    "name1 = name1[9:18]"
   ]
  },
  {
   "cell_type": "code",
   "execution_count": 8,
   "id": "6dbb60f2",
   "metadata": {},
   "outputs": [
    {
     "data": {
      "text/plain": [
       "9"
      ]
     },
     "execution_count": 8,
     "metadata": {},
     "output_type": "execute_result"
    }
   ],
   "source": [
    "len(name1)"
   ]
  },
  {
   "cell_type": "code",
   "execution_count": 9,
   "id": "4d544fb7",
   "metadata": {},
   "outputs": [
    {
     "data": {
      "text/plain": [
       "['Josh Hazlewood',\n",
       " 'Mitchell Starc',\n",
       " 'Rashid Khan',\n",
       " 'Matt Henry',\n",
       " 'Adam Zampa',\n",
       " 'Shaheen Afridi',\n",
       " 'Shakib Al Hasan',\n",
       " 'Mustafizur Rahman',\n",
       " 'Mujeeb Ur Rahman']"
      ]
     },
     "execution_count": 9,
     "metadata": {},
     "output_type": "execute_result"
    }
   ],
   "source": [
    "name1"
   ]
  },
  {
   "cell_type": "code",
   "execution_count": 10,
   "id": "88ae575d",
   "metadata": {},
   "outputs": [],
   "source": [
    "name1.insert(0,name[1])"
   ]
  },
  {
   "cell_type": "code",
   "execution_count": 11,
   "id": "5ede27c9",
   "metadata": {},
   "outputs": [
    {
     "data": {
      "text/plain": [
       "['Trent Boult',\n",
       " 'Josh Hazlewood',\n",
       " 'Mitchell Starc',\n",
       " 'Rashid Khan',\n",
       " 'Matt Henry',\n",
       " 'Adam Zampa',\n",
       " 'Shaheen Afridi',\n",
       " 'Shakib Al Hasan',\n",
       " 'Mustafizur Rahman',\n",
       " 'Mujeeb Ur Rahman']"
      ]
     },
     "execution_count": 11,
     "metadata": {},
     "output_type": "execute_result"
    }
   ],
   "source": [
    "name1"
   ]
  },
  {
   "cell_type": "code",
   "execution_count": 12,
   "id": "74554819",
   "metadata": {},
   "outputs": [
    {
     "name": "stdout",
     "output_type": "stream",
     "text": [
      "10\n"
     ]
    }
   ],
   "source": [
    "print(len(name1))"
   ]
  },
  {
   "cell_type": "code",
   "execution_count": 13,
   "id": "518abf44",
   "metadata": {},
   "outputs": [
    {
     "data": {
      "text/plain": [
       "['891', '744', '389', '891', '744', '389']"
      ]
     },
     "execution_count": 13,
     "metadata": {},
     "output_type": "execute_result"
    }
   ],
   "source": [
    "rating = []\n",
    "\n",
    "for i in soup.find_all(\"div\",class_=\"rankings-block__banner--rating\"):\n",
    "    rating.append(i.text)\n",
    "    \n",
    "rating\n"
   ]
  },
  {
   "cell_type": "code",
   "execution_count": 14,
   "id": "e26cf63e",
   "metadata": {},
   "outputs": [
    {
     "data": {
      "text/plain": [
       "['766',\n",
       " '764',\n",
       " '759',\n",
       " '747',\n",
       " '726',\n",
       " '719',\n",
       " '715',\n",
       " '710',\n",
       " '695',\n",
       " '727',\n",
       " '665',\n",
       " '659',\n",
       " '656',\n",
       " '655',\n",
       " '654',\n",
       " '652',\n",
       " '638',\n",
       " '637',\n",
       " '310',\n",
       " '284',\n",
       " '280',\n",
       " '261',\n",
       " '261',\n",
       " '238',\n",
       " '233',\n",
       " '233',\n",
       " '226',\n",
       " '766',\n",
       " '764',\n",
       " '759',\n",
       " '747',\n",
       " '726',\n",
       " '719',\n",
       " '715',\n",
       " '710',\n",
       " '695',\n",
       " '727',\n",
       " '665',\n",
       " '659',\n",
       " '656',\n",
       " '655',\n",
       " '654',\n",
       " '652',\n",
       " '638',\n",
       " '637',\n",
       " '310',\n",
       " '284',\n",
       " '280',\n",
       " '261',\n",
       " '261',\n",
       " '238',\n",
       " '233',\n",
       " '233',\n",
       " '226']"
      ]
     },
     "execution_count": 14,
     "metadata": {},
     "output_type": "execute_result"
    }
   ],
   "source": [
    "rating1 = []\n",
    "\n",
    "for i in soup.find_all(\"td\",class_=\"table-body__cell u-text-right rating\"):\n",
    "    rating1.append(i.text)\n",
    "\n",
    "rating1"
   ]
  },
  {
   "cell_type": "code",
   "execution_count": 15,
   "id": "355606ad",
   "metadata": {},
   "outputs": [],
   "source": [
    "rating1 = rating1[9:18]"
   ]
  },
  {
   "cell_type": "code",
   "execution_count": 16,
   "id": "c2bd6f66",
   "metadata": {},
   "outputs": [],
   "source": [
    "rating1.insert(0,rating[1])"
   ]
  },
  {
   "cell_type": "code",
   "execution_count": 17,
   "id": "d13733b5",
   "metadata": {},
   "outputs": [
    {
     "data": {
      "text/plain": [
       "['744', '727', '665', '659', '656', '655', '654', '652', '638', '637']"
      ]
     },
     "execution_count": 17,
     "metadata": {},
     "output_type": "execute_result"
    }
   ],
   "source": [
    "rating1"
   ]
  },
  {
   "cell_type": "code",
   "execution_count": 18,
   "id": "f18515cb",
   "metadata": {},
   "outputs": [
    {
     "name": "stdout",
     "output_type": "stream",
     "text": [
      "10\n"
     ]
    }
   ],
   "source": [
    "print(len(rating1))"
   ]
  },
  {
   "cell_type": "code",
   "execution_count": 19,
   "id": "bb193b65",
   "metadata": {},
   "outputs": [
    {
     "data": {
      "text/plain": [
       "10"
      ]
     },
     "execution_count": 19,
     "metadata": {},
     "output_type": "execute_result"
    }
   ],
   "source": [
    "len(rating1)"
   ]
  },
  {
   "cell_type": "code",
   "execution_count": 24,
   "id": "1e1d0462",
   "metadata": {},
   "outputs": [
    {
     "name": "stdout",
     "output_type": "stream",
     "text": [
      "10 6 10\n"
     ]
    }
   ],
   "source": [
    "print(len(name1),len(rating1),len(Team_Name))"
   ]
  },
  {
   "cell_type": "code",
   "execution_count": 21,
   "id": "9ec2560c",
   "metadata": {},
   "outputs": [],
   "source": [
    "import pandas as pd"
   ]
  },
  {
   "cell_type": "code",
   "execution_count": 22,
   "id": "db004013",
   "metadata": {},
   "outputs": [],
   "source": [
    "Team_Name = [\"New Zealand\",\"Australia\",\"Australia\",\"Afghanistan\",\"New Zealand\",\"Australia\",\"Pakistan\",\"Bangladesh\",\"Bangladesh\",\"Afghanistan\"]"
   ]
  },
  {
   "cell_type": "code",
   "execution_count": 25,
   "id": "2922c2e3",
   "metadata": {},
   "outputs": [],
   "source": [
    "data = pd.DataFrame({\"Player Name\":name1,\"TEAM\":Team_Name,\"Rating\":rating1})"
   ]
  },
  {
   "cell_type": "code",
   "execution_count": 26,
   "id": "db43527e",
   "metadata": {},
   "outputs": [
    {
     "data": {
      "text/html": [
       "<div>\n",
       "<style scoped>\n",
       "    .dataframe tbody tr th:only-of-type {\n",
       "        vertical-align: middle;\n",
       "    }\n",
       "\n",
       "    .dataframe tbody tr th {\n",
       "        vertical-align: top;\n",
       "    }\n",
       "\n",
       "    .dataframe thead th {\n",
       "        text-align: right;\n",
       "    }\n",
       "</style>\n",
       "<table border=\"1\" class=\"dataframe\">\n",
       "  <thead>\n",
       "    <tr style=\"text-align: right;\">\n",
       "      <th></th>\n",
       "      <th>Player Name</th>\n",
       "      <th>TEAM</th>\n",
       "      <th>Rating</th>\n",
       "    </tr>\n",
       "  </thead>\n",
       "  <tbody>\n",
       "    <tr>\n",
       "      <th>0</th>\n",
       "      <td>Trent Boult</td>\n",
       "      <td>New Zealand</td>\n",
       "      <td>744</td>\n",
       "    </tr>\n",
       "    <tr>\n",
       "      <th>1</th>\n",
       "      <td>Josh Hazlewood</td>\n",
       "      <td>Australia</td>\n",
       "      <td>727</td>\n",
       "    </tr>\n",
       "    <tr>\n",
       "      <th>2</th>\n",
       "      <td>Mitchell Starc</td>\n",
       "      <td>Australia</td>\n",
       "      <td>665</td>\n",
       "    </tr>\n",
       "    <tr>\n",
       "      <th>3</th>\n",
       "      <td>Rashid Khan</td>\n",
       "      <td>Afghanistan</td>\n",
       "      <td>659</td>\n",
       "    </tr>\n",
       "    <tr>\n",
       "      <th>4</th>\n",
       "      <td>Matt Henry</td>\n",
       "      <td>New Zealand</td>\n",
       "      <td>656</td>\n",
       "    </tr>\n",
       "    <tr>\n",
       "      <th>5</th>\n",
       "      <td>Adam Zampa</td>\n",
       "      <td>Australia</td>\n",
       "      <td>655</td>\n",
       "    </tr>\n",
       "    <tr>\n",
       "      <th>6</th>\n",
       "      <td>Shaheen Afridi</td>\n",
       "      <td>Pakistan</td>\n",
       "      <td>654</td>\n",
       "    </tr>\n",
       "    <tr>\n",
       "      <th>7</th>\n",
       "      <td>Shakib Al Hasan</td>\n",
       "      <td>Bangladesh</td>\n",
       "      <td>652</td>\n",
       "    </tr>\n",
       "    <tr>\n",
       "      <th>8</th>\n",
       "      <td>Mustafizur Rahman</td>\n",
       "      <td>Bangladesh</td>\n",
       "      <td>638</td>\n",
       "    </tr>\n",
       "    <tr>\n",
       "      <th>9</th>\n",
       "      <td>Mujeeb Ur Rahman</td>\n",
       "      <td>Afghanistan</td>\n",
       "      <td>637</td>\n",
       "    </tr>\n",
       "  </tbody>\n",
       "</table>\n",
       "</div>"
      ],
      "text/plain": [
       "         Player Name         TEAM Rating\n",
       "0        Trent Boult  New Zealand    744\n",
       "1     Josh Hazlewood    Australia    727\n",
       "2     Mitchell Starc    Australia    665\n",
       "3        Rashid Khan  Afghanistan    659\n",
       "4         Matt Henry  New Zealand    656\n",
       "5         Adam Zampa    Australia    655\n",
       "6     Shaheen Afridi     Pakistan    654\n",
       "7    Shakib Al Hasan   Bangladesh    652\n",
       "8  Mustafizur Rahman   Bangladesh    638\n",
       "9   Mujeeb Ur Rahman  Afghanistan    637"
      ]
     },
     "execution_count": 26,
     "metadata": {},
     "output_type": "execute_result"
    }
   ],
   "source": [
    "data"
   ]
  },
  {
   "cell_type": "code",
   "execution_count": null,
   "id": "553921e9",
   "metadata": {},
   "outputs": [],
   "source": []
  }
 ],
 "metadata": {
  "kernelspec": {
   "display_name": "Python 3 (ipykernel)",
   "language": "python",
   "name": "python3"
  },
  "language_info": {
   "codemirror_mode": {
    "name": "ipython",
    "version": 3
   },
   "file_extension": ".py",
   "mimetype": "text/x-python",
   "name": "python",
   "nbconvert_exporter": "python",
   "pygments_lexer": "ipython3",
   "version": "3.9.12"
  }
 },
 "nbformat": 4,
 "nbformat_minor": 5
}
