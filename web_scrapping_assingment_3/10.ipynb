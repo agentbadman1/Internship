{
 "cells": [
  {
   "cell_type": "code",
   "execution_count": null,
   "id": "45fa5670",
   "metadata": {},
   "outputs": [],
   "source": [
    "import selenium\n",
    "import pandas as pd\n",
    "from selenium import webdriver\n",
    "import warnings\n",
    "warnings.filterwarnings(\"ignore\")\n",
    "from selenium.webdriver.common.by import By\n",
    "import time"
   ]
  },
  {
   "cell_type": "code",
   "execution_count": null,
   "id": "846b6ea2",
   "metadata": {},
   "outputs": [],
   "source": [
    "driver = webdriver.Chrome(r\"chromedriver.exe\")"
   ]
  },
  {
   "cell_type": "code",
   "execution_count": null,
   "id": "23de324c",
   "metadata": {},
   "outputs": [],
   "source": [
    "driver.get(\"https://www.hostelworld.com/\")"
   ]
  },
  {
   "cell_type": "code",
   "execution_count": null,
   "id": "66586d2b",
   "metadata": {},
   "outputs": [],
   "source": [
    "driver.maximize_window()"
   ]
  },
  {
   "cell_type": "code",
   "execution_count": null,
   "id": "e33c5cc4",
   "metadata": {},
   "outputs": [],
   "source": [
    "search = driver.find_element(By.XPATH,'/html/body/div[3]/div/div/div[2]/div[2]/div/div/div[4]/div/div[2]/div/div[1]/div/div/div/input')\n",
    "search.send_keys(\"London\")"
   ]
  },
  {
   "cell_type": "code",
   "execution_count": null,
   "id": "8d38acb4",
   "metadata": {},
   "outputs": [],
   "source": [
    "go = driver.find_element(By.XPATH,'/html/body/div[3]/div/div/div[2]/div[2]/div/div/div[4]/div/div[2]/div/div[1]/div/div/ul/li[2]/div')\n",
    "go.click()"
   ]
  },
  {
   "cell_type": "code",
   "execution_count": null,
   "id": "9a4bebe0",
   "metadata": {},
   "outputs": [],
   "source": [
    "gogo = driver.find_element(By.XPATH,'/html/body/div[3]/div/div/div[2]/div[2]/div/div/div[4]/div/div[2]/div/div[5]/button')\n",
    "gogo.click()"
   ]
  },
  {
   "cell_type": "code",
   "execution_count": null,
   "id": "5e7ea3e3",
   "metadata": {},
   "outputs": [],
   "source": [
    "name = []\n",
    "dist = []\n",
    "rating = []\n",
    "total_review = []\n",
    "dp = []\n",
    "pp = []\n",
    "fac = []\n",
    "propd = []\n",
    "over = []\n",
    "price = []\n",
    "urls = []"
   ]
  },
  {
   "cell_type": "code",
   "execution_count": null,
   "id": "f1a5b21c",
   "metadata": {},
   "outputs": [],
   "source": [
    "name_tag = driver.find_elements(By.XPATH,'//h2[@class=\"title title-6\"]')\n",
    "for i in name_tag:\n",
    "    j = i.text\n",
    "    name.append(j)"
   ]
  },
  {
   "cell_type": "code",
   "execution_count": null,
   "id": "5cd319e5",
   "metadata": {},
   "outputs": [],
   "source": [
    "dist_tag = driver.find_elements(By.XPATH,'//span[@class=\"description\"]')\n",
    "for i in dist_tag:\n",
    "    j = i.text.split(\" - \")[1]\n",
    "    dist.append(j)"
   ]
  },
  {
   "cell_type": "code",
   "execution_count": null,
   "id": "64095dfc",
   "metadata": {},
   "outputs": [],
   "source": [
    "rating_tag = driver.find_elements(By.XPATH,'//div[@class=\"rating rating-summary-container big\"]')\n",
    "for i in rating_tag:\n",
    "    j = i.text.split(\"\\n\")[0]\n",
    "    rating.append(j)"
   ]
  },
  {
   "cell_type": "code",
   "execution_count": null,
   "id": "6f17ddb0",
   "metadata": {},
   "outputs": [],
   "source": [
    "total_review_tag = driver.find_elements(By.XPATH,'//div[@class=\"reviews\"]')\n",
    "for i in total_review_tag:\n",
    "    j = i.text\n",
    "    total_review.append(j)"
   ]
  },
  {
   "cell_type": "code",
   "execution_count": null,
   "id": "badb4a31",
   "metadata": {},
   "outputs": [],
   "source": [
    "over_tag = driver.find_elements(By.XPATH,'//div[@class=\"keyword\"]')\n",
    "for i in over_tag[2:32]:\n",
    "    j = i.text\n",
    "    over.append(j)"
   ]
  },
  {
   "cell_type": "code",
   "execution_count": null,
   "id": "4d3572d6",
   "metadata": {},
   "outputs": [],
   "source": [
    "price_tag = driver.find_elements(By.XPATH,'//div[@class=\"price-col\"]')\n",
    "for i in price_tag:\n",
    "    j = i.text\n",
    "    price.append(j)"
   ]
  },
  {
   "cell_type": "code",
   "execution_count": null,
   "id": "4f16c2f2",
   "metadata": {},
   "outputs": [],
   "source": [
    "for i in price:\n",
    "    if \"Privates\" in i:\n",
    "        pp.append(i)\n",
    "    else:\n",
    "        dp.append(i)\n",
    "    "
   ]
  },
  {
   "cell_type": "code",
   "execution_count": null,
   "id": "ba839769",
   "metadata": {},
   "outputs": [],
   "source": [
    "view_tag = driver.find_elements(By.XPATH,'//a[@class=\"view-button\"]')\n",
    "for i in view_tag:\n",
    "    j = i.get_attribute(\"href\")\n",
    "    urls.append(j)\n",
    "    "
   ]
  },
  {
   "cell_type": "code",
   "execution_count": null,
   "id": "c9c7affd",
   "metadata": {},
   "outputs": [],
   "source": [
    "driver.close()"
   ]
  },
  {
   "cell_type": "code",
   "execution_count": null,
   "id": "c1bde510",
   "metadata": {},
   "outputs": [],
   "source": [
    "for i in urls:\n",
    "    driver = webdriver.Chrome(r\"chromedriver.exe\")\n",
    "    driver.get(i)\n",
    "    \n",
    "    propd_tag = driver.find_elements(By.XPATH,'//div[@class=\"content collapse-content\"]')\n",
    "    for i in propd_tag[0:1]:\n",
    "        j = i.text\n",
    "        propd.append(j)\n",
    "        \n",
    "    facilities_tag = driver.find_elements(By.XPATH,'//ul[@class=\"facilities\"]')\n",
    "    for i in facilities_tag[0:1]:\n",
    "        j = i.text\n",
    "        fac.append(j)\n",
    "        driver.close()\n",
    "    \n",
    "    "
   ]
  },
  {
   "cell_type": "code",
   "execution_count": null,
   "id": "b005d1b8",
   "metadata": {},
   "outputs": [],
   "source": [
    "data = pd.DataFrame({\"NMAE\":name,\"Distance\":dist,\n",
    "                    \"Rating\":rating,\"Total Reviews\":total_review,\n",
    "                    \"Drom Price\":dp,\"Private Price\":pp,\n",
    "                    \"Facilities\":fac,\"Description\":prpod})"
   ]
  },
  {
   "cell_type": "code",
   "execution_count": null,
   "id": "d8e9f94f",
   "metadata": {},
   "outputs": [],
   "source": [
    "data.to_csv(\"prop_london.csv\")"
   ]
  },
  {
   "cell_type": "code",
   "execution_count": null,
   "id": "c24a5f78",
   "metadata": {},
   "outputs": [],
   "source": []
  }
 ],
 "metadata": {
  "kernelspec": {
   "display_name": "Python 3 (ipykernel)",
   "language": "python",
   "name": "python3"
  },
  "language_info": {
   "codemirror_mode": {
    "name": "ipython",
    "version": 3
   },
   "file_extension": ".py",
   "mimetype": "text/x-python",
   "name": "python",
   "nbconvert_exporter": "python",
   "pygments_lexer": "ipython3",
   "version": "3.9.12"
  }
 },
 "nbformat": 4,
 "nbformat_minor": 5
}
