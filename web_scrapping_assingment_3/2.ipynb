{
 "cells": [
  {
   "cell_type": "code",
   "execution_count": null,
   "id": "585aaacd",
   "metadata": {},
   "outputs": [],
   "source": [
    "import selenium\n",
    "import pandas as pd\n",
    "from selenium import webdriver\n",
    "import warnings\n",
    "warnings.filterwarnings(\"ignore\")\n",
    "from selenium.webdriver.common.by import By\n",
    "import time"
   ]
  },
  {
   "cell_type": "code",
   "execution_count": null,
   "id": "f7281a50",
   "metadata": {},
   "outputs": [],
   "source": [
    "driver = webdriver.Chrome(r\"chromedriver.exe\")"
   ]
  },
  {
   "cell_type": "code",
   "execution_count": null,
   "id": "1c0621c1",
   "metadata": {},
   "outputs": [],
   "source": [
    "driver.get(\"https://www.amazon.in/\")"
   ]
  },
  {
   "cell_type": "code",
   "execution_count": null,
   "id": "74c7a626",
   "metadata": {},
   "outputs": [],
   "source": [
    "product = input(\"ENTER WORD TO BE SEARCHED: \")"
   ]
  },
  {
   "cell_type": "code",
   "execution_count": null,
   "id": "2c62651c",
   "metadata": {},
   "outputs": [],
   "source": [
    "search = driver.find_element(By.XPATH,'/html/body/div[1]/header/div/div[1]/div[2]/div/form/div[2]/div[1]/input')\n",
    "search.send_keys(product)"
   ]
  },
  {
   "cell_type": "code",
   "execution_count": null,
   "id": "1f34fc05",
   "metadata": {},
   "outputs": [],
   "source": [
    "find = driver.find_element(By.XPATH,'/html/body/div[1]/header/div/div[1]/div[2]/div/form/div[3]/div')\n",
    "find.click()"
   ]
  },
  {
   "cell_type": "code",
   "execution_count": null,
   "id": "4a9c4326",
   "metadata": {},
   "outputs": [],
   "source": [
    "url = []"
   ]
  },
  {
   "cell_type": "code",
   "execution_count": null,
   "id": "2ddedacc",
   "metadata": {},
   "outputs": [],
   "source": [
    "from selenium.common.exceptions import NoSuchElementException"
   ]
  },
  {
   "cell_type": "code",
   "execution_count": null,
   "id": "e922f930",
   "metadata": {},
   "outputs": [],
   "source": [
    "for i in range(0,3):\n",
    "    \n",
    "\n",
    "    if i == 0:\n",
    "        url_tag = driver.find_elements(By.XPATH,'//a[@class=\"a-link-normal s-underline-text s-underline-link-text s-link-style a-text-normal\"]')\n",
    "        for j in url_tag:\n",
    "            uu = j.get_attribute(\"href\")\n",
    "            url.append(uu)\n",
    "        \n",
    "        try:\n",
    "            next_page = driver.find_element(By.XPATH,'/html/body/div[1]/div[2]/div[1]/div[1]/div/span[1]/div[1]/div[69]/div/div/span/a[3]')\n",
    "            next_page.click()\n",
    "            time.sleep(5)\n",
    "        except NoSuchElementException as e:\n",
    "            next_page = driver.find_element(By.XPATH,'/html/body/div[1]/div[2]/div[1]/div[1]/div/span[1]/div[1]/div[67]/div/div/span/a[4]')\n",
    "            next_page.click()\n",
    "            time.sleep(5)\n",
    "            \n",
    "    if i==1:\n",
    "        url_tag = driver.find_elements(By.XPATH,'//a[@class=\"a-link-normal s-underline-text s-underline-link-text s-link-style a-text-normal\"]')\n",
    "        for j in url_tag:\n",
    "            uu = j.get_attribute(\"href\")\n",
    "            url.append(uu)\n",
    "        \n",
    "        try:\n",
    "            next_page = driver.find_element(By.XPATH,'/html/body/div[1]/div[2]/div[1]/div[1]/div/span[1]/div[1]/div[70]/div/div/span/a[3]')\n",
    "            next_page.click()\n",
    "            time.sleep(5)\n",
    "        except NoSuchElementException as e:\n",
    "            next_page = driver.find_element(By.XPATH,'/html/body/div[1]/div[2]/div[1]/div[1]/div/span[1]/div[1]/div[67]/div/div/span/a[4]')\n",
    "            next_page.click()\n",
    "            time.sleep(5)\n",
    "        \n",
    "    if i==2:\n",
    "        url_tag = driver.find_elements(By.XPATH,'//a[@class=\"a-link-normal s-underline-text s-underline-link-text s-link-style a-text-normal\"]')\n",
    "        for j in url_tag:\n",
    "            uu = j.get_attribute(\"href\")\n",
    "            url.append(uu)"
   ]
  },
  {
   "cell_type": "code",
   "execution_count": null,
   "id": "408d3329",
   "metadata": {},
   "outputs": [],
   "source": [
    "len(url)"
   ]
  },
  {
   "cell_type": "code",
   "execution_count": null,
   "id": "7d76f8d7",
   "metadata": {},
   "outputs": [],
   "source": [
    "driver.close()"
   ]
  },
  {
   "cell_type": "code",
   "execution_count": null,
   "id": "057366bf",
   "metadata": {},
   "outputs": [],
   "source": [
    "brand_name = []\n",
    "product_name = []\n",
    "price = []\n",
    "re = []\n",
    "exp_del = []\n",
    "ava = []\n",
    "prod_url = []\n"
   ]
  },
  {
   "cell_type": "code",
   "execution_count": null,
   "id": "e17b9323",
   "metadata": {},
   "outputs": [],
   "source": [
    "for i in url:\n",
    "    driver = webdriver.Chrome(r\"chromedriver.exe\")\n",
    "    driver.get(i)\n",
    "    try:\n",
    "        brand_name_tag = driver.find_elements(By.XPATH,'//span[@class=\"a-size-base po-break-word\"]')\n",
    "        for j in brand_name_tag[:1]:\n",
    "            bn = j.text\n",
    "            brand_name.append(bn)\n",
    "        \n",
    "    except NoSuchElementException as e:\n",
    "        brand_name.append(\"-\")\n",
    "    time.sleep(5)\n",
    "    driver.close()\n",
    "    \n",
    "    \n",
    "        \n",
    "        "
   ]
  },
  {
   "cell_type": "code",
   "execution_count": null,
   "id": "88a959b6",
   "metadata": {},
   "outputs": [],
   "source": [
    "for i in url:\n",
    "    driver = webdriver.Chrome(r\"chromedriver.exe\")\n",
    "    driver.get(i)\n",
    "    \n",
    "    try:\n",
    "        product_name_tag = driver.find_elements(By.XPATH,'//span[@class=\"a-size-large product-title-word-break\"]')\n",
    "        for j in product_name_tag:\n",
    "            pnt = j.text\n",
    "            product_name.append(pnt)\n",
    "            \n",
    "        except NoSuchElementException as e:\n",
    "        product_name.append(\"-\")\n",
    "    time.sleep(5)\n",
    "    driver.close()"
   ]
  },
  {
   "cell_type": "code",
   "execution_count": null,
   "id": "df64502b",
   "metadata": {},
   "outputs": [],
   "source": [
    "for i in url:\n",
    "    driver = webdriver.Chrome(r\"chromedriver.exe\")\n",
    "    driver.get(i)\n",
    "    \n",
    "    try:\n",
    "        price_tag = driver.find_elements(By.XPATH,'//span[@class=\"a-price-whole\"]')\n",
    "        for j in price_tag[:1]:\n",
    "            pt = j.text\n",
    "            price.append(pt)\n",
    "            \n",
    "        except NoSuchElementException as e:\n",
    "        price.append(\"-\")\n",
    "    time.sleep(5)\n",
    "    driver.close()"
   ]
  },
  {
   "cell_type": "code",
   "execution_count": null,
   "id": "be847a5a",
   "metadata": {},
   "outputs": [],
   "source": [
    "for i in url:\n",
    "    driver = webdriver.Chrome(r\"chromedriver.exe\")\n",
    "    driver.get(i)\n",
    "    \n",
    "    try:\n",
    "        re_tag = driver.find_elements(By.XPATH,'//a[@class=\"a-size-small a-link-normal a-text-normal\"]')\n",
    "        for j in re_tag[2:3]:\n",
    "            ree = j.text\n",
    "            re.append(ree)\n",
    "            \n",
    "        except NoSuchElementException as e:\n",
    "        re.append(\"-\")\n",
    "    time.sleep(5)\n",
    "    driver.close()"
   ]
  },
  {
   "cell_type": "code",
   "execution_count": null,
   "id": "545ebf71",
   "metadata": {},
   "outputs": [],
   "source": [
    "for i in url:\n",
    "    driver = webdriver.Chrome(r\"chromedriver.exe\")\n",
    "    driver.get(i)\n",
    "    \n",
    "    try:\n",
    "        exp_del_tag = driver.find_elements(By.XPATH,'//span[@class=\"a-text-bold\"]')\n",
    "        for j in exp_del_tag[:1]:\n",
    "            edt = j.text\n",
    "            exp_del.append(edt)\n",
    "            \n",
    "        except NoSuchElementException as e:\n",
    "        exp_del.append(\"-\")\n",
    "    time.sleep(5)\n",
    "    driver.close()"
   ]
  },
  {
   "cell_type": "code",
   "execution_count": null,
   "id": "78331315",
   "metadata": {},
   "outputs": [],
   "source": [
    "for i in url:\n",
    "    driver = webdriver.Chrome(r\"chromedriver.exe\")\n",
    "    driver.get(i)\n",
    "    \n",
    "    try:\n",
    "        ava_tag = driver.find_elements(By.XPATH,'//span[@class=\"a-size-medium a-color-success\"]')\n",
    "        for j in ava_tag[:1]:\n",
    "            at = j.text\n",
    "            ava.append(at)\n",
    "            \n",
    "        except NoSuchElementException as e:\n",
    "        ava.append(\"-\")\n",
    "    time.sleep(5)\n",
    "    driver.close()"
   ]
  },
  {
   "cell_type": "code",
   "execution_count": null,
   "id": "679584eb",
   "metadata": {},
   "outputs": [],
   "source": [
    "data = pd.DataFrame({\"BRAND NAME\":brand_name,\"NAME\":product_name,\n",
    "                    \"PRICE\":price,\"RETURN/EXCHANGE\":re,\n",
    "                    \"EXPECTED DELIVERY\":exp_del,\"Availibility\":ava,\n",
    "                    \"Product URL\":url})"
   ]
  },
  {
   "cell_type": "code",
   "execution_count": null,
   "id": "cc09f4fd",
   "metadata": {},
   "outputs": [],
   "source": [
    "data.to_csv(\"GUITAR TOP 3 PAGE.csv\")"
   ]
  }
 ],
 "metadata": {
  "kernelspec": {
   "display_name": "Python 3 (ipykernel)",
   "language": "python",
   "name": "python3"
  },
  "language_info": {
   "codemirror_mode": {
    "name": "ipython",
    "version": 3
   },
   "file_extension": ".py",
   "mimetype": "text/x-python",
   "name": "python",
   "nbconvert_exporter": "python",
   "pygments_lexer": "ipython3",
   "version": "3.9.12"
  }
 },
 "nbformat": 4,
 "nbformat_minor": 5
}
