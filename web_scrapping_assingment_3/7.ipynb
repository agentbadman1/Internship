{
 "cells": [
  {
   "cell_type": "code",
   "execution_count": 1,
   "id": "809a7a48",
   "metadata": {},
   "outputs": [],
   "source": [
    "import selenium\n",
    "import pandas as pd\n",
    "from selenium import webdriver\n",
    "import warnings\n",
    "warnings.filterwarnings(\"ignore\")\n",
    "from selenium.webdriver.common.by import By\n",
    "import time"
   ]
  },
  {
   "cell_type": "code",
   "execution_count": 2,
   "id": "86cd8285",
   "metadata": {},
   "outputs": [],
   "source": [
    "from selenium.common.exceptions import NoSuchElementException"
   ]
  },
  {
   "cell_type": "code",
   "execution_count": 3,
   "id": "e4123a3d",
   "metadata": {},
   "outputs": [],
   "source": [
    "driver = webdriver.Chrome(r\"chromedriver.exe\")"
   ]
  },
  {
   "cell_type": "code",
   "execution_count": 4,
   "id": "f8e238f7",
   "metadata": {},
   "outputs": [],
   "source": [
    "driver.get(\"https://www.digit.in/\")"
   ]
  },
  {
   "cell_type": "code",
   "execution_count": 5,
   "id": "566f3abc",
   "metadata": {},
   "outputs": [],
   "source": [
    "driver.maximize_window()"
   ]
  },
  {
   "cell_type": "code",
   "execution_count": 6,
   "id": "0c1bfb99",
   "metadata": {},
   "outputs": [],
   "source": [
    "laptops = driver.find_element(By.XPATH,'/html/body/div[2]/div/ul/li[5]/a')\n",
    "laptops.click()"
   ]
  },
  {
   "cell_type": "code",
   "execution_count": 7,
   "id": "98784b18",
   "metadata": {},
   "outputs": [],
   "source": [
    "best = driver.find_element(By.XPATH,'/html/body/div[2]/div/ul/li[5]/div[2]/div/div[2]/div/ul[3]/li[4]/a')\n",
    "best.click()"
   ]
  },
  {
   "cell_type": "code",
   "execution_count": 8,
   "id": "57eb1804",
   "metadata": {},
   "outputs": [],
   "source": [
    "section = driver.find_element(By.XPATH,'/html/body/div[3]/div/div[2]/div[11]/h2/a')\n",
    "section.click()"
   ]
  },
  {
   "cell_type": "code",
   "execution_count": 9,
   "id": "66edca1d",
   "metadata": {},
   "outputs": [],
   "source": [
    "urls = []"
   ]
  },
  {
   "cell_type": "code",
   "execution_count": 10,
   "id": "84388a80",
   "metadata": {},
   "outputs": [],
   "source": [
    "url_tag = driver.find_elements(By.XPATH,'//a[@class=\"review spec\"]')\n",
    "for i in url_tag:\n",
    "    j = i.get_attribute(\"href\")\n",
    "    urls.append(j)"
   ]
  },
  {
   "cell_type": "code",
   "execution_count": 11,
   "id": "a1d4410c",
   "metadata": {},
   "outputs": [
    {
     "data": {
      "text/plain": [
       "8"
      ]
     },
     "execution_count": 11,
     "metadata": {},
     "output_type": "execute_result"
    }
   ],
   "source": [
    "len(urls)"
   ]
  },
  {
   "cell_type": "code",
   "execution_count": 12,
   "id": "46e3f906",
   "metadata": {},
   "outputs": [],
   "source": [
    "name = []\n",
    "display = []\n",
    "processor = []\n",
    "memory = []\n",
    "price = []\n",
    "\n"
   ]
  },
  {
   "cell_type": "code",
   "execution_count": 13,
   "id": "4e42654f",
   "metadata": {},
   "outputs": [],
   "source": [
    "driver.close()"
   ]
  },
  {
   "cell_type": "code",
   "execution_count": null,
   "id": "15bd6f1b",
   "metadata": {},
   "outputs": [],
   "source": [
    "for i in range(0,8):\n",
    "    driver = webdriver.Chrome(r\"chromedriver.exe\")\n",
    "    driver.get(urls[i])\n",
    "    driver.maximize_window()\n",
    "    \n",
    "    try:\n",
    "        name_tag = driver.find_elements(By.XPATH,'//div[@class=\"heading-wraper\"]')\n",
    "        for w in name_tag:\n",
    "            j = w.text.split(\"\\n\")[0]\n",
    "            name.append(j)\n",
    "            driver.close()\n",
    "    except NoSuchElementException as e:\n",
    "        name.append(\"-\")\n",
    "        driver.close()\n",
    "    "
   ]
  },
  {
   "cell_type": "code",
   "execution_count": null,
   "id": "4c4d5d5c",
   "metadata": {},
   "outputs": [],
   "source": [
    "for i in range(0,8):\n",
    "    driver = webdriver.Chrome(r\"chromedriver.exe\")\n",
    "    driver.get(urls[i])\n",
    "    driver.maximize_window()\n",
    "    \n",
    "    try:\n",
    "        display_tag = driver.find_elements(By.XPATH,'//div[@class=\"value\"]')\n",
    "        for w in display_tag[1:2]:\n",
    "            j = w.text\n",
    "            display.append(j)\n",
    "            driver.close()\n",
    "    except NoSuchElementException as e:\n",
    "        display.append(\"-\")\n",
    "        driver.close()\n",
    "            "
   ]
  },
  {
   "cell_type": "code",
   "execution_count": null,
   "id": "1280eb01",
   "metadata": {},
   "outputs": [],
   "source": [
    "for i in range(0,8):\n",
    "    driver = webdriver.Chrome(r\"chromedriver.exe\")\n",
    "    driver.get(urls[i])\n",
    "    driver.maximize_window()\n",
    "    \n",
    "    try:\n",
    "        processor_tag = driver.find_elements(By.XPATH,'//div[@class=\"value\"]')\n",
    "        for w in processor_tag[2:3]:\n",
    "            j = w.text\n",
    "            processor.append(j)\n",
    "            driver.close()\n",
    "    except NoSuchElementException as e:\n",
    "        processor.append(\"-\")\n",
    "        driver.close()"
   ]
  },
  {
   "cell_type": "code",
   "execution_count": null,
   "id": "a15cbd60",
   "metadata": {},
   "outputs": [],
   "source": [
    "for i in range(0,8):\n",
    "    driver = webdriver.Chrome(r\"chromedriver.exe\")\n",
    "    driver.get(urls[i])\n",
    "    driver.maximize_window()\n",
    "    \n",
    "    try:\n",
    "        memory_tag = driver.find_elements(By.XPATH,'//div[@class=\"value\"]')\n",
    "        for w in memory_tag[3:4]:\n",
    "            j = w.text.split(\"\\n\")[1]\n",
    "            memory.append(j)\n",
    "            driver.close()\n",
    "    except NoSuchElementException as e:\n",
    "        memory.append(\"-\")\n",
    "        driver.close()"
   ]
  },
  {
   "cell_type": "code",
   "execution_count": 17,
   "id": "3e599f38",
   "metadata": {},
   "outputs": [],
   "source": [
    "for i in range(0,8):\n",
    "    driver = webdriver.Chrome(r\"chromedriver.exe\")\n",
    "    driver.get(urls[i])\n",
    "    driver.maximize_window()\n",
    "    \n",
    "    try:\n",
    "        price_tag = driver.find_elements(By.XPATH,'//div[@class=\"price\"]')\n",
    "        for w in price_tag[0:1]:\n",
    "            j = w.text.split(\"India:\")[1].split(\"( onwards )\")[0]\n",
    "            price.append(j)\n",
    "            driver.close()\n",
    "    except NoSuchElementException as e:\n",
    "        price.append(\"-\")\n",
    "        driver.close()"
   ]
  },
  {
   "cell_type": "code",
   "execution_count": null,
   "id": "e43d8058",
   "metadata": {},
   "outputs": [],
   "source": [
    "data = pd.DataFrame({\"NAME\":name,\"DISPLAY SIZE\":display,\n",
    "                    \"PROCESSOR\":processor,\"MEMORY\":memory,\n",
    "                    \"PRICE\":price})"
   ]
  },
  {
   "cell_type": "code",
   "execution_count": null,
   "id": "b7bb3390",
   "metadata": {},
   "outputs": [],
   "source": [
    "data.to_csv(\"DIGIT_IN_BEST_GAMING_laptop.csv\")"
   ]
  }
 ],
 "metadata": {
  "kernelspec": {
   "display_name": "Python 3 (ipykernel)",
   "language": "python",
   "name": "python3"
  },
  "language_info": {
   "codemirror_mode": {
    "name": "ipython",
    "version": 3
   },
   "file_extension": ".py",
   "mimetype": "text/x-python",
   "name": "python",
   "nbconvert_exporter": "python",
   "pygments_lexer": "ipython3",
   "version": "3.9.12"
  }
 },
 "nbformat": 4,
 "nbformat_minor": 5
}
