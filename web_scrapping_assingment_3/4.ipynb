{
 "cells": [
  {
   "cell_type": "code",
   "execution_count": null,
   "id": "47c7639c",
   "metadata": {},
   "outputs": [],
   "source": [
    "import selenium\n",
    "import pandas as pd\n",
    "from selenium import webdriver\n",
    "import warnings\n",
    "warnings.filterwarnings(\"ignore\")\n",
    "from selenium.webdriver.common.by import By\n",
    "import time"
   ]
  },
  {
   "cell_type": "code",
   "execution_count": 2,
   "id": "b53eb28d",
   "metadata": {},
   "outputs": [],
   "source": [
    "driver = webdriver.Chrome(r\"chromedriver.exe\")"
   ]
  },
  {
   "cell_type": "code",
   "execution_count": 3,
   "id": "1155ac4b",
   "metadata": {},
   "outputs": [],
   "source": [
    "driver.get(\"https://www.flipkart.com/\")"
   ]
  },
  {
   "cell_type": "code",
   "execution_count": 4,
   "id": "eea662ce",
   "metadata": {},
   "outputs": [],
   "source": [
    "deny = driver.find_element(By.XPATH,'/html/body/div[2]/div/div/button')\n",
    "deny.click()"
   ]
  },
  {
   "cell_type": "code",
   "execution_count": 5,
   "id": "578e8e06",
   "metadata": {},
   "outputs": [],
   "source": [
    "item = driver.find_element(By.XPATH,'/html/body/div[1]/div/div[1]/div[1]/div[2]/div[2]/form/div/div/input')\n",
    "item.send_keys(\"Oneplus Nord\")"
   ]
  },
  {
   "cell_type": "code",
   "execution_count": 6,
   "id": "dae555bf",
   "metadata": {},
   "outputs": [],
   "source": [
    "search = driver.find_element(By.XPATH,'/html/body/div[1]/div/div[1]/div[1]/div[2]/div[2]/form/div/button')\n",
    "search.click()"
   ]
  },
  {
   "cell_type": "code",
   "execution_count": 7,
   "id": "6a2761c8",
   "metadata": {},
   "outputs": [],
   "source": [
    "url = []"
   ]
  },
  {
   "cell_type": "code",
   "execution_count": 8,
   "id": "a1dbe42f",
   "metadata": {},
   "outputs": [],
   "source": [
    "url_tags = driver.find_elements(By.XPATH,'//a[@class=\"_1fQZEK\"]')\n",
    "for i in url_tags:\n",
    "    j = i.get_attribute(\"href\")\n",
    "    url.append(j)"
   ]
  },
  {
   "cell_type": "code",
   "execution_count": 9,
   "id": "28fdb99a",
   "metadata": {},
   "outputs": [
    {
     "data": {
      "text/plain": [
       "24"
      ]
     },
     "execution_count": 9,
     "metadata": {},
     "output_type": "execute_result"
    }
   ],
   "source": [
    "len(url)"
   ]
  },
  {
   "cell_type": "code",
   "execution_count": 10,
   "id": "162ca17b",
   "metadata": {},
   "outputs": [],
   "source": [
    "driver.close()"
   ]
  },
  {
   "cell_type": "code",
   "execution_count": 11,
   "id": "966dab4c",
   "metadata": {},
   "outputs": [],
   "source": [
    "from selenium.common.exceptions import NoSuchElementException"
   ]
  },
  {
   "cell_type": "code",
   "execution_count": 12,
   "id": "6f96fada",
   "metadata": {},
   "outputs": [],
   "source": [
    "brand_name = []\n",
    "smartphone_name = []\n",
    "colour= []\n",
    "ram = []\n",
    "rom = []\n",
    "pc = []\n",
    "sc = []\n",
    "display = []\n",
    "battery = []\n",
    "price = []\n"
   ]
  },
  {
   "cell_type": "code",
   "execution_count": null,
   "id": "d261e710",
   "metadata": {},
   "outputs": [],
   "source": [
    "for i in range(0,24):\n",
    "    driver = webdriver.Chrome(r\"chromedriver.exe\")\n",
    "    driver.get(url[i])\n",
    "    \n",
    "    try:\n",
    "        brand_name_tag = driver.find_elements(By.XPATH,'//span[@class=\"B_NuCI\"]')\n",
    "        for i in brand_name_tag:\n",
    "            j = i.text.split(\" \")[0]\n",
    "            brand_name.append(j)\n",
    "            driver.close()\n",
    "    except NoSuchElementException as e:\n",
    "        brand_name.append(\"-\")\n",
    "        driver.close()\n",
    "            \n",
    "            \n",
    "    "
   ]
  },
  {
   "cell_type": "code",
   "execution_count": null,
   "id": "fa77c18b",
   "metadata": {},
   "outputs": [],
   "source": [
    "for i in range(0,24):\n",
    "    driver = webdriver.Chrome(r\"chromedriver.exe\")\n",
    "    driver.get(url[i])\n",
    "    \n",
    "    try:\n",
    "        price_tag = driver.find_elements(By.XPATH,'//div[@class=\"_30jeq3 _16Jk6d\"]')\n",
    "        for i in price_tag:\n",
    "            j = i.text\n",
    "            price.append(j)\n",
    "            driver.close()\n",
    "    except NoSuchElementException as e:\n",
    "        price.append(\"-\")\n",
    "        driver.close()"
   ]
  },
  {
   "cell_type": "code",
   "execution_count": 14,
   "id": "29e6ff13",
   "metadata": {},
   "outputs": [],
   "source": [
    "for i in range(0,24):\n",
    "    driver = webdriver.Chrome(r\"chromedriver.exe\")\n",
    "    driver.get(url[i])\n",
    "    \n",
    "    try:\n",
    "        colour_tag = driver.find_elements(By.XPATH,'//td[@class=\"URwL2w col col-9-12\"]')\n",
    "        for i in colour_tag[3:4]:\n",
    "            j = i.text\n",
    "            colour.append(j)\n",
    "            driver.close()\n",
    "    except NoSuchElementException as e:\n",
    "        colour.append(\"-\")\n",
    "        driver.close()"
   ]
  },
  {
   "cell_type": "code",
   "execution_count": null,
   "id": "5b89f35b",
   "metadata": {},
   "outputs": [],
   "source": [
    "for i in range(0,24):\n",
    "    driver = webdriver.Chrome(r\"chromedriver.exe\")\n",
    "    driver.get(url[i])\n",
    "    \n",
    "    try:\n",
    "        smartphone_name_tag = driver.find_elements(By.XPATH,'//td[@class=\"URwL2w col col-9-12\"]')\n",
    "        for i in smartphone_name_tag[2:3]:\n",
    "            j = i.text\n",
    "            smartphone_name.append(j)\n",
    "            driver.close()\n",
    "    except NoSuchElementException as e:\n",
    "        smartphone_name.append(\"-\")\n",
    "        driver.close()"
   ]
  },
  {
   "cell_type": "code",
   "execution_count": null,
   "id": "36de20e9",
   "metadata": {},
   "outputs": [],
   "source": [
    "for i in range(0,24):\n",
    "    driver = webdriver.Chrome(r\"chromedriver.exe\")\n",
    "    driver.get(url[i])\n",
    "    \n",
    "    try:\n",
    "        ram_tag = driver.find_elements(By.XPATH,'//td[@class=\"URwL2w col col-9-12\"]')\n",
    "        for i in ram_tag[15:16]:\n",
    "            j = i.text\n",
    "            ram.append(j)\n",
    "            driver.close()\n",
    "    except NoSuchElementException as e:\n",
    "        ram.append(\"-\")\n",
    "        driver.close()"
   ]
  },
  {
   "cell_type": "code",
   "execution_count": null,
   "id": "6d65beb7",
   "metadata": {},
   "outputs": [],
   "source": [
    "for i in range(0,24):\n",
    "    driver = webdriver.Chrome(r\"chromedriver.exe\")\n",
    "    driver.get(url[i])\n",
    "    \n",
    "    try:\n",
    "        rom_tag = driver.find_elements(By.XPATH,'//td[@class=\"URwL2w col col-9-12\"]')\n",
    "        for i in rom_tag[14:15]:\n",
    "            j = i.text\n",
    "            rom.append(j)\n",
    "            driver.close()\n",
    "    except NoSuchElementException as e:\n",
    "        rom.append(\"-\")\n",
    "        driver.close()"
   ]
  },
  {
   "cell_type": "code",
   "execution_count": null,
   "id": "3f38f186",
   "metadata": {},
   "outputs": [],
   "source": [
    "for i in range(0,24):\n",
    "    driver = webdriver.Chrome(r\"chromedriver.exe\")\n",
    "    driver.get(url[i])\n",
    "    \n",
    "    try:\n",
    "        pc_tag = driver.find_elements(By.XPATH,'//td[@class=\"URwL2w col col-9-12\"]')\n",
    "        for i in pc_tag[17:18]:\n",
    "            j = i.text\n",
    "            pc.append(j)\n",
    "            driver.close()\n",
    "    except NoSuchElementException as e:\n",
    "        pc.append(\"-\")\n",
    "        driver.close()"
   ]
  },
  {
   "cell_type": "code",
   "execution_count": null,
   "id": "bd399e67",
   "metadata": {},
   "outputs": [],
   "source": [
    "for i in range(0,24):\n",
    "    driver = webdriver.Chrome(r\"chromedriver.exe\")\n",
    "    driver.get(url[i])\n",
    "    \n",
    "    try:\n",
    "        pc_tag = driver.find_elements(By.XPATH,'//td[@class=\"URwL2w col col-9-12\"]')\n",
    "        for i in pc_tag[17:18]:\n",
    "            j = i.text\n",
    "            pc.append(j)\n",
    "            driver.close()\n",
    "    except NoSuchElementException as e:\n",
    "        pc.append(\"-\")\n",
    "        driver.close()"
   ]
  },
  {
   "cell_type": "code",
   "execution_count": null,
   "id": "7950276d",
   "metadata": {},
   "outputs": [],
   "source": [
    "for i in range(0,24):\n",
    "    driver = webdriver.Chrome(r\"chromedriver.exe\")\n",
    "    driver.get(url[i])\n",
    "    \n",
    "    try:\n",
    "        display_tag = driver.find_elements(By.XPATH,'//td[@class=\"URwL2w col col-9-12\"]')\n",
    "        for i in display_tag[9:10]:\n",
    "            j = i.text\n",
    "            display.append(j)\n",
    "            driver.close()\n",
    "    except NoSuchElementException as e:\n",
    "        display.append(\"-\")\n",
    "        driver.close()"
   ]
  },
  {
   "cell_type": "code",
   "execution_count": null,
   "id": "f645b7b6",
   "metadata": {},
   "outputs": [],
   "source": [
    "for i in range(0,24):\n",
    "    driver = webdriver.Chrome(r\"chromedriver.exe\")\n",
    "    driver.get(url[i])\n",
    "    \n",
    "    try:\n",
    "        battery_tag = driver.find_elements(By.XPATH,'//td[@class=\"URwL2w col col-9-12\"]')\n",
    "        for i in battery_tag[21:22]:\n",
    "            j = i.text\n",
    "            battery.append(j)\n",
    "            driver.close()\n",
    "    except NoSuchElementException as e:\n",
    "        battery.append(\"-\")\n",
    "        driver.close()"
   ]
  },
  {
   "cell_type": "code",
   "execution_count": null,
   "id": "75f0ba4b",
   "metadata": {},
   "outputs": [],
   "source": [
    "len(brand_name),len(smartphone_name),len(colour),len(ram),len(rom),len(pc),len(display),len(battery),len(price)"
   ]
  },
  {
   "cell_type": "code",
   "execution_count": null,
   "id": "9158d73d",
   "metadata": {},
   "outputs": [],
   "source": [
    "data = pd.DataFrame({\"BRAND NAME\":brand_name,\"PHONE NAME\":smartphone_name,\n",
    "                    \"COLOR\":colour,\"RAM\":ram,\n",
    "                    \"ROM\":rom,\"PRIMARY CAMERA\":pc,\n",
    "                    \"DISPLAY\":display,\"BATTERY\":battery,\n",
    "                    \"PRICE\":price})"
   ]
  },
  {
   "cell_type": "code",
   "execution_count": null,
   "id": "68d8e060",
   "metadata": {},
   "outputs": [],
   "source": [
    "data.to_csv(\"ONEPLUSNORD.csv\")"
   ]
  }
 ],
 "metadata": {
  "kernelspec": {
   "display_name": "Python 3 (ipykernel)",
   "language": "python",
   "name": "python3"
  },
  "language_info": {
   "codemirror_mode": {
    "name": "ipython",
    "version": 3
   },
   "file_extension": ".py",
   "mimetype": "text/x-python",
   "name": "python",
   "nbconvert_exporter": "python",
   "pygments_lexer": "ipython3",
   "version": "3.9.12"
  }
 },
 "nbformat": 4,
 "nbformat_minor": 5
}
