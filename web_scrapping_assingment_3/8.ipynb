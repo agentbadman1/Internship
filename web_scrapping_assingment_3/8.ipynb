{
 "cells": [
  {
   "cell_type": "code",
   "execution_count": 1,
   "id": "31982d6e",
   "metadata": {},
   "outputs": [],
   "source": [
    "import selenium\n",
    "import pandas as pd\n",
    "from selenium import webdriver\n",
    "import warnings\n",
    "warnings.filterwarnings(\"ignore\")\n",
    "from selenium.webdriver.common.by import By\n",
    "import time"
   ]
  },
  {
   "cell_type": "code",
   "execution_count": 2,
   "id": "38a80ff8",
   "metadata": {},
   "outputs": [],
   "source": [
    "from selenium.common.exceptions import NoSuchElementException"
   ]
  },
  {
   "cell_type": "code",
   "execution_count": 3,
   "id": "ed7191c0",
   "metadata": {},
   "outputs": [],
   "source": [
    "driver = webdriver.Chrome(r\"chromedriver.exe\")"
   ]
  },
  {
   "cell_type": "code",
   "execution_count": 4,
   "id": "ba7032d7",
   "metadata": {},
   "outputs": [],
   "source": [
    "driver.get(\"https://www.forbes.com/?sh=1951082d2254\")"
   ]
  },
  {
   "cell_type": "code",
   "execution_count": 5,
   "id": "ab8e07e8",
   "metadata": {},
   "outputs": [],
   "source": [
    "driver.maximize_window()"
   ]
  },
  {
   "cell_type": "code",
   "execution_count": 6,
   "id": "1b56fee6",
   "metadata": {},
   "outputs": [],
   "source": [
    "dropdown = driver.find_element(By.XPATH,'/html/body/div[1]/header/nav/div[1]/div/div/div')\n",
    "dropdown.click()"
   ]
  },
  {
   "cell_type": "code",
   "execution_count": 7,
   "id": "3ab08e15",
   "metadata": {},
   "outputs": [],
   "source": [
    "bil = driver.find_element(By.XPATH,'/html/body/div[1]/header/nav/div[1]/div/div/div[2]/ul/li[1]/div[1]')\n",
    "bil.click()"
   ]
  },
  {
   "cell_type": "code",
   "execution_count": 8,
   "id": "adb32aec",
   "metadata": {},
   "outputs": [],
   "source": [
    "path = driver.find_element(By.XPATH,'/html/body/div[1]/header/nav/div[1]/div/div/div[2]/ul/li[1]/div[2]/div[3]/ul/li[1]')\n",
    "path.click()"
   ]
  },
  {
   "cell_type": "code",
   "execution_count": 9,
   "id": "55fad31c",
   "metadata": {},
   "outputs": [],
   "source": [
    "rank = []\n",
    "name = []\n",
    "net = []\n",
    "age = []\n",
    "country = []\n",
    "source = []\n",
    "ind = []\n"
   ]
  },
  {
   "cell_type": "code",
   "execution_count": 10,
   "id": "fb26d904",
   "metadata": {},
   "outputs": [],
   "source": [
    "try:\n",
    "    rank_tag = driver.find_elements(By.XPATH,'//div[@class=\"rank\"]')\n",
    "    for i in rank_tag:\n",
    "        j = i.text\n",
    "        rank.append(j)\n",
    "except NoSuchElementException as e:\n",
    "    rank.append(\"-\")"
   ]
  },
  {
   "cell_type": "code",
   "execution_count": 11,
   "id": "de2c7178",
   "metadata": {},
   "outputs": [
    {
     "data": {
      "text/plain": [
       "200"
      ]
     },
     "execution_count": 11,
     "metadata": {},
     "output_type": "execute_result"
    }
   ],
   "source": [
    "len(rank)"
   ]
  },
  {
   "cell_type": "code",
   "execution_count": 12,
   "id": "54c2a565",
   "metadata": {},
   "outputs": [],
   "source": [
    "try:\n",
    "    name_tag = driver.find_elements(By.XPATH,'//div[@class=\"personName\"]')\n",
    "    for i in name_tag:\n",
    "        j = i.text\n",
    "        name.append(j)\n",
    "except NoSuchElementException as e:\n",
    "    name.append(\"-\")"
   ]
  },
  {
   "cell_type": "code",
   "execution_count": 13,
   "id": "b1d41792",
   "metadata": {},
   "outputs": [],
   "source": [
    "try:\n",
    "    net_tag = driver.find_elements(By.XPATH,'//div[@class=\"netWorth\"]')\n",
    "    for i in net_tag:\n",
    "        j = i.text\n",
    "        net.append(j)\n",
    "except NoSuchElementException as e:\n",
    "    net.append(\"-\")"
   ]
  },
  {
   "cell_type": "code",
   "execution_count": 14,
   "id": "e358a9ab",
   "metadata": {},
   "outputs": [],
   "source": [
    "try:\n",
    "    age_tag = driver.find_elements(By.XPATH,'//div[@class=\"age\"]')\n",
    "    for i in age_tag:\n",
    "        j = i.text\n",
    "        age.append(j)\n",
    "except NoSuchElementException as e:\n",
    "    age.append(\"-\")"
   ]
  },
  {
   "cell_type": "code",
   "execution_count": 15,
   "id": "c622a1c3",
   "metadata": {},
   "outputs": [],
   "source": [
    "try:\n",
    "    country_tag = driver.find_elements(By.XPATH,'//div[@class=\"countryOfCitizenship\"]')\n",
    "    for i in country_tag:\n",
    "        j = i.text\n",
    "        country.append(j)\n",
    "except NoSuchElementException as e:\n",
    "    country.append(\"-\")"
   ]
  },
  {
   "cell_type": "code",
   "execution_count": 16,
   "id": "26e6db6a",
   "metadata": {},
   "outputs": [],
   "source": [
    "try:\n",
    "    source_tag = driver.find_elements(By.XPATH,'//div[@class=\"source-column\"]')\n",
    "    for i in source_tag:\n",
    "        j = i.text\n",
    "        source.append(j)\n",
    "except NoSuchElementException as e:\n",
    "    source.append(\"-\")"
   ]
  },
  {
   "cell_type": "code",
   "execution_count": 17,
   "id": "7b223bb4",
   "metadata": {},
   "outputs": [],
   "source": [
    "try:\n",
    "    ind_tag = driver.find_elements(By.XPATH,'//div[@class=\"category\"]')\n",
    "    for i in ind_tag:\n",
    "        j = i.text\n",
    "        ind.append(j)\n",
    "except NoSuchElementException as e:\n",
    "    ind.append(\"-\")"
   ]
  },
  {
   "cell_type": "code",
   "execution_count": 18,
   "id": "bbfec025",
   "metadata": {},
   "outputs": [],
   "source": [
    "data = pd.DataFrame({\"RANK\":rank,\"NAME\":name,\n",
    "                    \"NETWORTH\":net,\"AGE\":age,\n",
    "                    \"COUNTRY\":country,\"Source\":source,\n",
    "                    \"INDUSTRY\":ind})"
   ]
  },
  {
   "cell_type": "code",
   "execution_count": 19,
   "id": "adbf32b5",
   "metadata": {},
   "outputs": [
    {
     "data": {
      "text/html": [
       "<div>\n",
       "<style scoped>\n",
       "    .dataframe tbody tr th:only-of-type {\n",
       "        vertical-align: middle;\n",
       "    }\n",
       "\n",
       "    .dataframe tbody tr th {\n",
       "        vertical-align: top;\n",
       "    }\n",
       "\n",
       "    .dataframe thead th {\n",
       "        text-align: right;\n",
       "    }\n",
       "</style>\n",
       "<table border=\"1\" class=\"dataframe\">\n",
       "  <thead>\n",
       "    <tr style=\"text-align: right;\">\n",
       "      <th></th>\n",
       "      <th>RANK</th>\n",
       "      <th>NAME</th>\n",
       "      <th>NETWORTH</th>\n",
       "      <th>AGE</th>\n",
       "      <th>COUNTRY</th>\n",
       "      <th>Source</th>\n",
       "      <th>INDUSTRY</th>\n",
       "    </tr>\n",
       "  </thead>\n",
       "  <tbody>\n",
       "    <tr>\n",
       "      <th>0</th>\n",
       "      <td>1.</td>\n",
       "      <td>Elon Musk</td>\n",
       "      <td>$219 B</td>\n",
       "      <td>50</td>\n",
       "      <td>United States</td>\n",
       "      <td>Tesla, SpaceX</td>\n",
       "      <td>Automotive</td>\n",
       "    </tr>\n",
       "    <tr>\n",
       "      <th>1</th>\n",
       "      <td>2.</td>\n",
       "      <td>Jeff Bezos</td>\n",
       "      <td>$171 B</td>\n",
       "      <td>58</td>\n",
       "      <td>United States</td>\n",
       "      <td>Amazon</td>\n",
       "      <td>Technology</td>\n",
       "    </tr>\n",
       "    <tr>\n",
       "      <th>2</th>\n",
       "      <td>3.</td>\n",
       "      <td>Bernard Arnault &amp; family</td>\n",
       "      <td>$158 B</td>\n",
       "      <td>73</td>\n",
       "      <td>France</td>\n",
       "      <td>LVMH</td>\n",
       "      <td>Fashion &amp; Retail</td>\n",
       "    </tr>\n",
       "    <tr>\n",
       "      <th>3</th>\n",
       "      <td>4.</td>\n",
       "      <td>Bill Gates</td>\n",
       "      <td>$129 B</td>\n",
       "      <td>66</td>\n",
       "      <td>United States</td>\n",
       "      <td>Microsoft</td>\n",
       "      <td>Technology</td>\n",
       "    </tr>\n",
       "    <tr>\n",
       "      <th>4</th>\n",
       "      <td>5.</td>\n",
       "      <td>Warren Buffett</td>\n",
       "      <td>$118 B</td>\n",
       "      <td>91</td>\n",
       "      <td>United States</td>\n",
       "      <td>Berkshire Hathaway</td>\n",
       "      <td>Finance &amp; Investments</td>\n",
       "    </tr>\n",
       "    <tr>\n",
       "      <th>...</th>\n",
       "      <td>...</td>\n",
       "      <td>...</td>\n",
       "      <td>...</td>\n",
       "      <td>...</td>\n",
       "      <td>...</td>\n",
       "      <td>...</td>\n",
       "      <td>...</td>\n",
       "    </tr>\n",
       "    <tr>\n",
       "      <th>195</th>\n",
       "      <td>192.</td>\n",
       "      <td>Marcel Herrmann Telles</td>\n",
       "      <td>$10.3 B</td>\n",
       "      <td>72</td>\n",
       "      <td>Brazil</td>\n",
       "      <td>beer</td>\n",
       "      <td>Food &amp; Beverage</td>\n",
       "    </tr>\n",
       "    <tr>\n",
       "      <th>196</th>\n",
       "      <td>197.</td>\n",
       "      <td>Leon Black</td>\n",
       "      <td>$10 B</td>\n",
       "      <td>70</td>\n",
       "      <td>United States</td>\n",
       "      <td>private equity</td>\n",
       "      <td>Finance &amp; Investments</td>\n",
       "    </tr>\n",
       "    <tr>\n",
       "      <th>197</th>\n",
       "      <td>197.</td>\n",
       "      <td>Joe Gebbia</td>\n",
       "      <td>$10 B</td>\n",
       "      <td>40</td>\n",
       "      <td>United States</td>\n",
       "      <td>Airbnb</td>\n",
       "      <td>Technology</td>\n",
       "    </tr>\n",
       "    <tr>\n",
       "      <th>198</th>\n",
       "      <td>197.</td>\n",
       "      <td>David Geffen</td>\n",
       "      <td>$10 B</td>\n",
       "      <td>79</td>\n",
       "      <td>United States</td>\n",
       "      <td>movies, record labels</td>\n",
       "      <td>Media &amp; Entertainment</td>\n",
       "    </tr>\n",
       "    <tr>\n",
       "      <th>199</th>\n",
       "      <td>197.</td>\n",
       "      <td>Yu Renrong</td>\n",
       "      <td>$10 B</td>\n",
       "      <td>56</td>\n",
       "      <td>China</td>\n",
       "      <td>semiconductors</td>\n",
       "      <td>Manufacturing</td>\n",
       "    </tr>\n",
       "  </tbody>\n",
       "</table>\n",
       "<p>200 rows × 7 columns</p>\n",
       "</div>"
      ],
      "text/plain": [
       "     RANK                      NAME NETWORTH AGE        COUNTRY  \\\n",
       "0      1.                 Elon Musk   $219 B  50  United States   \n",
       "1      2.                Jeff Bezos   $171 B  58  United States   \n",
       "2      3.  Bernard Arnault & family   $158 B  73         France   \n",
       "3      4.                Bill Gates   $129 B  66  United States   \n",
       "4      5.            Warren Buffett   $118 B  91  United States   \n",
       "..    ...                       ...      ...  ..            ...   \n",
       "195  192.    Marcel Herrmann Telles  $10.3 B  72         Brazil   \n",
       "196  197.                Leon Black    $10 B  70  United States   \n",
       "197  197.                Joe Gebbia    $10 B  40  United States   \n",
       "198  197.              David Geffen    $10 B  79  United States   \n",
       "199  197.                Yu Renrong    $10 B  56          China   \n",
       "\n",
       "                    Source               INDUSTRY  \n",
       "0            Tesla, SpaceX             Automotive  \n",
       "1                   Amazon             Technology  \n",
       "2                     LVMH       Fashion & Retail  \n",
       "3                Microsoft             Technology  \n",
       "4       Berkshire Hathaway  Finance & Investments  \n",
       "..                     ...                    ...  \n",
       "195                   beer        Food & Beverage  \n",
       "196         private equity  Finance & Investments  \n",
       "197                 Airbnb             Technology  \n",
       "198  movies, record labels  Media & Entertainment  \n",
       "199         semiconductors          Manufacturing  \n",
       "\n",
       "[200 rows x 7 columns]"
      ]
     },
     "execution_count": 19,
     "metadata": {},
     "output_type": "execute_result"
    }
   ],
   "source": [
    "data"
   ]
  },
  {
   "cell_type": "code",
   "execution_count": 20,
   "id": "5fa4d0d9",
   "metadata": {},
   "outputs": [],
   "source": [
    "data.to_csv(\"FORBES TOP 200.csv\")"
   ]
  },
  {
   "cell_type": "code",
   "execution_count": null,
   "id": "461a3de3",
   "metadata": {},
   "outputs": [],
   "source": []
  }
 ],
 "metadata": {
  "kernelspec": {
   "display_name": "Python 3 (ipykernel)",
   "language": "python",
   "name": "python3"
  },
  "language_info": {
   "codemirror_mode": {
    "name": "ipython",
    "version": 3
   },
   "file_extension": ".py",
   "mimetype": "text/x-python",
   "name": "python",
   "nbconvert_exporter": "python",
   "pygments_lexer": "ipython3",
   "version": "3.9.12"
  }
 },
 "nbformat": 4,
 "nbformat_minor": 5
}
