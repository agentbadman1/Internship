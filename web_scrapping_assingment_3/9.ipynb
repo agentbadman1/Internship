{
 "cells": [
  {
   "cell_type": "code",
   "execution_count": 1,
   "id": "36569d1c",
   "metadata": {},
   "outputs": [],
   "source": [
    "import selenium\n",
    "import pandas as pd\n",
    "from selenium import webdriver\n",
    "import warnings\n",
    "warnings.filterwarnings(\"ignore\")\n",
    "from selenium.webdriver.common.by import By\n",
    "import time"
   ]
  },
  {
   "cell_type": "code",
   "execution_count": 2,
   "id": "0c4d7dc2",
   "metadata": {},
   "outputs": [],
   "source": [
    "from selenium.common.exceptions import NoSuchElementException"
   ]
  },
  {
   "cell_type": "code",
   "execution_count": 3,
   "id": "5e84f3a3",
   "metadata": {},
   "outputs": [],
   "source": [
    "driver = webdriver.Chrome(r\"chromedriver.exe\")"
   ]
  },
  {
   "cell_type": "code",
   "execution_count": 4,
   "id": "f3852016",
   "metadata": {},
   "outputs": [],
   "source": [
    "driver.get(\"https://www.youtube.com/watch?v=kJQP7kiw5Fk\")"
   ]
  },
  {
   "cell_type": "code",
   "execution_count": 5,
   "id": "17af21ae",
   "metadata": {},
   "outputs": [],
   "source": [
    "driver.maximize_window()"
   ]
  },
  {
   "cell_type": "code",
   "execution_count": 6,
   "id": "b06b01c3",
   "metadata": {},
   "outputs": [],
   "source": [
    "driver.execute_script(\"window.scrollTo(0, document.body.scrollHeight);\")"
   ]
  },
  {
   "cell_type": "code",
   "execution_count": 7,
   "id": "d96e91bb",
   "metadata": {},
   "outputs": [],
   "source": [
    "comment = []\n",
    "upvote = []\n",
    "time = []"
   ]
  },
  {
   "cell_type": "code",
   "execution_count": 8,
   "id": "b6b4fe39",
   "metadata": {},
   "outputs": [],
   "source": [
    "try:\n",
    "    comment_tag = driver.find_elements(By.XPATH,'//div[@class=\"style-scope ytd-expander\"]')\n",
    "    for i in comment_tag[2:502]:\n",
    "        j = i.text\n",
    "        comment.append(j)\n",
    "except NoSuchElementException as e:\n",
    "    comment.append(\"-\")"
   ]
  },
  {
   "cell_type": "code",
   "execution_count": 9,
   "id": "19b495ec",
   "metadata": {},
   "outputs": [
    {
     "data": {
      "text/plain": [
       "500"
      ]
     },
     "execution_count": 9,
     "metadata": {},
     "output_type": "execute_result"
    }
   ],
   "source": [
    "len(comment)"
   ]
  },
  {
   "cell_type": "code",
   "execution_count": 10,
   "id": "69b3ed48",
   "metadata": {},
   "outputs": [],
   "source": [
    "try:\n",
    "    upvote_tag = driver.find_elements(By.XPATH,'//span[@class=\"style-scope ytd-comment-action-buttons-renderer\"]')\n",
    "    for i in upvote_tag[1:1101]:\n",
    "        j = i.text\n",
    "        if len(j) != 0:\n",
    "            upvote.append(j)\n",
    "except NoSuchElementException as e:\n",
    "    upvote.append(\"-\")\n"
   ]
  },
  {
   "cell_type": "code",
   "execution_count": 11,
   "id": "1d178f01",
   "metadata": {},
   "outputs": [],
   "source": [
    "try:\n",
    "    time_tag = driver.find_elements(By.XPATH,'//a[@class=\"yt-simple-endpoint style-scope yt-formatted-string\"]')\n",
    "    for i in time_tag[50:550]:\n",
    "        j = i.text\n",
    "        time.append(j)\n",
    "        \n",
    "except NoSuchElementException as e:\n",
    "    time.append(\"-\")"
   ]
  },
  {
   "cell_type": "code",
   "execution_count": 14,
   "id": "199ea4d2",
   "metadata": {},
   "outputs": [],
   "source": [
    "data = pd.DataFrame({\"COMMENT\":comment,\"UPVOTE\":upvote,\n",
    "                    \"TIME\":time})"
   ]
  },
  {
   "cell_type": "code",
   "execution_count": 15,
   "id": "89cd129a",
   "metadata": {},
   "outputs": [
    {
     "data": {
      "text/html": [
       "<div>\n",
       "<style scoped>\n",
       "    .dataframe tbody tr th:only-of-type {\n",
       "        vertical-align: middle;\n",
       "    }\n",
       "\n",
       "    .dataframe tbody tr th {\n",
       "        vertical-align: top;\n",
       "    }\n",
       "\n",
       "    .dataframe thead th {\n",
       "        text-align: right;\n",
       "    }\n",
       "</style>\n",
       "<table border=\"1\" class=\"dataframe\">\n",
       "  <thead>\n",
       "    <tr style=\"text-align: right;\">\n",
       "      <th></th>\n",
       "      <th>COMMENT</th>\n",
       "      <th>UPVOTE</th>\n",
       "      <th>TIME</th>\n",
       "    </tr>\n",
       "  </thead>\n",
       "  <tbody>\n",
       "    <tr>\n",
       "      <th>0</th>\n",
       "      <td>This song never gets old</td>\n",
       "      <td>377K</td>\n",
       "      <td>6 days ago (edited)</td>\n",
       "    </tr>\n",
       "    <tr>\n",
       "      <th>1</th>\n",
       "      <td>Pasan los años y sigue siendo la canción más e...</td>\n",
       "      <td>1.1K</td>\n",
       "      <td>1 day ago</td>\n",
       "    </tr>\n",
       "    <tr>\n",
       "      <th>2</th>\n",
       "      <td>Sigamos reproduciendola</td>\n",
       "      <td>51</td>\n",
       "      <td>5 days ago</td>\n",
       "    </tr>\n",
       "    <tr>\n",
       "      <th>3</th>\n",
       "      <td>2023, y sigo escuchando esta JOYITA DE LA MUSI...</td>\n",
       "      <td>24</td>\n",
       "      <td>1 day ago</td>\n",
       "    </tr>\n",
       "    <tr>\n",
       "      <th>4</th>\n",
       "      <td>Nos pusimos de acuerdo para escucharlo esta se...</td>\n",
       "      <td>10</td>\n",
       "      <td>2 years ago (edited)</td>\n",
       "    </tr>\n",
       "    <tr>\n",
       "      <th>...</th>\n",
       "      <td>...</td>\n",
       "      <td>...</td>\n",
       "      <td>...</td>\n",
       "    </tr>\n",
       "    <tr>\n",
       "      <th>495</th>\n",
       "      <td>Me sorprende mucho la cantidad de likes y visi...</td>\n",
       "      <td>2</td>\n",
       "      <td>6 days ago</td>\n",
       "    </tr>\n",
       "    <tr>\n",
       "      <th>496</th>\n",
       "      <td>la escuche tantas veces que me dejo de gustar</td>\n",
       "      <td>4</td>\n",
       "      <td>6 hours ago</td>\n",
       "    </tr>\n",
       "    <tr>\n",
       "      <th>497</th>\n",
       "      <td>The fact that this video's views is almost equ...</td>\n",
       "      <td>1</td>\n",
       "      <td>3 years ago</td>\n",
       "    </tr>\n",
       "    <tr>\n",
       "      <th>498</th>\n",
       "      <td>2023 and i still listening this JEWEL of music</td>\n",
       "      <td>2</td>\n",
       "      <td>3 days ago</td>\n",
       "    </tr>\n",
       "    <tr>\n",
       "      <th>499</th>\n",
       "      <td>8mld wow gratulacje</td>\n",
       "      <td>131</td>\n",
       "      <td>6 days ago</td>\n",
       "    </tr>\n",
       "  </tbody>\n",
       "</table>\n",
       "<p>500 rows × 3 columns</p>\n",
       "</div>"
      ],
      "text/plain": [
       "                                               COMMENT UPVOTE  \\\n",
       "0                             This song never gets old   377K   \n",
       "1    Pasan los años y sigue siendo la canción más e...   1.1K   \n",
       "2                              Sigamos reproduciendola     51   \n",
       "3    2023, y sigo escuchando esta JOYITA DE LA MUSI...     24   \n",
       "4    Nos pusimos de acuerdo para escucharlo esta se...     10   \n",
       "..                                                 ...    ...   \n",
       "495  Me sorprende mucho la cantidad de likes y visi...      2   \n",
       "496      la escuche tantas veces que me dejo de gustar      4   \n",
       "497  The fact that this video's views is almost equ...      1   \n",
       "498     2023 and i still listening this JEWEL of music      2   \n",
       "499                                8mld wow gratulacje    131   \n",
       "\n",
       "                     TIME  \n",
       "0     6 days ago (edited)  \n",
       "1               1 day ago  \n",
       "2              5 days ago  \n",
       "3               1 day ago  \n",
       "4    2 years ago (edited)  \n",
       "..                    ...  \n",
       "495            6 days ago  \n",
       "496           6 hours ago  \n",
       "497           3 years ago  \n",
       "498            3 days ago  \n",
       "499            6 days ago  \n",
       "\n",
       "[500 rows x 3 columns]"
      ]
     },
     "execution_count": 15,
     "metadata": {},
     "output_type": "execute_result"
    }
   ],
   "source": [
    "data"
   ]
  },
  {
   "cell_type": "code",
   "execution_count": 12,
   "id": "8dec14a2",
   "metadata": {},
   "outputs": [
    {
     "data": {
      "text/plain": [
       "(500, 536, 500)"
      ]
     },
     "execution_count": 12,
     "metadata": {},
     "output_type": "execute_result"
    }
   ],
   "source": [
    "len(comment),len(upvote),len(time)"
   ]
  },
  {
   "cell_type": "code",
   "execution_count": 13,
   "id": "875de46a",
   "metadata": {},
   "outputs": [],
   "source": [
    "upvote = upvote[:500]"
   ]
  },
  {
   "cell_type": "code",
   "execution_count": 16,
   "id": "3b158dbe",
   "metadata": {},
   "outputs": [],
   "source": [
    "data.to_csv(\"youtube top 500 comments.csv\")"
   ]
  },
  {
   "cell_type": "code",
   "execution_count": null,
   "id": "649abb68",
   "metadata": {},
   "outputs": [],
   "source": []
  }
 ],
 "metadata": {
  "kernelspec": {
   "display_name": "Python 3 (ipykernel)",
   "language": "python",
   "name": "python3"
  },
  "language_info": {
   "codemirror_mode": {
    "name": "ipython",
    "version": 3
   },
   "file_extension": ".py",
   "mimetype": "text/x-python",
   "name": "python",
   "nbconvert_exporter": "python",
   "pygments_lexer": "ipython3",
   "version": "3.9.12"
  }
 },
 "nbformat": 4,
 "nbformat_minor": 5
}
