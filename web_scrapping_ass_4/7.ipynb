{
 "cells": [
  {
   "cell_type": "code",
   "execution_count": 1,
   "id": "b275f442",
   "metadata": {},
   "outputs": [],
   "source": [
    "import selenium\n",
    "import pandas as pd\n",
    "from selenium import webdriver\n",
    "import warnings\n",
    "warnings.filterwarnings(\"ignore\")\n",
    "from selenium.webdriver.common.by import By\n",
    "import time\n",
    "from selenium.common.exceptions import NoSuchElementException"
   ]
  },
  {
   "cell_type": "code",
   "execution_count": 2,
   "id": "854f0379",
   "metadata": {},
   "outputs": [],
   "source": [
    "driver = webdriver.Chrome(r\"chromedriver.exe\")"
   ]
  },
  {
   "cell_type": "code",
   "execution_count": 3,
   "id": "4fe1f448",
   "metadata": {},
   "outputs": [],
   "source": [
    "driver.maximize_window()"
   ]
  },
  {
   "cell_type": "code",
   "execution_count": 4,
   "id": "c790d656",
   "metadata": {},
   "outputs": [],
   "source": [
    "driver.get(r'https://www.imdb.com/list/ls095964455/')"
   ]
  },
  {
   "cell_type": "code",
   "execution_count": 5,
   "id": "de1136e4",
   "metadata": {},
   "outputs": [],
   "source": [
    "name = []\n",
    "year = []\n",
    "genre = []\n",
    "time = []\n",
    "rating = []\n",
    "vote = []\n",
    "xd = []\n",
    "vote2 = []"
   ]
  },
  {
   "cell_type": "code",
   "execution_count": 6,
   "id": "08e6d117",
   "metadata": {},
   "outputs": [],
   "source": [
    "try:\n",
    "    name_tag = driver.find_elements(By.XPATH,'//h3[@class=\"lister-item-header\"]')\n",
    "    for i in name_tag:\n",
    "        j = i.text.split(\". \")[1].split(\" (\")[0]\n",
    "        name.append(j)\n",
    "except NoSuchElementException as e:\n",
    "    name.append(\"-\")"
   ]
  },
  {
   "cell_type": "code",
   "execution_count": 7,
   "id": "bfb1d293",
   "metadata": {},
   "outputs": [],
   "source": [
    "try:\n",
    "    year_tag = driver.find_elements(By.XPATH,'//h3[@class=\"lister-item-header\"]')\n",
    "    for i in year_tag:\n",
    "        j = i.text.split(\" (\")[1].split(\")\")[0]\n",
    "        year.append(j)\n",
    "except NoSuchElementException as e:\n",
    "    year.append(\"-\")"
   ]
  },
  {
   "cell_type": "code",
   "execution_count": 8,
   "id": "ccef1187",
   "metadata": {},
   "outputs": [],
   "source": [
    "try:\n",
    "    genre_tag = driver.find_elements(By.XPATH,'//span[@class=\"genre\"]')\n",
    "    for i in genre_tag:\n",
    "        j = i.text\n",
    "        genre.append(j)\n",
    "except NoSuchElementException as e:\n",
    "    genre.append(\"-\")"
   ]
  },
  {
   "cell_type": "code",
   "execution_count": 9,
   "id": "af56ac41",
   "metadata": {},
   "outputs": [],
   "source": [
    "try:\n",
    "    time_tag = driver.find_elements(By.XPATH,'//span[@class=\"runtime\"]')\n",
    "    for i in time_tag:\n",
    "        j = i.text\n",
    "        time.append(j)\n",
    "except NoSuchElementException as e:\n",
    "    time.append(\"-\")"
   ]
  },
  {
   "cell_type": "code",
   "execution_count": 10,
   "id": "1072e80d",
   "metadata": {},
   "outputs": [],
   "source": [
    "try:\n",
    "    rating_tag = driver.find_elements(By.XPATH,'//div[@class=\"ipl-rating-star small\"]')\n",
    "    for i in rating_tag:\n",
    "        j = i.text\n",
    "        rating.append(j)\n",
    "except NoSuchElementException as e:\n",
    "    rating.append(\"-\")"
   ]
  },
  {
   "cell_type": "code",
   "execution_count": 11,
   "id": "d6e389de",
   "metadata": {},
   "outputs": [],
   "source": [
    "try:\n",
    "    xd_tag = driver.find_elements(By.XPATH,'//p[@class=\"text-muted text-small\"]')\n",
    "    for i in xd_tag:\n",
    "        j = i.text\n",
    "        xd.append(j)\n",
    "except NoSuchElementException as e:\n",
    "    xd.append(\"-\")"
   ]
  },
  {
   "cell_type": "code",
   "execution_count": 12,
   "id": "f2d6abc9",
   "metadata": {},
   "outputs": [],
   "source": [
    "vote = xd[2::3]"
   ]
  },
  {
   "cell_type": "code",
   "execution_count": 13,
   "id": "e0565aa4",
   "metadata": {},
   "outputs": [],
   "source": [
    "for i in vote:\n",
    "    j = i.split(\": \")[1]\n",
    "    vote2.append(j)"
   ]
  },
  {
   "cell_type": "code",
   "execution_count": 16,
   "id": "2bb79b21",
   "metadata": {},
   "outputs": [],
   "source": [
    "data = pd.DataFrame({\"TITLE\":name,\"YEAR SPAN\":year,\n",
    "                    \"GENRE\":genre,\"RUN TIME\":time,\n",
    "                    \"RATING\":rating,\"VOTES\":vote2})"
   ]
  },
  {
   "cell_type": "code",
   "execution_count": 17,
   "id": "6fed8754",
   "metadata": {},
   "outputs": [
    {
     "data": {
      "text/html": [
       "<div>\n",
       "<style scoped>\n",
       "    .dataframe tbody tr th:only-of-type {\n",
       "        vertical-align: middle;\n",
       "    }\n",
       "\n",
       "    .dataframe tbody tr th {\n",
       "        vertical-align: top;\n",
       "    }\n",
       "\n",
       "    .dataframe thead th {\n",
       "        text-align: right;\n",
       "    }\n",
       "</style>\n",
       "<table border=\"1\" class=\"dataframe\">\n",
       "  <thead>\n",
       "    <tr style=\"text-align: right;\">\n",
       "      <th></th>\n",
       "      <th>TITLE</th>\n",
       "      <th>YEAR SPAN</th>\n",
       "      <th>GENRE</th>\n",
       "      <th>RUN TIME</th>\n",
       "      <th>RATING</th>\n",
       "      <th>VOTES</th>\n",
       "    </tr>\n",
       "  </thead>\n",
       "  <tbody>\n",
       "    <tr>\n",
       "      <th>0</th>\n",
       "      <td>Game of Thrones</td>\n",
       "      <td>2011–2019</td>\n",
       "      <td>Action, Adventure, Drama</td>\n",
       "      <td>57 min</td>\n",
       "      <td>9.2</td>\n",
       "      <td>2,117,162</td>\n",
       "    </tr>\n",
       "    <tr>\n",
       "      <th>1</th>\n",
       "      <td>Stranger Things</td>\n",
       "      <td>2016–</td>\n",
       "      <td>Drama, Fantasy, Horror</td>\n",
       "      <td>51 min</td>\n",
       "      <td>8.7</td>\n",
       "      <td>1,206,362</td>\n",
       "    </tr>\n",
       "    <tr>\n",
       "      <th>2</th>\n",
       "      <td>The Walking Dead</td>\n",
       "      <td>2010–2022</td>\n",
       "      <td>Drama, Horror, Thriller</td>\n",
       "      <td>44 min</td>\n",
       "      <td>8.1</td>\n",
       "      <td>1,003,533</td>\n",
       "    </tr>\n",
       "    <tr>\n",
       "      <th>3</th>\n",
       "      <td>13 Reasons Why</td>\n",
       "      <td>2017–2020</td>\n",
       "      <td>Drama, Mystery, Thriller</td>\n",
       "      <td>60 min</td>\n",
       "      <td>7.5</td>\n",
       "      <td>296,457</td>\n",
       "    </tr>\n",
       "    <tr>\n",
       "      <th>4</th>\n",
       "      <td>The 100</td>\n",
       "      <td>2014–2020</td>\n",
       "      <td>Drama, Mystery, Sci-Fi</td>\n",
       "      <td>43 min</td>\n",
       "      <td>7.6</td>\n",
       "      <td>255,380</td>\n",
       "    </tr>\n",
       "    <tr>\n",
       "      <th>...</th>\n",
       "      <td>...</td>\n",
       "      <td>...</td>\n",
       "      <td>...</td>\n",
       "      <td>...</td>\n",
       "      <td>...</td>\n",
       "      <td>...</td>\n",
       "    </tr>\n",
       "    <tr>\n",
       "      <th>95</th>\n",
       "      <td>Reign</td>\n",
       "      <td>2013–2017</td>\n",
       "      <td>Drama</td>\n",
       "      <td>42 min</td>\n",
       "      <td>7.4</td>\n",
       "      <td>50,655</td>\n",
       "    </tr>\n",
       "    <tr>\n",
       "      <th>96</th>\n",
       "      <td>A Series of Unfortunate Events</td>\n",
       "      <td>2017–2019</td>\n",
       "      <td>Adventure, Comedy, Drama</td>\n",
       "      <td>50 min</td>\n",
       "      <td>7.8</td>\n",
       "      <td>62,518</td>\n",
       "    </tr>\n",
       "    <tr>\n",
       "      <th>97</th>\n",
       "      <td>Criminal Minds</td>\n",
       "      <td>2005–</td>\n",
       "      <td>Crime, Drama, Mystery</td>\n",
       "      <td>42 min</td>\n",
       "      <td>8.1</td>\n",
       "      <td>202,168</td>\n",
       "    </tr>\n",
       "    <tr>\n",
       "      <th>98</th>\n",
       "      <td>Scream: The TV Series</td>\n",
       "      <td>2015–2019</td>\n",
       "      <td>Comedy, Crime, Drama</td>\n",
       "      <td>45 min</td>\n",
       "      <td>7.1</td>\n",
       "      <td>41,972</td>\n",
       "    </tr>\n",
       "    <tr>\n",
       "      <th>99</th>\n",
       "      <td>The Haunting of Hill House</td>\n",
       "      <td>2018</td>\n",
       "      <td>Drama, Horror, Mystery</td>\n",
       "      <td>572 min</td>\n",
       "      <td>8.6</td>\n",
       "      <td>249,875</td>\n",
       "    </tr>\n",
       "  </tbody>\n",
       "</table>\n",
       "<p>100 rows × 6 columns</p>\n",
       "</div>"
      ],
      "text/plain": [
       "                             TITLE  YEAR SPAN                     GENRE  \\\n",
       "0                  Game of Thrones  2011–2019  Action, Adventure, Drama   \n",
       "1                  Stranger Things     2016–     Drama, Fantasy, Horror   \n",
       "2                 The Walking Dead  2010–2022   Drama, Horror, Thriller   \n",
       "3                   13 Reasons Why  2017–2020  Drama, Mystery, Thriller   \n",
       "4                          The 100  2014–2020    Drama, Mystery, Sci-Fi   \n",
       "..                             ...        ...                       ...   \n",
       "95                           Reign  2013–2017                     Drama   \n",
       "96  A Series of Unfortunate Events  2017–2019  Adventure, Comedy, Drama   \n",
       "97                  Criminal Minds     2005–      Crime, Drama, Mystery   \n",
       "98           Scream: The TV Series  2015–2019      Comedy, Crime, Drama   \n",
       "99      The Haunting of Hill House       2018    Drama, Horror, Mystery   \n",
       "\n",
       "   RUN TIME RATING      VOTES  \n",
       "0    57 min    9.2  2,117,162  \n",
       "1    51 min    8.7  1,206,362  \n",
       "2    44 min    8.1  1,003,533  \n",
       "3    60 min    7.5    296,457  \n",
       "4    43 min    7.6    255,380  \n",
       "..      ...    ...        ...  \n",
       "95   42 min    7.4     50,655  \n",
       "96   50 min    7.8     62,518  \n",
       "97   42 min    8.1    202,168  \n",
       "98   45 min    7.1     41,972  \n",
       "99  572 min    8.6    249,875  \n",
       "\n",
       "[100 rows x 6 columns]"
      ]
     },
     "execution_count": 17,
     "metadata": {},
     "output_type": "execute_result"
    }
   ],
   "source": [
    "data"
   ]
  },
  {
   "cell_type": "code",
   "execution_count": null,
   "id": "795ad3fa",
   "metadata": {},
   "outputs": [],
   "source": []
  }
 ],
 "metadata": {
  "kernelspec": {
   "display_name": "Python 3 (ipykernel)",
   "language": "python",
   "name": "python3"
  },
  "language_info": {
   "codemirror_mode": {
    "name": "ipython",
    "version": 3
   },
   "file_extension": ".py",
   "mimetype": "text/x-python",
   "name": "python",
   "nbconvert_exporter": "python",
   "pygments_lexer": "ipython3",
   "version": "3.9.12"
  }
 },
 "nbformat": 4,
 "nbformat_minor": 5
}
