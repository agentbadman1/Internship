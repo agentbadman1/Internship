{
 "cells": [
  {
   "cell_type": "code",
   "execution_count": 1,
   "id": "3c2b53b7",
   "metadata": {},
   "outputs": [],
   "source": [
    "import selenium\n",
    "import pandas as pd\n",
    "from selenium import webdriver\n",
    "import warnings\n",
    "warnings.filterwarnings(\"ignore\")\n",
    "from selenium.webdriver.common.by import By\n",
    "import time"
   ]
  },
  {
   "cell_type": "code",
   "execution_count": 2,
   "id": "900d7abf",
   "metadata": {},
   "outputs": [],
   "source": [
    "driver = webdriver.Chrome(r\"chromedriver.exe\")"
   ]
  },
  {
   "cell_type": "code",
   "execution_count": 3,
   "id": "e33cac07",
   "metadata": {},
   "outputs": [],
   "source": [
    "driver.get(\"https://www.bcci.tv/\")"
   ]
  },
  {
   "cell_type": "code",
   "execution_count": 4,
   "id": "7ef03b32",
   "metadata": {},
   "outputs": [],
   "source": [
    "driver.maximize_window()"
   ]
  },
  {
   "cell_type": "code",
   "execution_count": 5,
   "id": "62dd4f2f",
   "metadata": {},
   "outputs": [],
   "source": [
    "inte = driver.find_element(By.XPATH,'/html/body/nav/div[1]/div[2]/ul[1]/li[2]/a')\n",
    "inte.click()"
   ]
  },
  {
   "cell_type": "code",
   "execution_count": 6,
   "id": "faf56266",
   "metadata": {},
   "outputs": [],
   "source": [
    "fix = driver.find_element(By.XPATH,'/html/body/div[2]/div[2]/div/div/div/div[2]/div[2]/div/div[1]/div/div[1]')\n",
    "fix.click()"
   ]
  },
  {
   "cell_type": "code",
   "execution_count": 7,
   "id": "06ecae63",
   "metadata": {},
   "outputs": [],
   "source": [
    "men = driver.find_element(By.XPATH,'/html/body/div[2]/div[2]/div/div/div/div[2]/div[2]/div/div[1]/div/div[2]/div[2]')\n",
    "men.click()"
   ]
  },
  {
   "cell_type": "code",
   "execution_count": 8,
   "id": "648a583b",
   "metadata": {},
   "outputs": [],
   "source": [
    "from selenium.common.exceptions import NoSuchElementException"
   ]
  },
  {
   "cell_type": "code",
   "execution_count": 9,
   "id": "504d6d57",
   "metadata": {},
   "outputs": [],
   "source": [
    "title = []\n",
    "series = []\n",
    "place = []\n",
    "date = []\n",
    "time = []"
   ]
  },
  {
   "cell_type": "code",
   "execution_count": 10,
   "id": "bb72274d",
   "metadata": {},
   "outputs": [],
   "source": [
    "try:\n",
    "    title_tag = driver.find_elements(By.XPATH,'//span[@class=\"matchOrderText ng-binding ng-scope\"]')\n",
    "    for i in title_tag:\n",
    "        j = i.text.split(\" -\")[0]\n",
    "        title.append(j)\n",
    "except NoSuchElementException as e:\n",
    "    title.append(\"-\")\n",
    "    "
   ]
  },
  {
   "cell_type": "code",
   "execution_count": 11,
   "id": "905bcdbb",
   "metadata": {},
   "outputs": [],
   "source": [
    "try:\n",
    "    series_tag = driver.find_elements(By.XPATH,'//span[@class=\"ng-binding\"]')\n",
    "    for i in series_tag:\n",
    "        j = i.text\n",
    "        series.append(j)\n",
    "except NoSuchElementException as e:\n",
    "    series.append(\"-\")"
   ]
  },
  {
   "cell_type": "code",
   "execution_count": 12,
   "id": "066cf7c9",
   "metadata": {},
   "outputs": [],
   "source": [
    "try:\n",
    "    place_tag = driver.find_elements(By.XPATH,'//div[@class=\"fix-place ng-binding ng-scope\"]')\n",
    "    for i in place_tag:\n",
    "        j = i.text.split(\" - \")[1]\n",
    "        place.append(j)\n",
    "except NoSuchElementException as e:\n",
    "    place.append(\"-\")"
   ]
  },
  {
   "cell_type": "code",
   "execution_count": 13,
   "id": "8ca98712",
   "metadata": {},
   "outputs": [],
   "source": [
    "try:\n",
    "    date_tag = driver.find_elements(By.XPATH,'//h5[@class=\"ng-binding\"]')\n",
    "    for i in date_tag:\n",
    "        j = i.text\n",
    "        date.append(j)\n",
    "except NoSuchElementException as e:\n",
    "    date.append(\"-\")"
   ]
  },
  {
   "cell_type": "code",
   "execution_count": 14,
   "id": "15f7dcf7",
   "metadata": {},
   "outputs": [],
   "source": [
    "try:\n",
    "    time_tag = driver.find_elements(By.XPATH,'//h5[@class=\"text-right ng-binding\"]')\n",
    "    for i in time_tag:\n",
    "        j = i.text\n",
    "        time.append(j)\n",
    "except NoSuchElementException as e:\n",
    "    time.append(\"-\")"
   ]
  },
  {
   "cell_type": "code",
   "execution_count": 16,
   "id": "4b8eb25d",
   "metadata": {},
   "outputs": [],
   "source": [
    "data = pd.DataFrame({\"TITLE\":title,\"Series\":series,\n",
    "                    \"PLACE\":place,\"DATE\":date,\n",
    "                    \"TIME\":time})"
   ]
  },
  {
   "cell_type": "code",
   "execution_count": 17,
   "id": "ceb4bcfc",
   "metadata": {},
   "outputs": [
    {
     "data": {
      "text/html": [
       "<div>\n",
       "<style scoped>\n",
       "    .dataframe tbody tr th:only-of-type {\n",
       "        vertical-align: middle;\n",
       "    }\n",
       "\n",
       "    .dataframe tbody tr th {\n",
       "        vertical-align: top;\n",
       "    }\n",
       "\n",
       "    .dataframe thead th {\n",
       "        text-align: right;\n",
       "    }\n",
       "</style>\n",
       "<table border=\"1\" class=\"dataframe\">\n",
       "  <thead>\n",
       "    <tr style=\"text-align: right;\">\n",
       "      <th></th>\n",
       "      <th>TITLE</th>\n",
       "      <th>Series</th>\n",
       "      <th>PLACE</th>\n",
       "      <th>DATE</th>\n",
       "      <th>TIME</th>\n",
       "    </tr>\n",
       "  </thead>\n",
       "  <tbody>\n",
       "    <tr>\n",
       "      <th>0</th>\n",
       "      <td>3rd T20I</td>\n",
       "      <td>NEW ZEALAND TOUR OF INDIA T20 SERIES 2022-23</td>\n",
       "      <td>Narendra Modi Stadium, Ahmedabad</td>\n",
       "      <td>1 FEB 2023</td>\n",
       "      <td>7:00 PM IST</td>\n",
       "    </tr>\n",
       "    <tr>\n",
       "      <th>1</th>\n",
       "      <td>1st Test</td>\n",
       "      <td>AUSTRALIA TOUR OF INDIA TEST SERIES 2022-23</td>\n",
       "      <td>Vidarbha Cricket Association Stadium, Nagpur</td>\n",
       "      <td>9 FEB 2023</td>\n",
       "      <td>9:30 AM IST</td>\n",
       "    </tr>\n",
       "    <tr>\n",
       "      <th>2</th>\n",
       "      <td>2nd Test</td>\n",
       "      <td>AUSTRALIA TOUR OF INDIA TEST SERIES 2022-23</td>\n",
       "      <td>Arun Jaitley Stadium, Delhi</td>\n",
       "      <td>17 FEB 2023</td>\n",
       "      <td>9:30 AM IST</td>\n",
       "    </tr>\n",
       "    <tr>\n",
       "      <th>3</th>\n",
       "      <td>3rd Test</td>\n",
       "      <td>AUSTRALIA TOUR OF INDIA TEST SERIES 2022-23</td>\n",
       "      <td>Himachal Pradesh Cricket Association Stadium, ...</td>\n",
       "      <td>1 MAR 2023</td>\n",
       "      <td>9:30 AM IST</td>\n",
       "    </tr>\n",
       "    <tr>\n",
       "      <th>4</th>\n",
       "      <td>4th Test</td>\n",
       "      <td>AUSTRALIA TOUR OF INDIA TEST SERIES 2022-23</td>\n",
       "      <td>Narendra Modi Stadium, Ahmedabad</td>\n",
       "      <td>9 MAR 2023</td>\n",
       "      <td>9:30 AM IST</td>\n",
       "    </tr>\n",
       "    <tr>\n",
       "      <th>5</th>\n",
       "      <td>1st ODI</td>\n",
       "      <td>AUSTRALIA TOUR OF INDIA ODI SERIES 2022-23</td>\n",
       "      <td>Wankhede Stadium, Mumbai</td>\n",
       "      <td>17 MAR 2023</td>\n",
       "      <td>1:30 PM IST</td>\n",
       "    </tr>\n",
       "    <tr>\n",
       "      <th>6</th>\n",
       "      <td>2nd ODI</td>\n",
       "      <td>AUSTRALIA TOUR OF INDIA ODI SERIES 2022-23</td>\n",
       "      <td>Dr YS Rajasekhara Reddy ACA-VDCA Cricket Stadi...</td>\n",
       "      <td>19 MAR 2023</td>\n",
       "      <td>1:30 PM IST</td>\n",
       "    </tr>\n",
       "    <tr>\n",
       "      <th>7</th>\n",
       "      <td>3rd ODI</td>\n",
       "      <td>AUSTRALIA TOUR OF INDIA ODI SERIES 2022-23</td>\n",
       "      <td>MA Chidambaram Stadium, Chennai</td>\n",
       "      <td>22 MAR 2023</td>\n",
       "      <td>1:30 PM IST</td>\n",
       "    </tr>\n",
       "  </tbody>\n",
       "</table>\n",
       "</div>"
      ],
      "text/plain": [
       "      TITLE                                        Series  \\\n",
       "0  3rd T20I  NEW ZEALAND TOUR OF INDIA T20 SERIES 2022-23   \n",
       "1  1st Test   AUSTRALIA TOUR OF INDIA TEST SERIES 2022-23   \n",
       "2  2nd Test   AUSTRALIA TOUR OF INDIA TEST SERIES 2022-23   \n",
       "3  3rd Test   AUSTRALIA TOUR OF INDIA TEST SERIES 2022-23   \n",
       "4  4th Test   AUSTRALIA TOUR OF INDIA TEST SERIES 2022-23   \n",
       "5   1st ODI    AUSTRALIA TOUR OF INDIA ODI SERIES 2022-23   \n",
       "6   2nd ODI    AUSTRALIA TOUR OF INDIA ODI SERIES 2022-23   \n",
       "7   3rd ODI    AUSTRALIA TOUR OF INDIA ODI SERIES 2022-23   \n",
       "\n",
       "                                               PLACE         DATE         TIME  \n",
       "0                   Narendra Modi Stadium, Ahmedabad   1 FEB 2023  7:00 PM IST  \n",
       "1       Vidarbha Cricket Association Stadium, Nagpur   9 FEB 2023  9:30 AM IST  \n",
       "2                        Arun Jaitley Stadium, Delhi  17 FEB 2023  9:30 AM IST  \n",
       "3  Himachal Pradesh Cricket Association Stadium, ...   1 MAR 2023  9:30 AM IST  \n",
       "4                   Narendra Modi Stadium, Ahmedabad   9 MAR 2023  9:30 AM IST  \n",
       "5                           Wankhede Stadium, Mumbai  17 MAR 2023  1:30 PM IST  \n",
       "6  Dr YS Rajasekhara Reddy ACA-VDCA Cricket Stadi...  19 MAR 2023  1:30 PM IST  \n",
       "7                    MA Chidambaram Stadium, Chennai  22 MAR 2023  1:30 PM IST  "
      ]
     },
     "execution_count": 17,
     "metadata": {},
     "output_type": "execute_result"
    }
   ],
   "source": [
    "data"
   ]
  },
  {
   "cell_type": "code",
   "execution_count": null,
   "id": "d4223525",
   "metadata": {},
   "outputs": [],
   "source": []
  }
 ],
 "metadata": {
  "kernelspec": {
   "display_name": "Python 3 (ipykernel)",
   "language": "python",
   "name": "python3"
  },
  "language_info": {
   "codemirror_mode": {
    "name": "ipython",
    "version": 3
   },
   "file_extension": ".py",
   "mimetype": "text/x-python",
   "name": "python",
   "nbconvert_exporter": "python",
   "pygments_lexer": "ipython3",
   "version": "3.9.12"
  }
 },
 "nbformat": 4,
 "nbformat_minor": 5
}
