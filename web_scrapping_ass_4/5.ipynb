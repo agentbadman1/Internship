{
 "cells": [
  {
   "cell_type": "code",
   "execution_count": 1,
   "id": "c1ce2522",
   "metadata": {},
   "outputs": [],
   "source": [
    "import selenium\n",
    "import pandas as pd\n",
    "from selenium import webdriver\n",
    "import warnings\n",
    "warnings.filterwarnings(\"ignore\")\n",
    "from selenium.webdriver.common.by import By\n",
    "import time\n",
    "from selenium.common.exceptions import NoSuchElementException"
   ]
  },
  {
   "cell_type": "code",
   "execution_count": 2,
   "id": "a936e25f",
   "metadata": {},
   "outputs": [],
   "source": [
    "driver = webdriver.Chrome(r\"chromedriver.exe\")"
   ]
  },
  {
   "cell_type": "code",
   "execution_count": 3,
   "id": "0aa34645",
   "metadata": {},
   "outputs": [],
   "source": [
    "driver.maximize_window()"
   ]
  },
  {
   "cell_type": "code",
   "execution_count": 4,
   "id": "0118ad93",
   "metadata": {},
   "outputs": [],
   "source": [
    "driver.get(r'https://www.billboard.com/')"
   ]
  },
  {
   "cell_type": "code",
   "execution_count": 6,
   "id": "a606417b",
   "metadata": {},
   "outputs": [],
   "source": [
    "button = driver.find_element(By.XPATH,'/html/body/div[3]/header/div/div[4]/div/div[1]/div[1]/button')\n",
    "button.click()"
   ]
  },
  {
   "cell_type": "code",
   "execution_count": 7,
   "id": "47450675",
   "metadata": {},
   "outputs": [],
   "source": [
    "bb = driver.find_element(By.XPATH,'/html/body/div[3]/div[9]/div/div/div/ul/li[1]/h3/a')\n",
    "bb.click()"
   ]
  },
  {
   "cell_type": "code",
   "execution_count": 8,
   "id": "ee942d25",
   "metadata": {},
   "outputs": [],
   "source": [
    "cc = driver.find_element(By.XPATH,'/html/body/div[3]/main/div[2]/div[1]/div[1]/div/div/div[1]/div/div[2]/span/a')\n",
    "cc.click()"
   ]
  },
  {
   "cell_type": "code",
   "execution_count": 9,
   "id": "a6a69a25",
   "metadata": {},
   "outputs": [],
   "source": [
    "song = []\n",
    "artist = []\n",
    "lw = []\n",
    "pr = []\n",
    "wob = []\n",
    "add = []"
   ]
  },
  {
   "cell_type": "code",
   "execution_count": 10,
   "id": "029637ee",
   "metadata": {},
   "outputs": [],
   "source": [
    "try:\n",
    "    song_tag = driver.find_elements(By.XPATH,'//h3[@class=\"c-title  a-no-trucate a-font-primary-bold-s u-letter-spacing-0021 u-font-size-23@tablet lrv-u-font-size-16 u-line-height-125 u-line-height-normal@mobile-max a-truncate-ellipsis u-max-width-245 u-max-width-230@tablet-only u-letter-spacing-0028@tablet\"]')\n",
    "    for i in song_tag:\n",
    "        j = i.text\n",
    "        song.append(j)\n",
    "except NoSuchElementException as e:\n",
    "    song.append(\"-\")"
   ]
  },
  {
   "cell_type": "code",
   "execution_count": 11,
   "id": "a1cac1e7",
   "metadata": {},
   "outputs": [],
   "source": [
    "try:\n",
    "    song_tag = driver.find_elements(By.XPATH,'//h3[@class=\"c-title  a-no-trucate a-font-primary-bold-s u-letter-spacing-0021 lrv-u-font-size-18@tablet lrv-u-font-size-16 u-line-height-125 u-line-height-normal@mobile-max a-truncate-ellipsis u-max-width-330 u-max-width-230@tablet-only\"]')\n",
    "    for i in song_tag:\n",
    "        j = i.text\n",
    "        song.append(j)\n",
    "except NoSuchElementException as e:\n",
    "    song.append(\"-\")"
   ]
  },
  {
   "cell_type": "code",
   "execution_count": 12,
   "id": "efee2bf8",
   "metadata": {},
   "outputs": [],
   "source": [
    "try:\n",
    "    artist_tag = driver.find_elements(By.XPATH,'//span[@class=\"c-label  a-no-trucate a-font-primary-s lrv-u-font-size-14@mobile-max u-line-height-normal@mobile-max u-letter-spacing-0021 lrv-u-display-block a-truncate-ellipsis-2line u-max-width-330 u-max-width-230@tablet-only u-font-size-20@tablet\"]')\n",
    "    for i in artist_tag:\n",
    "        j = i.text\n",
    "        artist.append(j)\n",
    "except NoSuchElementException as e:\n",
    "    artist.append(\"-\")"
   ]
  },
  {
   "cell_type": "code",
   "execution_count": 13,
   "id": "987862b4",
   "metadata": {},
   "outputs": [],
   "source": [
    "try:\n",
    "    artist_tag = driver.find_elements(By.XPATH,'//span[@class=\"c-label  a-no-trucate a-font-primary-s lrv-u-font-size-14@mobile-max u-line-height-normal@mobile-max u-letter-spacing-0021 lrv-u-display-block a-truncate-ellipsis-2line u-max-width-330 u-max-width-230@tablet-only\"]')\n",
    "    for i in artist_tag:\n",
    "        j = i.text\n",
    "        artist.append(j)\n",
    "except NoSuchElementException as e:\n",
    "    artist.append(\"-\")"
   ]
  },
  {
   "cell_type": "code",
   "execution_count": 14,
   "id": "188f67a3",
   "metadata": {},
   "outputs": [],
   "source": [
    "try:\n",
    "    lw_tag = driver.find_elements(By.XPATH,'//span[@class=\"c-label  a-font-primary-bold-l a-font-primary-m@mobile-max u-font-weight-normal@mobile-max lrv-u-padding-tb-050@mobile-max u-font-size-32@tablet\"]')\n",
    "    for i in lw_tag[0:1]:\n",
    "        j = i.text\n",
    "        lw.append(j)\n",
    "except NoSuchElementException as e:\n",
    "    lw.append(\"-\")"
   ]
  },
  {
   "cell_type": "code",
   "execution_count": 15,
   "id": "5653086f",
   "metadata": {},
   "outputs": [],
   "source": [
    "try:\n",
    "    pr_tag = driver.find_elements(By.XPATH,'//span[@class=\"c-label  a-font-primary-bold-l a-font-primary-m@mobile-max u-font-weight-normal@mobile-max lrv-u-padding-tb-050@mobile-max u-font-size-32@tablet\"]')\n",
    "    for i in pr_tag[1:2]:\n",
    "        j = i.text\n",
    "        pr.append(j)\n",
    "except NoSuchElementException as e:\n",
    "    pr.append(\"-\")"
   ]
  },
  {
   "cell_type": "code",
   "execution_count": 16,
   "id": "42edfa7e",
   "metadata": {},
   "outputs": [
    {
     "data": {
      "text/plain": [
       "['1']"
      ]
     },
     "execution_count": 16,
     "metadata": {},
     "output_type": "execute_result"
    }
   ],
   "source": [
    "pr"
   ]
  },
  {
   "cell_type": "code",
   "execution_count": 17,
   "id": "676ea831",
   "metadata": {},
   "outputs": [],
   "source": [
    "try:\n",
    "    wob_tag = driver.find_elements(By.XPATH,'//span[@class=\"c-label  a-font-primary-bold-l a-font-primary-m@mobile-max u-font-weight-normal@mobile-max lrv-u-padding-tb-050@mobile-max u-font-size-32@tablet\"]')\n",
    "    for i in wob_tag[2:3]:\n",
    "        j = i.text\n",
    "        wob.append(j)\n",
    "except NoSuchElementException as e:\n",
    "    wob.append(\"-\")"
   ]
  },
  {
   "cell_type": "code",
   "execution_count": 18,
   "id": "1dc0821a",
   "metadata": {},
   "outputs": [
    {
     "data": {
      "text/plain": [
       "['2']"
      ]
     },
     "execution_count": 18,
     "metadata": {},
     "output_type": "execute_result"
    }
   ],
   "source": [
    "wob"
   ]
  },
  {
   "cell_type": "code",
   "execution_count": 21,
   "id": "29395b7f",
   "metadata": {},
   "outputs": [],
   "source": [
    "try:\n",
    "    add_tag = driver.find_elements(By.XPATH,'//span[@class=\"c-label  a-font-primary-m lrv-u-padding-tb-050@mobile-max\"]')\n",
    "    for i in add_tag:\n",
    "        j = i.text\n",
    "        if len(j) != 0:\n",
    "            add.append(j)\n",
    "except NoSuchElementException as e:\n",
    "    add.append(\"-\")"
   ]
  },
  {
   "cell_type": "code",
   "execution_count": 39,
   "id": "31057037",
   "metadata": {},
   "outputs": [],
   "source": [
    "lw = add[::3]\n",
    "pr = add[1::3]\n",
    "wob = add[2::3]"
   ]
  },
  {
   "cell_type": "code",
   "execution_count": 42,
   "id": "444f3c6c",
   "metadata": {},
   "outputs": [],
   "source": [
    "lw.insert(0,\"1\")\n",
    "pr.insert(0,\"1\")\n",
    "wob.insert(0,\"2\")"
   ]
  },
  {
   "cell_type": "code",
   "execution_count": 44,
   "id": "7128661a",
   "metadata": {},
   "outputs": [],
   "source": [
    "data = pd.DataFrame({\"SONG\":song,\"ARTIST\":artist,\n",
    "                    \"LAST WEEK RANK\":lw,\"PEAK RANK\":pr,\n",
    "                    \"WEEK ON CAHRT\":wob})"
   ]
  },
  {
   "cell_type": "code",
   "execution_count": 45,
   "id": "36913895",
   "metadata": {},
   "outputs": [
    {
     "data": {
      "text/html": [
       "<div>\n",
       "<style scoped>\n",
       "    .dataframe tbody tr th:only-of-type {\n",
       "        vertical-align: middle;\n",
       "    }\n",
       "\n",
       "    .dataframe tbody tr th {\n",
       "        vertical-align: top;\n",
       "    }\n",
       "\n",
       "    .dataframe thead th {\n",
       "        text-align: right;\n",
       "    }\n",
       "</style>\n",
       "<table border=\"1\" class=\"dataframe\">\n",
       "  <thead>\n",
       "    <tr style=\"text-align: right;\">\n",
       "      <th></th>\n",
       "      <th>SONG</th>\n",
       "      <th>ARTIST</th>\n",
       "      <th>LAST WEEK RANK</th>\n",
       "      <th>PEAK RANK</th>\n",
       "      <th>WEEK ON CAHRT</th>\n",
       "    </tr>\n",
       "  </thead>\n",
       "  <tbody>\n",
       "    <tr>\n",
       "      <th>0</th>\n",
       "      <td>Flowers</td>\n",
       "      <td>Miley Cyrus</td>\n",
       "      <td>1</td>\n",
       "      <td>1</td>\n",
       "      <td>2</td>\n",
       "    </tr>\n",
       "    <tr>\n",
       "      <th>1</th>\n",
       "      <td>Kill Bill</td>\n",
       "      <td>SZA</td>\n",
       "      <td>2</td>\n",
       "      <td>2</td>\n",
       "      <td>7</td>\n",
       "    </tr>\n",
       "    <tr>\n",
       "      <th>2</th>\n",
       "      <td>Anti-Hero</td>\n",
       "      <td>Taylor Swift</td>\n",
       "      <td>3</td>\n",
       "      <td>1</td>\n",
       "      <td>14</td>\n",
       "    </tr>\n",
       "    <tr>\n",
       "      <th>3</th>\n",
       "      <td>Creepin'</td>\n",
       "      <td>Metro Boomin, The Weeknd &amp; 21 Savage</td>\n",
       "      <td>4</td>\n",
       "      <td>4</td>\n",
       "      <td>8</td>\n",
       "    </tr>\n",
       "    <tr>\n",
       "      <th>4</th>\n",
       "      <td>Unholy</td>\n",
       "      <td>Sam Smith &amp; Kim Petras</td>\n",
       "      <td>5</td>\n",
       "      <td>1</td>\n",
       "      <td>18</td>\n",
       "    </tr>\n",
       "    <tr>\n",
       "      <th>...</th>\n",
       "      <td>...</td>\n",
       "      <td>...</td>\n",
       "      <td>...</td>\n",
       "      <td>...</td>\n",
       "      <td>...</td>\n",
       "    </tr>\n",
       "    <tr>\n",
       "      <th>95</th>\n",
       "      <td>Do It Again</td>\n",
       "      <td>NLE Choppa &amp; 2Rare</td>\n",
       "      <td>-</td>\n",
       "      <td>96</td>\n",
       "      <td>1</td>\n",
       "    </tr>\n",
       "    <tr>\n",
       "      <th>96</th>\n",
       "      <td>Miss You</td>\n",
       "      <td>Oliver Tree &amp; Robin Schulz</td>\n",
       "      <td>96</td>\n",
       "      <td>84</td>\n",
       "      <td>9</td>\n",
       "    </tr>\n",
       "    <tr>\n",
       "      <th>97</th>\n",
       "      <td>Back End</td>\n",
       "      <td>Finesse2Tymes</td>\n",
       "      <td>-</td>\n",
       "      <td>98</td>\n",
       "      <td>1</td>\n",
       "    </tr>\n",
       "    <tr>\n",
       "      <th>98</th>\n",
       "      <td>Open Arms</td>\n",
       "      <td>SZA Featuring Travis Scott</td>\n",
       "      <td>89</td>\n",
       "      <td>54</td>\n",
       "      <td>6</td>\n",
       "    </tr>\n",
       "    <tr>\n",
       "      <th>99</th>\n",
       "      <td>Spit In My Face!</td>\n",
       "      <td>ThxSoMch</td>\n",
       "      <td>-</td>\n",
       "      <td>100</td>\n",
       "      <td>1</td>\n",
       "    </tr>\n",
       "  </tbody>\n",
       "</table>\n",
       "<p>100 rows × 5 columns</p>\n",
       "</div>"
      ],
      "text/plain": [
       "                SONG                                ARTIST LAST WEEK RANK  \\\n",
       "0            Flowers                           Miley Cyrus              1   \n",
       "1          Kill Bill                                   SZA              2   \n",
       "2          Anti-Hero                          Taylor Swift              3   \n",
       "3           Creepin'  Metro Boomin, The Weeknd & 21 Savage              4   \n",
       "4             Unholy                Sam Smith & Kim Petras              5   \n",
       "..               ...                                   ...            ...   \n",
       "95       Do It Again                    NLE Choppa & 2Rare              -   \n",
       "96          Miss You            Oliver Tree & Robin Schulz             96   \n",
       "97          Back End                         Finesse2Tymes              -   \n",
       "98         Open Arms            SZA Featuring Travis Scott             89   \n",
       "99  Spit In My Face!                              ThxSoMch              -   \n",
       "\n",
       "   PEAK RANK WEEK ON CAHRT  \n",
       "0          1             2  \n",
       "1          2             7  \n",
       "2          1            14  \n",
       "3          4             8  \n",
       "4          1            18  \n",
       "..       ...           ...  \n",
       "95        96             1  \n",
       "96        84             9  \n",
       "97        98             1  \n",
       "98        54             6  \n",
       "99       100             1  \n",
       "\n",
       "[100 rows x 5 columns]"
      ]
     },
     "execution_count": 45,
     "metadata": {},
     "output_type": "execute_result"
    }
   ],
   "source": [
    "data"
   ]
  },
  {
   "cell_type": "code",
   "execution_count": null,
   "id": "545f7089",
   "metadata": {},
   "outputs": [],
   "source": []
  }
 ],
 "metadata": {
  "kernelspec": {
   "display_name": "Python 3 (ipykernel)",
   "language": "python",
   "name": "python3"
  },
  "language_info": {
   "codemirror_mode": {
    "name": "ipython",
    "version": 3
   },
   "file_extension": ".py",
   "mimetype": "text/x-python",
   "name": "python",
   "nbconvert_exporter": "python",
   "pygments_lexer": "ipython3",
   "version": "3.9.12"
  }
 },
 "nbformat": 4,
 "nbformat_minor": 5
}
